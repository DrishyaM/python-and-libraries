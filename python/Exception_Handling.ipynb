{
  "nbformat": 4,
  "nbformat_minor": 0,
  "metadata": {
    "colab": {
      "provenance": []
    },
    "kernelspec": {
      "name": "python3",
      "display_name": "Python 3"
    },
    "language_info": {
      "name": "python"
    }
  },
  "cells": [
    {
      "cell_type": "markdown",
      "source": [
        "# **What are Errors?**\n",
        " - Errors are issues in the code that prevent it from executing successfully.\n",
        "\n",
        "\n",
        " **Types of Errors**\n",
        "  - 1. Synatx Errors\n",
        "  - 2. Runtime Erros\n",
        "  - 3. Logical Errors"
      ],
      "metadata": {
        "id": "MF49BV7BgCl5"
      }
    },
    {
      "cell_type": "markdown",
      "source": [
        "**1. Syntax Errors**\n",
        "   - Occur when the code violates python's syntax rules.\n",
        "   - Detetcted before execution.\n",
        "   - Example: Missing colons, unmatched parentheses.\n",
        "\n",
        "    _   missing a colon at the end of the if statement\n",
        "    \n",
        "    if 5>3\n",
        "    print(\"this willl cause a syntax error\")\n",
        "\n",
        "    Error Message :\n",
        "     Syntax Error: invalid syntax\n",
        "\n",
        "\n",
        "  **The python interpreter cannot undersstand the code because of incorrect syntax, such as missing colons, unmatched parentheses. or msissplled keywords.**"
      ],
      "metadata": {
        "id": "SklmJRdbgIUR"
      }
    },
    {
      "cell_type": "code",
      "source": [
        "if 5>3\n",
        "print(\"this will cause a syntax error\")"
      ],
      "metadata": {
        "colab": {
          "base_uri": "https://localhost:8080/",
          "height": 106
        },
        "id": "JQ6SFhXEgOpo",
        "outputId": "aac0f789-0f82-4c83-8157-10a794bc50ef"
      },
      "execution_count": null,
      "outputs": [
        {
          "output_type": "error",
          "ename": "SyntaxError",
          "evalue": "expected ':' (<ipython-input-1-8a42931cc418>, line 1)",
          "traceback": [
            "\u001b[0;36m  File \u001b[0;32m\"<ipython-input-1-8a42931cc418>\"\u001b[0;36m, line \u001b[0;32m1\u001b[0m\n\u001b[0;31m    if 5>3\u001b[0m\n\u001b[0m          ^\u001b[0m\n\u001b[0;31mSyntaxError\u001b[0m\u001b[0;31m:\u001b[0m expected ':'\n"
          ]
        }
      ]
    },
    {
      "cell_type": "markdown",
      "source": [
        "**2. Runtime Errors**\n",
        "\n",
        " - Occur during program execution\n",
        " - Example: Division by zero , accessing undefined variable\n",
        "\n",
        "\n",
        "\n",
        "\n",
        " Example Code\n",
        " Division by zero :\n",
        "\n",
        "\n",
        " x=1=/0\n",
        " print(x)\n",
        "\n",
        "\n",
        " Error Message :\n",
        " zero Division Error : division by zero\n",
        "\n",
        "\n",
        "  **The program syntax is correct, but the operation fails at runtime(eg, dividing by zero, accessing an undefined variable , or file not found).**"
      ],
      "metadata": {
        "id": "AQbtGb64g_hJ"
      }
    },
    {
      "cell_type": "code",
      "source": [
        "x=1/0\n",
        "print(x)"
      ],
      "metadata": {
        "colab": {
          "base_uri": "https://localhost:8080/",
          "height": 159
        },
        "id": "CAAnc_H0g7qy",
        "outputId": "2eaf4ce3-9bd1-4720-f990-2765c981e066"
      },
      "execution_count": null,
      "outputs": [
        {
          "output_type": "error",
          "ename": "ZeroDivisionError",
          "evalue": "division by zero",
          "traceback": [
            "\u001b[0;31m---------------------------------------------------------------------------\u001b[0m",
            "\u001b[0;31mZeroDivisionError\u001b[0m                         Traceback (most recent call last)",
            "\u001b[0;32m<ipython-input-2-5db56e641f9b>\u001b[0m in \u001b[0;36m<cell line: 0>\u001b[0;34m()\u001b[0m\n\u001b[0;32m----> 1\u001b[0;31m \u001b[0mx\u001b[0m\u001b[0;34m=\u001b[0m\u001b[0;36m1\u001b[0m\u001b[0;34m/\u001b[0m\u001b[0;36m0\u001b[0m\u001b[0;34m\u001b[0m\u001b[0;34m\u001b[0m\u001b[0m\n\u001b[0m\u001b[1;32m      2\u001b[0m \u001b[0mprint\u001b[0m\u001b[0;34m(\u001b[0m\u001b[0mx\u001b[0m\u001b[0;34m)\u001b[0m\u001b[0;34m\u001b[0m\u001b[0;34m\u001b[0m\u001b[0m\n",
            "\u001b[0;31mZeroDivisionError\u001b[0m: division by zero"
          ]
        }
      ]
    },
    {
      "cell_type": "markdown",
      "source": [
        "**3. Logical Errors**\n",
        " - The program runs but gives incorrect results due to logic flaws,\n",
        " - Example: incorrect formula or condition.\n",
        "\n",
        "\n",
        "\n",
        " incorrect formula for calculating the area of a rectangle\n",
        "\n",
        "length =5\n",
        "\n",
        "width= 10\n",
        "\n",
        "area = length +width # should be length * width\n",
        "\n",
        "print(\"Area;\",area)\n",
        "\n",
        "ouput:\n",
        "Area :15\n",
        "\n",
        "\n",
        "\n",
        "\n",
        "\n",
        "\n",
        "**The program runs successsfully but, the result is wrong because of a mistake in the logic of formula**"
      ],
      "metadata": {
        "id": "ysudHoY5hW8Z"
      }
    },
    {
      "cell_type": "code",
      "source": [
        "#incorrect formula for calculating the area of rectangle\n",
        "\n",
        "length=5\n",
        "width=10\n",
        "\n",
        "area=length + width #actually it should be length*width\n",
        "print(\"Area\",area)"
      ],
      "metadata": {
        "colab": {
          "base_uri": "https://localhost:8080/"
        },
        "id": "y8yPsOUejImb",
        "outputId": "7aa11144-eecf-4a6a-f684-48ae46ed8aa7"
      },
      "execution_count": null,
      "outputs": [
        {
          "output_type": "stream",
          "name": "stdout",
          "text": [
            "Area 15\n"
          ]
        }
      ]
    },
    {
      "cell_type": "markdown",
      "source": [
        "#Exception Handling\n",
        "Exception handling is a programming concept used to manage error or unexpected conditions that occured during the execution of a program .it allows the program to continue running of failgracefully instead of crashing .\n",
        "\n",
        "# Use Exception Handling?\n",
        " - To prevent the entire program from crashing due to runtime errors.\n",
        "\n",
        " - To provide informative error messages.\n",
        "\n",
        " - To allow recovery or alternative execution paths.\n",
        "#Common Terms\n",
        "\n",
        " - Exception: An error that occurs during program execution.\n",
        "\n",
        " - Try block: Code that might throw an exception.\n",
        "\n",
        " - Except block: Code that runs if an exception occurs.\n",
        "\n",
        " - Finally block: Code that always runs, whether an exception occurred or not.\n",
        "\n",
        " - Raise: Manually trigger an exception."
      ],
      "metadata": {
        "id": "s88e7tzgjsw6"
      }
    },
    {
      "cell_type": "code",
      "source": [
        "try:\n",
        "  num=int(input(\"Enter a number:\"))\n",
        "  result=10/num\n",
        "except ZeroDivisionError:\n",
        "  print(\"Cannot divide by zero!\")\n",
        "except ValueError:\n",
        "  print(\"Please enter a valid number!\")\n",
        "else:\n",
        "  print(\"Division successful! Result:\",result)\n",
        "finally:\n",
        "  print(\"This block always runs\")"
      ],
      "metadata": {
        "colab": {
          "base_uri": "https://localhost:8080/"
        },
        "id": "vC0eoORBhQ-5",
        "outputId": "561a82f7-1426-437a-a774-f2570285a1cd"
      },
      "execution_count": null,
      "outputs": [
        {
          "output_type": "stream",
          "name": "stdout",
          "text": [
            "Enter a number:0\n",
            "Cannot divide by zero!\n",
            "This block always runs\n"
          ]
        }
      ]
    },
    {
      "cell_type": "markdown",
      "source": [
        "# What are Execptions?\n",
        "\n",
        "Exeptions are runtime errros that occur during program execution, disrupting the normal flow of a program\n",
        "\n",
        "**Common Built-in Exceptions:**\n",
        " - ZeroDivisionErrors\n",
        " - ValueError\n",
        " - KeyError\n",
        " - FileNotFoundError\n",
        " - indexError"
      ],
      "metadata": {
        "id": "J_Aa0fijkGAi"
      }
    },
    {
      "cell_type": "markdown",
      "source": [
        "**Why Handle Exceptions?**\n",
        " - To control the program's behavior in error scenarios.\n",
        " - To provide meaningful error messages to users."
      ],
      "metadata": {
        "id": "d_TiRSwylUk8"
      }
    },
    {
      "cell_type": "markdown",
      "source": [
        "## The Try-Except Block\n",
        "\n",
        "**Basis Structrue:**\n",
        "\n",
        "(try:\n",
        "  code that might raise an exception\n",
        "\n",
        "  except Exception Type:\n",
        "    code to handle the exception)\n",
        "\n",
        "\n",
        "Example code:\n",
        "\n",
        "try:\n",
        "\n",
        "x= int (input(\"Eneter a number:\"))\n",
        "y=10/x\n",
        "\n",
        "exceptzeroDivisionError:\n",
        "\n",
        "print(\"Cannot divide by zero\")"
      ],
      "metadata": {
        "id": "663VJ6kvlXdD"
      }
    },
    {
      "cell_type": "code",
      "source": [
        "try:\n",
        "  x=int(input(\"Enter a number:\"))\n",
        "  y=10/x\n",
        "  print(y)\n",
        "except ZeroDivisionError:\n",
        "  print(\"Cannot divide by zero\")"
      ],
      "metadata": {
        "colab": {
          "base_uri": "https://localhost:8080/"
        },
        "id": "HKOs47tEi7D7",
        "outputId": "9e3fb103-57dd-4fcb-eccd-56f8095e4c3c"
      },
      "execution_count": null,
      "outputs": [
        {
          "output_type": "stream",
          "name": "stdout",
          "text": [
            "Enter a number:0\n",
            "Cannot divide by zero\n"
          ]
        }
      ]
    },
    {
      "cell_type": "code",
      "source": [
        "try:\n",
        "  x=int(input(\"Enter a number\"))\n",
        "  y=10/x\n",
        "except ZeroDivisionError as e:     #e is a variable\n",
        "  print(e)"
      ],
      "metadata": {
        "colab": {
          "base_uri": "https://localhost:8080/"
        },
        "id": "km3Hu2v_mJB0",
        "outputId": "b0ba0a06-15d2-42a4-bad3-19faa82639a7"
      },
      "execution_count": null,
      "outputs": [
        {
          "output_type": "stream",
          "name": "stdout",
          "text": [
            "Enter a number0\n",
            "division by zero\n"
          ]
        }
      ]
    },
    {
      "cell_type": "code",
      "source": [
        "try:\n",
        "  print(a)  #The a is not defined and it will show error\n",
        "\n",
        "except:\n",
        "  print(\"Error occured\")\n"
      ],
      "metadata": {
        "colab": {
          "base_uri": "https://localhost:8080/"
        },
        "id": "ynecnhYIml8z",
        "outputId": "7ed413f6-ecae-4c66-c603-053f9d963348"
      },
      "execution_count": null,
      "outputs": [
        {
          "output_type": "stream",
          "name": "stdout",
          "text": [
            "Error occured\n"
          ]
        }
      ]
    },
    {
      "cell_type": "code",
      "source": [
        "print(a)\n",
        "print(\"Hello world\")"
      ],
      "metadata": {
        "colab": {
          "base_uri": "https://localhost:8080/",
          "height": 159
        },
        "id": "EdHPlq2zm5o7",
        "outputId": "1a3dbc44-1e11-4125-f83e-9052175d5b95"
      },
      "execution_count": null,
      "outputs": [
        {
          "output_type": "error",
          "ename": "NameError",
          "evalue": "name 'a' is not defined",
          "traceback": [
            "\u001b[0;31m---------------------------------------------------------------------------\u001b[0m",
            "\u001b[0;31mNameError\u001b[0m                                 Traceback (most recent call last)",
            "\u001b[0;32m<ipython-input-11-d6b724130fc2>\u001b[0m in \u001b[0;36m<cell line: 0>\u001b[0;34m()\u001b[0m\n\u001b[0;32m----> 1\u001b[0;31m \u001b[0mprint\u001b[0m\u001b[0;34m(\u001b[0m\u001b[0ma\u001b[0m\u001b[0;34m)\u001b[0m\u001b[0;34m\u001b[0m\u001b[0;34m\u001b[0m\u001b[0m\n\u001b[0m\u001b[1;32m      2\u001b[0m \u001b[0mprint\u001b[0m\u001b[0;34m(\u001b[0m\u001b[0;34m\"Hello world\"\u001b[0m\u001b[0;34m)\u001b[0m\u001b[0;34m\u001b[0m\u001b[0;34m\u001b[0m\u001b[0m\n",
            "\u001b[0;31mNameError\u001b[0m: name 'a' is not defined"
          ]
        }
      ]
    },
    {
      "cell_type": "code",
      "source": [
        "try:\n",
        "  print(a)\n",
        "except:\n",
        "  print(\"Error occured\")\n",
        "print(\"hello world\")"
      ],
      "metadata": {
        "colab": {
          "base_uri": "https://localhost:8080/"
        },
        "id": "LGRaGQO2naK7",
        "outputId": "130008bf-759b-4310-b774-e7744131ec5f"
      },
      "execution_count": null,
      "outputs": [
        {
          "output_type": "stream",
          "name": "stdout",
          "text": [
            "Error occured\n",
            "hello world\n"
          ]
        }
      ]
    },
    {
      "cell_type": "markdown",
      "source": [
        "`If except we do, The error will not show thats the use of the try-exept block`\n",
        "`And it will not stop the code it just skip the error`"
      ],
      "metadata": {
        "id": "LawJvd4HoEa0"
      }
    },
    {
      "cell_type": "markdown",
      "source": [
        "# Else and Finally Blocks"
      ],
      "metadata": {
        "id": "IeywzXCtoMiM"
      }
    },
    {
      "cell_type": "markdown",
      "source": [
        "## Else Block :\n",
        "\n",
        "      Runs only if no exceptions occur.\n",
        "\n",
        "\n",
        "Example Code :\n",
        "\n",
        "    try:\n",
        "      result =10/2\n",
        "    except ZeroDivisionError:\n",
        "      print(\"Error\")\n",
        "    else:\n",
        "      print(\"Result:\", result)"
      ],
      "metadata": {
        "id": "e1RdqhTKo8vs"
      }
    },
    {
      "cell_type": "code",
      "source": [
        "try:\n",
        "  result =10/2\n",
        "except ZeroDivisionError:\n",
        "  print(\"Error\")\n",
        "else:\n",
        "  print(\"Result:\", result)"
      ],
      "metadata": {
        "colab": {
          "base_uri": "https://localhost:8080/"
        },
        "id": "nT-NAZIOnsc7",
        "outputId": "e3183f85-6925-451c-c436-e548a996c903"
      },
      "execution_count": null,
      "outputs": [
        {
          "output_type": "stream",
          "name": "stdout",
          "text": [
            "Result: 5.0\n"
          ]
        }
      ]
    },
    {
      "cell_type": "markdown",
      "source": [
        "## Finally Block:\n",
        "\n",
        " - Always runs, regardlesss of whether an exception occurred\n",
        " - Useful for cleanup (ef, closing files)\n",
        "\n",
        "\n",
        " Example Code:\n",
        "\n",
        "        try:\n",
        "          file_=open(\"data.txt\",\"r\")\n",
        "        except FileNotFoundError:\n",
        "          print(\"File not found!\")\n",
        "        finally:\n",
        "          print(\"End of program.\")"
      ],
      "metadata": {
        "id": "WSwd1_hxpRQc"
      }
    },
    {
      "cell_type": "code",
      "source": [
        "try:\n",
        "  file_=open(\"data.txt\",\"r\")\n",
        "except FileNotFoundError:\n",
        "  print(\"File not found!\")\n",
        "finally:\n",
        "  print(\"End of program.\")"
      ],
      "metadata": {
        "colab": {
          "base_uri": "https://localhost:8080/"
        },
        "id": "-nMDViRzpK2F",
        "outputId": "b023fe2c-2fbe-47b0-ec57-2644397162b6"
      },
      "execution_count": null,
      "outputs": [
        {
          "output_type": "stream",
          "name": "stdout",
          "text": [
            "File not found!\n",
            "End of program.\n"
          ]
        }
      ]
    },
    {
      "cell_type": "code",
      "source": [
        "#example for overflow error\n",
        "\n",
        "import math\n",
        "print(math.exp(1000))"
      ],
      "metadata": {
        "colab": {
          "base_uri": "https://localhost:8080/",
          "height": 176
        },
        "id": "4JgUp1I1pdMU",
        "outputId": "070ea3c2-aa42-492f-801c-c4fed2f08bf0"
      },
      "execution_count": null,
      "outputs": [
        {
          "output_type": "error",
          "ename": "OverflowError",
          "evalue": "math range error",
          "traceback": [
            "\u001b[0;31m---------------------------------------------------------------------------\u001b[0m",
            "\u001b[0;31mOverflowError\u001b[0m                             Traceback (most recent call last)",
            "\u001b[0;32m<ipython-input-17-c309a0601092>\u001b[0m in \u001b[0;36m<cell line: 0>\u001b[0;34m()\u001b[0m\n\u001b[1;32m      2\u001b[0m \u001b[0;34m\u001b[0m\u001b[0m\n\u001b[1;32m      3\u001b[0m \u001b[0;32mimport\u001b[0m \u001b[0mmath\u001b[0m\u001b[0;34m\u001b[0m\u001b[0;34m\u001b[0m\u001b[0m\n\u001b[0;32m----> 4\u001b[0;31m \u001b[0mprint\u001b[0m\u001b[0;34m(\u001b[0m\u001b[0mmath\u001b[0m\u001b[0;34m.\u001b[0m\u001b[0mexp\u001b[0m\u001b[0;34m(\u001b[0m\u001b[0;36m1000\u001b[0m\u001b[0;34m)\u001b[0m\u001b[0;34m)\u001b[0m\u001b[0;34m\u001b[0m\u001b[0;34m\u001b[0m\u001b[0m\n\u001b[0m",
            "\u001b[0;31mOverflowError\u001b[0m: math range error"
          ]
        }
      ]
    },
    {
      "cell_type": "code",
      "source": [
        "#attribute error\n",
        "obj=42\n",
        "obj.append(5)"
      ],
      "metadata": {
        "colab": {
          "base_uri": "https://localhost:8080/",
          "height": 176
        },
        "id": "_9hYvE5Qp3N8",
        "outputId": "03d66664-b4c4-4df0-91aa-7a2af4f7013d"
      },
      "execution_count": null,
      "outputs": [
        {
          "output_type": "error",
          "ename": "AttributeError",
          "evalue": "'int' object has no attribute 'append'",
          "traceback": [
            "\u001b[0;31m---------------------------------------------------------------------------\u001b[0m",
            "\u001b[0;31mAttributeError\u001b[0m                            Traceback (most recent call last)",
            "\u001b[0;32m<ipython-input-18-1775871dbd9a>\u001b[0m in \u001b[0;36m<cell line: 0>\u001b[0;34m()\u001b[0m\n\u001b[1;32m      1\u001b[0m \u001b[0;31m#attribute error\u001b[0m\u001b[0;34m\u001b[0m\u001b[0;34m\u001b[0m\u001b[0m\n\u001b[1;32m      2\u001b[0m \u001b[0mobj\u001b[0m\u001b[0;34m=\u001b[0m\u001b[0;36m42\u001b[0m\u001b[0;34m\u001b[0m\u001b[0;34m\u001b[0m\u001b[0m\n\u001b[0;32m----> 3\u001b[0;31m \u001b[0mobj\u001b[0m\u001b[0;34m.\u001b[0m\u001b[0mappend\u001b[0m\u001b[0;34m(\u001b[0m\u001b[0;36m5\u001b[0m\u001b[0;34m)\u001b[0m\u001b[0;34m\u001b[0m\u001b[0;34m\u001b[0m\u001b[0m\n\u001b[0m",
            "\u001b[0;31mAttributeError\u001b[0m: 'int' object has no attribute 'append'"
          ]
        }
      ]
    },
    {
      "cell_type": "code",
      "source": [
        "#keyb error\n",
        "data={\"name\":\"John\"}\n",
        "print(data[\"age\"])"
      ],
      "metadata": {
        "colab": {
          "base_uri": "https://localhost:8080/",
          "height": 176
        },
        "id": "tcfNVn6zqA5t",
        "outputId": "265c1502-b32e-46d2-9c74-c04d91e87915"
      },
      "execution_count": null,
      "outputs": [
        {
          "output_type": "error",
          "ename": "KeyError",
          "evalue": "'age'",
          "traceback": [
            "\u001b[0;31m---------------------------------------------------------------------------\u001b[0m",
            "\u001b[0;31mKeyError\u001b[0m                                  Traceback (most recent call last)",
            "\u001b[0;32m<ipython-input-19-1d7437e2e298>\u001b[0m in \u001b[0;36m<cell line: 0>\u001b[0;34m()\u001b[0m\n\u001b[1;32m      1\u001b[0m \u001b[0;31m#keyb error\u001b[0m\u001b[0;34m\u001b[0m\u001b[0;34m\u001b[0m\u001b[0m\n\u001b[1;32m      2\u001b[0m \u001b[0mdata\u001b[0m\u001b[0;34m=\u001b[0m\u001b[0;34m{\u001b[0m\u001b[0;34m\"name\"\u001b[0m\u001b[0;34m:\u001b[0m\u001b[0;34m\"John\"\u001b[0m\u001b[0;34m}\u001b[0m\u001b[0;34m\u001b[0m\u001b[0;34m\u001b[0m\u001b[0m\n\u001b[0;32m----> 3\u001b[0;31m \u001b[0mprint\u001b[0m\u001b[0;34m(\u001b[0m\u001b[0mdata\u001b[0m\u001b[0;34m[\u001b[0m\u001b[0;34m\"age\"\u001b[0m\u001b[0;34m]\u001b[0m\u001b[0;34m)\u001b[0m\u001b[0;34m\u001b[0m\u001b[0;34m\u001b[0m\u001b[0m\n\u001b[0m",
            "\u001b[0;31mKeyError\u001b[0m: 'age'"
          ]
        }
      ]
    },
    {
      "cell_type": "code",
      "source": [
        "#index error\n",
        "\n",
        "my_list=[1,2,3]\n",
        "print(my_list[5])"
      ],
      "metadata": {
        "colab": {
          "base_uri": "https://localhost:8080/",
          "height": 176
        },
        "id": "hNAzWVUjqNP8",
        "outputId": "8ba83611-44cf-4d40-cf57-2b85c0303732"
      },
      "execution_count": null,
      "outputs": [
        {
          "output_type": "error",
          "ename": "IndexError",
          "evalue": "list index out of range",
          "traceback": [
            "\u001b[0;31m---------------------------------------------------------------------------\u001b[0m",
            "\u001b[0;31mIndexError\u001b[0m                                Traceback (most recent call last)",
            "\u001b[0;32m<ipython-input-20-a2d32f1ac78b>\u001b[0m in \u001b[0;36m<cell line: 0>\u001b[0;34m()\u001b[0m\n\u001b[1;32m      2\u001b[0m \u001b[0;34m\u001b[0m\u001b[0m\n\u001b[1;32m      3\u001b[0m \u001b[0mmy_list\u001b[0m\u001b[0;34m=\u001b[0m\u001b[0;34m[\u001b[0m\u001b[0;36m1\u001b[0m\u001b[0;34m,\u001b[0m\u001b[0;36m2\u001b[0m\u001b[0;34m,\u001b[0m\u001b[0;36m3\u001b[0m\u001b[0;34m]\u001b[0m\u001b[0;34m\u001b[0m\u001b[0;34m\u001b[0m\u001b[0m\n\u001b[0;32m----> 4\u001b[0;31m \u001b[0mprint\u001b[0m\u001b[0;34m(\u001b[0m\u001b[0mmy_list\u001b[0m\u001b[0;34m[\u001b[0m\u001b[0;36m5\u001b[0m\u001b[0;34m]\u001b[0m\u001b[0;34m)\u001b[0m\u001b[0;34m\u001b[0m\u001b[0;34m\u001b[0m\u001b[0m\n\u001b[0m",
            "\u001b[0;31mIndexError\u001b[0m: list index out of range"
          ]
        }
      ]
    },
    {
      "cell_type": "code",
      "source": [
        "#value error\n",
        "print(int(\"hello\"))"
      ],
      "metadata": {
        "colab": {
          "base_uri": "https://localhost:8080/",
          "height": 159
        },
        "id": "VpLWgSV8qbF8",
        "outputId": "8008c4d8-f6ad-4e7e-825f-deb5fa704d56"
      },
      "execution_count": null,
      "outputs": [
        {
          "output_type": "error",
          "ename": "ValueError",
          "evalue": "invalid literal for int() with base 10: 'hello'",
          "traceback": [
            "\u001b[0;31m---------------------------------------------------------------------------\u001b[0m",
            "\u001b[0;31mValueError\u001b[0m                                Traceback (most recent call last)",
            "\u001b[0;32m<ipython-input-21-31d4edf56be6>\u001b[0m in \u001b[0;36m<cell line: 0>\u001b[0;34m()\u001b[0m\n\u001b[1;32m      1\u001b[0m \u001b[0;31m#value error\u001b[0m\u001b[0;34m\u001b[0m\u001b[0;34m\u001b[0m\u001b[0m\n\u001b[0;32m----> 2\u001b[0;31m \u001b[0mprint\u001b[0m\u001b[0;34m(\u001b[0m\u001b[0mint\u001b[0m\u001b[0;34m(\u001b[0m\u001b[0;34m\"hello\"\u001b[0m\u001b[0;34m)\u001b[0m\u001b[0;34m)\u001b[0m\u001b[0;34m\u001b[0m\u001b[0;34m\u001b[0m\u001b[0m\n\u001b[0m",
            "\u001b[0;31mValueError\u001b[0m: invalid literal for int() with base 10: 'hello'"
          ]
        }
      ]
    },
    {
      "cell_type": "code",
      "source": [
        "#Type error\n",
        "print(\"5\"+5)"
      ],
      "metadata": {
        "colab": {
          "base_uri": "https://localhost:8080/",
          "height": 159
        },
        "id": "sRT2Lus3qjdg",
        "outputId": "4a0f0209-5ded-4748-e055-8f7f9584dc53"
      },
      "execution_count": null,
      "outputs": [
        {
          "output_type": "error",
          "ename": "TypeError",
          "evalue": "can only concatenate str (not \"int\") to str",
          "traceback": [
            "\u001b[0;31m---------------------------------------------------------------------------\u001b[0m",
            "\u001b[0;31mTypeError\u001b[0m                                 Traceback (most recent call last)",
            "\u001b[0;32m<ipython-input-22-a001b98d5331>\u001b[0m in \u001b[0;36m<cell line: 0>\u001b[0;34m()\u001b[0m\n\u001b[1;32m      1\u001b[0m \u001b[0;31m#Type error\u001b[0m\u001b[0;34m\u001b[0m\u001b[0;34m\u001b[0m\u001b[0m\n\u001b[0;32m----> 2\u001b[0;31m \u001b[0mprint\u001b[0m\u001b[0;34m(\u001b[0m\u001b[0;34m\"5\"\u001b[0m\u001b[0;34m+\u001b[0m\u001b[0;36m5\u001b[0m\u001b[0;34m)\u001b[0m\u001b[0;34m\u001b[0m\u001b[0;34m\u001b[0m\u001b[0m\n\u001b[0m",
            "\u001b[0;31mTypeError\u001b[0m: can only concatenate str (not \"int\") to str"
          ]
        }
      ]
    },
    {
      "cell_type": "code",
      "source": [
        "#FileNotFoundError\n",
        "\n",
        "open(\"nonexist_file.txt\")"
      ],
      "metadata": {
        "colab": {
          "base_uri": "https://localhost:8080/",
          "height": 176
        },
        "id": "9wwxK5HAqr08",
        "outputId": "39627967-0359-4713-eddf-738a747fee0b"
      },
      "execution_count": null,
      "outputs": [
        {
          "output_type": "error",
          "ename": "FileNotFoundError",
          "evalue": "[Errno 2] No such file or directory: 'nonexist_file.txt'",
          "traceback": [
            "\u001b[0;31m---------------------------------------------------------------------------\u001b[0m",
            "\u001b[0;31mFileNotFoundError\u001b[0m                         Traceback (most recent call last)",
            "\u001b[0;32m<ipython-input-23-d2a9413ac160>\u001b[0m in \u001b[0;36m<cell line: 0>\u001b[0;34m()\u001b[0m\n\u001b[1;32m      1\u001b[0m \u001b[0;31m#FileNotFoundError\u001b[0m\u001b[0;34m\u001b[0m\u001b[0;34m\u001b[0m\u001b[0m\n\u001b[1;32m      2\u001b[0m \u001b[0;34m\u001b[0m\u001b[0m\n\u001b[0;32m----> 3\u001b[0;31m \u001b[0mopen\u001b[0m\u001b[0;34m(\u001b[0m\u001b[0;34m\"nonexist_file.txt\"\u001b[0m\u001b[0;34m)\u001b[0m\u001b[0;34m\u001b[0m\u001b[0;34m\u001b[0m\u001b[0m\n\u001b[0m",
            "\u001b[0;31mFileNotFoundError\u001b[0m: [Errno 2] No such file or directory: 'nonexist_file.txt'"
          ]
        }
      ]
    },
    {
      "cell_type": "markdown",
      "source": [
        "## Raise Exception\n",
        "\n",
        "The raise statement in python is used to manually trigger an exception when a specific error condition occurs."
      ],
      "metadata": {
        "id": "UPhH987CsJgd"
      }
    },
    {
      "cell_type": "code",
      "source": [
        "age=int(input(\"Enter your age:\"))\n",
        "if age<0:\n",
        "  raise ValueError(\"Age can't be negative\")\n",
        "\n",
        "else:\n",
        "  print(f\"Your age is{age}\")\n",
        "\n",
        "print(\"No try except\")"
      ],
      "metadata": {
        "colab": {
          "base_uri": "https://localhost:8080/",
          "height": 228
        },
        "id": "W6BTViwlsaIX",
        "outputId": "2dc76ebd-6325-465c-dc8e-64b0628cfbef"
      },
      "execution_count": null,
      "outputs": [
        {
          "name": "stdout",
          "output_type": "stream",
          "text": [
            "Enter your age:-1\n"
          ]
        },
        {
          "output_type": "error",
          "ename": "ValueError",
          "evalue": "Age can't be negative",
          "traceback": [
            "\u001b[0;31m---------------------------------------------------------------------------\u001b[0m",
            "\u001b[0;31mValueError\u001b[0m                                Traceback (most recent call last)",
            "\u001b[0;32m<ipython-input-24-335867fe3279>\u001b[0m in \u001b[0;36m<cell line: 0>\u001b[0;34m()\u001b[0m\n\u001b[1;32m      1\u001b[0m \u001b[0mage\u001b[0m\u001b[0;34m=\u001b[0m\u001b[0mint\u001b[0m\u001b[0;34m(\u001b[0m\u001b[0minput\u001b[0m\u001b[0;34m(\u001b[0m\u001b[0;34m\"Enter your age:\"\u001b[0m\u001b[0;34m)\u001b[0m\u001b[0;34m)\u001b[0m\u001b[0;34m\u001b[0m\u001b[0;34m\u001b[0m\u001b[0m\n\u001b[1;32m      2\u001b[0m \u001b[0;32mif\u001b[0m \u001b[0mage\u001b[0m\u001b[0;34m<\u001b[0m\u001b[0;36m0\u001b[0m\u001b[0;34m:\u001b[0m\u001b[0;34m\u001b[0m\u001b[0;34m\u001b[0m\u001b[0m\n\u001b[0;32m----> 3\u001b[0;31m   \u001b[0;32mraise\u001b[0m \u001b[0mValueError\u001b[0m\u001b[0;34m(\u001b[0m\u001b[0;34m\"Age can't be negative\"\u001b[0m\u001b[0;34m)\u001b[0m\u001b[0;34m\u001b[0m\u001b[0;34m\u001b[0m\u001b[0m\n\u001b[0m\u001b[1;32m      4\u001b[0m \u001b[0;34m\u001b[0m\u001b[0m\n\u001b[1;32m      5\u001b[0m \u001b[0;32melse\u001b[0m\u001b[0;34m:\u001b[0m\u001b[0;34m\u001b[0m\u001b[0;34m\u001b[0m\u001b[0m\n",
            "\u001b[0;31mValueError\u001b[0m: Age can't be negative"
          ]
        }
      ]
    },
    {
      "cell_type": "code",
      "source": [
        "try:\n",
        "  age = int(input(\"Enter your age:\"))\n",
        "\n",
        "  if age<0:\n",
        "    raise ValueError(\"Age cannot be negative\")\n",
        "  else:\n",
        "    print(f\"Your age is{age}\")\n",
        "except ValueError as e:\n",
        "  print(e)\n",
        "print(\"try except finished\")"
      ],
      "metadata": {
        "colab": {
          "base_uri": "https://localhost:8080/"
        },
        "id": "XWzHb1qgs-OO",
        "outputId": "017dbd17-acb2-4402-de46-8da16c7f65f1"
      },
      "execution_count": null,
      "outputs": [
        {
          "output_type": "stream",
          "name": "stdout",
          "text": [
            "Enter your age:-5\n",
            "Age cannot be negative\n",
            "try except finished\n"
          ]
        }
      ]
    },
    {
      "cell_type": "markdown",
      "source": [
        "# Custom Exceptions\n",
        "\n",
        "\n",
        "\n",
        "\n",
        "Custom exceptions are user- defined exceptions in Python that help handle domain-specific errors more meaningully and improve code clarity."
      ],
      "metadata": {
        "id": "jy2BtBIathZ3"
      }
    },
    {
      "cell_type": "markdown",
      "source": [
        "**Example Code :**\n",
        "\n",
        "    class CustomError(Exception)\"\n",
        "        pass\n",
        "    raise CustomError(\"This is a custom error\")"
      ],
      "metadata": {
        "id": "FGbkfFS0ts7G"
      }
    },
    {
      "cell_type": "code",
      "source": [
        "class InvalidAgeException(Exception):\n",
        "  \"Raised when the input value is less than 18\"\n",
        "  pass\n",
        "\n",
        "#you need to guess this number\n",
        "number=18\n",
        "try:\n",
        "  input_num=int(input(\"Enter a  number:\"))\n",
        "  if input_num < number:\n",
        "    raise InvalidAgeException\n",
        "\n",
        "  else:\n",
        "    print(\"Eligible to vote\")\n",
        "\n",
        "except  InvalidAgeException:\n",
        "  print(\"Exception Occured: Invalid age\")"
      ],
      "metadata": {
        "colab": {
          "base_uri": "https://localhost:8080/"
        },
        "id": "nUIMZFyUtLUN",
        "outputId": "6e65f252-1e90-41a4-8a1d-1962958679e8"
      },
      "execution_count": null,
      "outputs": [
        {
          "output_type": "stream",
          "name": "stdout",
          "text": [
            "Enter a  number:16\n",
            "Exception Occured: Invalid age\n"
          ]
        }
      ]
    },
    {
      "cell_type": "markdown",
      "source": [
        "#Practice problems\n"
      ],
      "metadata": {
        "id": "sIUXrGurxYNi"
      }
    },
    {
      "cell_type": "markdown",
      "source": [
        "Write a Python function safe_divide(a, b) that attempts to divide two numbers, a and b. Implement exception handling to manage the following scenarios:\n",
        "\n",
        "1.ZeroDivisionError: If b is zero, print \"Error: Division by zero is not allowed.\"\n",
        "\n",
        "2.ValueError: If either a or b is not a valid number (e.g., a string), print \"Error: Please enter valid numbers.\"\n",
        "\n",
        "3.General Exception: For any other unforeseen errors, print \"An unexpected error occurred.\""
      ],
      "metadata": {
        "id": "x4YN4Fixx11w"
      }
    },
    {
      "cell_type": "code",
      "source": [
        "def safe_divide(a,b):\n",
        "  try:\n",
        "    result=a/b\n",
        "    print(result)\n",
        "\n",
        "  except ZeroDivisionError:\n",
        "    print(\"Division by zero error occured\")\n",
        "\n",
        "  except ValueError:\n",
        "    print(\"Enter a valid number\")\n",
        "\n",
        "  except Exception:\n",
        "    print(\"General exceptions occured\")\n",
        "safe_divide(10,0)"
      ],
      "metadata": {
        "colab": {
          "base_uri": "https://localhost:8080/"
        },
        "id": "tWT54GudyR6A",
        "outputId": "5ef97bfe-39ef-490f-d0be-27e113ca89f9"
      },
      "execution_count": null,
      "outputs": [
        {
          "output_type": "stream",
          "name": "stdout",
          "text": [
            "Division by zero error occured\n"
          ]
        }
      ]
    },
    {
      "cell_type": "code",
      "source": [],
      "metadata": {
        "id": "j0hkVZsL0k0w"
      },
      "execution_count": null,
      "outputs": []
    }
  ]
}