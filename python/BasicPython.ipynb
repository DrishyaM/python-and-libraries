{
  "nbformat": 4,
  "nbformat_minor": 0,
  "metadata": {
    "colab": {
      "provenance": []
    },
    "kernelspec": {
      "name": "python3",
      "display_name": "Python 3"
    },
    "language_info": {
      "name": "python"
    }
  },
  "cells": [
    {
      "cell_type": "markdown",
      "source": [
        "#Python Basics"
      ],
      "metadata": {
        "id": "AVnzFQORH3Vh"
      }
    },
    {
      "cell_type": "code",
      "execution_count": null,
      "metadata": {
        "colab": {
          "base_uri": "https://localhost:8080/"
        },
        "id": "v9N5h_dU7A56",
        "outputId": "f407589f-d2a9-4f4e-ebe4-9da055e30882"
      },
      "outputs": [
        {
          "output_type": "stream",
          "name": "stdout",
          "text": [
            "Drishya\n"
          ]
        }
      ],
      "source": [
        "print('Drishya')"
      ]
    },
    {
      "cell_type": "code",
      "source": [
        "a=12\n",
        "print(a)"
      ],
      "metadata": {
        "colab": {
          "base_uri": "https://localhost:8080/"
        },
        "id": "zZ6oD9DO8Dum",
        "outputId": "c253918a-12c8-4be2-8279-73e7736bccf8"
      },
      "execution_count": null,
      "outputs": [
        {
          "output_type": "stream",
          "name": "stdout",
          "text": [
            "12\n"
          ]
        }
      ]
    },
    {
      "cell_type": "code",
      "source": [
        "ads345=2\n",
        "sdfrg46=3\n",
        "wer678=ads345+sdfrg46\n",
        "print(wer678)"
      ],
      "metadata": {
        "colab": {
          "base_uri": "https://localhost:8080/"
        },
        "id": "nHb2LNgR83V3",
        "outputId": "34bf55f4-72f3-4c0a-8ba2-b718dafa4f0c"
      },
      "execution_count": null,
      "outputs": [
        {
          "output_type": "stream",
          "name": "stdout",
          "text": [
            "5\n"
          ]
        }
      ]
    },
    {
      "cell_type": "code",
      "source": [
        "x=2\n",
        "y=3\n",
        "z=2+3\n",
        "print(z)"
      ],
      "metadata": {
        "colab": {
          "base_uri": "https://localhost:8080/"
        },
        "id": "fcTdjRGlEVvm",
        "outputId": "f61bed3e-202f-4d39-a159-9e8f87e064d3"
      },
      "execution_count": null,
      "outputs": [
        {
          "output_type": "stream",
          "name": "stdout",
          "text": [
            "5\n"
          ]
        }
      ]
    },
    {
      "cell_type": "code",
      "source": [
        "num1=2\n",
        "num2=3\n",
        "sum=2+3\n",
        "print(sum)"
      ],
      "metadata": {
        "colab": {
          "base_uri": "https://localhost:8080/"
        },
        "id": "XY3EwweVEc5t",
        "outputId": "8287da44-9e5e-4664-fc32-cb7f92f3dfdf"
      },
      "execution_count": null,
      "outputs": [
        {
          "output_type": "stream",
          "name": "stdout",
          "text": [
            "5\n"
          ]
        }
      ]
    },
    {
      "cell_type": "code",
      "source": [
        "payment_per_day=795\n",
        "days_of_working=26\n",
        "total_salary=payment_per_day * days_of_working\n",
        "print(total_salary)"
      ],
      "metadata": {
        "colab": {
          "base_uri": "https://localhost:8080/"
        },
        "id": "lje2rKWbElBx",
        "outputId": "b1fed91c-476f-407f-9ca1-a0e7865daf2d"
      },
      "execution_count": null,
      "outputs": [
        {
          "output_type": "stream",
          "name": "stdout",
          "text": [
            "20670\n"
          ]
        }
      ]
    },
    {
      "cell_type": "code",
      "source": [
        "x,y,z=\"fruits\",\"markets\",\"computer\"\n",
        "print(x,y,z)"
      ],
      "metadata": {
        "colab": {
          "base_uri": "https://localhost:8080/"
        },
        "id": "HnCkpotyFbx2",
        "outputId": "9770c3fa-c787-4835-b096-56c60b00a96d"
      },
      "execution_count": null,
      "outputs": [
        {
          "output_type": "stream",
          "name": "stdout",
          "text": [
            "fruits markets computer\n"
          ]
        }
      ]
    },
    {
      "cell_type": "code",
      "source": [
        "# x,y,z=\"oranges\"\n",
        "\"\"\"print(x)\n",
        "print(y)\n",
        "print(z)\"\"\""
      ],
      "metadata": {
        "colab": {
          "base_uri": "https://localhost:8080/",
          "height": 35
        },
        "id": "SzNslgtqFt0d",
        "outputId": "4cbd5385-1102-44bf-9bfa-135f3f7bfdc6"
      },
      "execution_count": null,
      "outputs": [
        {
          "output_type": "execute_result",
          "data": {
            "text/plain": [
              "'print(x)\\nprint(y)\\nprint(z)'"
            ],
            "application/vnd.google.colaboratory.intrinsic+json": {
              "type": "string"
            }
          },
          "metadata": {},
          "execution_count": 1
        }
      ]
    },
    {
      "cell_type": "code",
      "source": [
        "x=\"hello python\"\n",
        "y=123\n",
        "z=1.23\n",
        "a=True\n",
        "b=\"1234\"\n",
        "print(x)"
      ],
      "metadata": {
        "colab": {
          "base_uri": "https://localhost:8080/"
        },
        "id": "5kyNPMsYF4CZ",
        "outputId": "0a619c34-7732-4d52-a8b2-a75779b18ebc"
      },
      "execution_count": null,
      "outputs": [
        {
          "output_type": "stream",
          "name": "stdout",
          "text": [
            "hello python\n"
          ]
        }
      ]
    },
    {
      "cell_type": "code",
      "source": [
        "print(y)"
      ],
      "metadata": {
        "colab": {
          "base_uri": "https://localhost:8080/"
        },
        "id": "YSdOwdGMRH-8",
        "outputId": "7f4c39e9-f3bb-4a45-d830-8d576c80c164"
      },
      "execution_count": null,
      "outputs": [
        {
          "output_type": "stream",
          "name": "stdout",
          "text": [
            "123\n"
          ]
        }
      ]
    },
    {
      "cell_type": "code",
      "source": [
        "print(z)\n"
      ],
      "metadata": {
        "colab": {
          "base_uri": "https://localhost:8080/"
        },
        "id": "0qC3MCgmRLFz",
        "outputId": "4735521e-3f13-410f-b167-839ba286d7e1"
      },
      "execution_count": null,
      "outputs": [
        {
          "output_type": "stream",
          "name": "stdout",
          "text": [
            "1.23\n"
          ]
        }
      ]
    },
    {
      "cell_type": "code",
      "source": [
        "print(a)"
      ],
      "metadata": {
        "colab": {
          "base_uri": "https://localhost:8080/"
        },
        "id": "8Gwt4tH3RPt-",
        "outputId": "b2208514-c28e-4861-97bd-02ed6a1d9263"
      },
      "execution_count": null,
      "outputs": [
        {
          "output_type": "stream",
          "name": "stdout",
          "text": [
            "True\n"
          ]
        }
      ]
    },
    {
      "cell_type": "code",
      "source": [
        "print(b)"
      ],
      "metadata": {
        "colab": {
          "base_uri": "https://localhost:8080/"
        },
        "id": "6qp9rAE5RS2X",
        "outputId": "ef8aab9c-82d0-4c7a-ab54-e4023cb0a451"
      },
      "execution_count": null,
      "outputs": [
        {
          "output_type": "stream",
          "name": "stdout",
          "text": [
            "1234\n"
          ]
        }
      ]
    },
    {
      "cell_type": "code",
      "source": [
        "print(type(x))"
      ],
      "metadata": {
        "colab": {
          "base_uri": "https://localhost:8080/"
        },
        "id": "AmQ--yHNRWD4",
        "outputId": "9a4034ec-6b5d-4de5-fce7-29fad1a719c0"
      },
      "execution_count": null,
      "outputs": [
        {
          "output_type": "stream",
          "name": "stdout",
          "text": [
            "<class 'str'>\n"
          ]
        }
      ]
    },
    {
      "cell_type": "code",
      "source": [
        "print(type(y))\n"
      ],
      "metadata": {
        "colab": {
          "base_uri": "https://localhost:8080/"
        },
        "id": "l0di8riuRaLS",
        "outputId": "6be05bd5-fd67-4c96-92b2-190f1afd6d47"
      },
      "execution_count": null,
      "outputs": [
        {
          "output_type": "stream",
          "name": "stdout",
          "text": [
            "<class 'int'>\n"
          ]
        }
      ]
    },
    {
      "cell_type": "code",
      "source": [
        "print(type(z))"
      ],
      "metadata": {
        "colab": {
          "base_uri": "https://localhost:8080/"
        },
        "id": "iclGOje-RepM",
        "outputId": "70fe25f4-9c30-4c1e-d9cd-9eff7379732b"
      },
      "execution_count": null,
      "outputs": [
        {
          "output_type": "stream",
          "name": "stdout",
          "text": [
            "<class 'float'>\n"
          ]
        }
      ]
    },
    {
      "cell_type": "code",
      "source": [
        "print(type(a))\n"
      ],
      "metadata": {
        "colab": {
          "base_uri": "https://localhost:8080/"
        },
        "id": "O96zdmzbRiWX",
        "outputId": "0e9eb788-e615-4f28-9e09-810ac1c88855"
      },
      "execution_count": null,
      "outputs": [
        {
          "output_type": "stream",
          "name": "stdout",
          "text": [
            "<class 'bool'>\n"
          ]
        }
      ]
    },
    {
      "cell_type": "code",
      "source": [
        "print(type(b))"
      ],
      "metadata": {
        "colab": {
          "base_uri": "https://localhost:8080/"
        },
        "id": "G_fshv9vRmig",
        "outputId": "c13feb82-d75c-4a84-e265-833ae794f9fa"
      },
      "execution_count": null,
      "outputs": [
        {
          "output_type": "stream",
          "name": "stdout",
          "text": [
            "<class 'str'>\n"
          ]
        }
      ]
    },
    {
      "cell_type": "code",
      "source": [
        "x=5\n",
        "y=6\n",
        "z=x+y\n",
        "print(z)"
      ],
      "metadata": {
        "colab": {
          "base_uri": "https://localhost:8080/"
        },
        "id": "DlRaVyE2Rqf8",
        "outputId": "6b2ae208-80a1-45e0-96cd-3e95a9ae090c"
      },
      "execution_count": null,
      "outputs": [
        {
          "output_type": "stream",
          "name": "stdout",
          "text": [
            "11\n"
          ]
        }
      ]
    },
    {
      "cell_type": "code",
      "source": [
        "z=x*y\n",
        "print(z)"
      ],
      "metadata": {
        "colab": {
          "base_uri": "https://localhost:8080/"
        },
        "id": "-YrjOHUHR7Ry",
        "outputId": "ada36936-b182-49aa-a938-43669bd1dbd2"
      },
      "execution_count": null,
      "outputs": [
        {
          "output_type": "stream",
          "name": "stdout",
          "text": [
            "30\n"
          ]
        }
      ]
    },
    {
      "cell_type": "code",
      "source": [
        "x=8\n",
        "y=5\n",
        "z=x-y\n",
        "print(z)"
      ],
      "metadata": {
        "colab": {
          "base_uri": "https://localhost:8080/"
        },
        "id": "SwN0rd-XSEH3",
        "outputId": "c43f87e7-d724-4313-cc00-6912ff977ecc"
      },
      "execution_count": null,
      "outputs": [
        {
          "output_type": "stream",
          "name": "stdout",
          "text": [
            "3\n"
          ]
        }
      ]
    },
    {
      "cell_type": "code",
      "source": [
        "x=10\n",
        "y=6\n",
        "z=x/y\n",
        "print(z)"
      ],
      "metadata": {
        "colab": {
          "base_uri": "https://localhost:8080/"
        },
        "id": "3-4UoNPXSOLM",
        "outputId": "613fdcb1-e079-4c1b-f19f-a88054632242"
      },
      "execution_count": null,
      "outputs": [
        {
          "output_type": "stream",
          "name": "stdout",
          "text": [
            "1.6666666666666667\n"
          ]
        }
      ]
    },
    {
      "cell_type": "code",
      "source": [
        "z=x % y\n",
        "print(z)\n"
      ],
      "metadata": {
        "colab": {
          "base_uri": "https://localhost:8080/"
        },
        "id": "CVwcevx8SXeI",
        "outputId": "8b527561-375c-4647-ecaf-d81fd921a49e"
      },
      "execution_count": null,
      "outputs": [
        {
          "output_type": "stream",
          "name": "stdout",
          "text": [
            "4\n"
          ]
        }
      ]
    },
    {
      "cell_type": "code",
      "source": [
        "z=x%y\n",
        "print(z)\n"
      ],
      "metadata": {
        "colab": {
          "base_uri": "https://localhost:8080/"
        },
        "id": "ha97_7DTSth0",
        "outputId": "7c7c546f-9f3f-425f-90fe-9f02440d9554"
      },
      "execution_count": null,
      "outputs": [
        {
          "output_type": "stream",
          "name": "stdout",
          "text": [
            "4\n"
          ]
        }
      ]
    },
    {
      "cell_type": "code",
      "source": [
        "z=x//y\n",
        "print(z)"
      ],
      "metadata": {
        "colab": {
          "base_uri": "https://localhost:8080/"
        },
        "id": "WymqEAnSS0hG",
        "outputId": "c3c9e94d-0a52-4936-d4d5-9f63beaceb61"
      },
      "execution_count": null,
      "outputs": [
        {
          "output_type": "stream",
          "name": "stdout",
          "text": [
            "1\n"
          ]
        }
      ]
    },
    {
      "cell_type": "code",
      "source": [
        "x=123\n",
        "print(x)"
      ],
      "metadata": {
        "colab": {
          "base_uri": "https://localhost:8080/"
        },
        "id": "6THh3gN9TCSG",
        "outputId": "6c0f337d-e68c-45e0-ca53-6176b7af8c40"
      },
      "execution_count": null,
      "outputs": [
        {
          "output_type": "stream",
          "name": "stdout",
          "text": [
            "123\n"
          ]
        }
      ]
    },
    {
      "cell_type": "code",
      "source": [
        "print(str(x))"
      ],
      "metadata": {
        "colab": {
          "base_uri": "https://localhost:8080/"
        },
        "id": "XwuT2gnwTcog",
        "outputId": "0efdf80d-cd3f-432b-9875-715ee9a3a346"
      },
      "execution_count": null,
      "outputs": [
        {
          "output_type": "stream",
          "name": "stdout",
          "text": [
            "123\n"
          ]
        }
      ]
    },
    {
      "cell_type": "code",
      "source": [
        "x=\"12345\"\n",
        "print(x)"
      ],
      "metadata": {
        "colab": {
          "base_uri": "https://localhost:8080/"
        },
        "id": "-db_iXQLTfdE",
        "outputId": "5ecc035a-6d1b-4714-b3a7-3b9a48c130be"
      },
      "execution_count": null,
      "outputs": [
        {
          "output_type": "stream",
          "name": "stdout",
          "text": [
            "12345\n"
          ]
        }
      ]
    },
    {
      "cell_type": "code",
      "source": [
        "print(int(x))"
      ],
      "metadata": {
        "colab": {
          "base_uri": "https://localhost:8080/"
        },
        "id": "85ABxaunTnM2",
        "outputId": "c995576d-e113-4ba9-d8d9-9380bafc97b1"
      },
      "execution_count": null,
      "outputs": [
        {
          "output_type": "stream",
          "name": "stdout",
          "text": [
            "12345\n"
          ]
        }
      ]
    },
    {
      "cell_type": "code",
      "source": [
        "x=\"hello\"\n",
        "y=\"python\"\n",
        "var=x+y\n",
        "print(var)"
      ],
      "metadata": {
        "colab": {
          "base_uri": "https://localhost:8080/"
        },
        "id": "NtLbEfp2Tt0q",
        "outputId": "de1bd682-b7e7-4fa9-cfed-cc1b867995eb"
      },
      "execution_count": null,
      "outputs": [
        {
          "output_type": "stream",
          "name": "stdout",
          "text": [
            "hellopython\n"
          ]
        }
      ]
    },
    {
      "cell_type": "code",
      "source": [
        "print(type(var))"
      ],
      "metadata": {
        "colab": {
          "base_uri": "https://localhost:8080/"
        },
        "id": "9ihiWIANUIsv",
        "outputId": "115455aa-da7a-4057-dbc1-980b6f5c2834"
      },
      "execution_count": null,
      "outputs": [
        {
          "output_type": "stream",
          "name": "stdout",
          "text": [
            "<class 'str'>\n"
          ]
        }
      ]
    },
    {
      "cell_type": "code",
      "source": [
        "x=\"13345\"\n",
        "y=12345\n",
        "z=int(x)\n",
        "a=z+y\n",
        "print(z)"
      ],
      "metadata": {
        "colab": {
          "base_uri": "https://localhost:8080/"
        },
        "id": "z-TSLFMeUNy6",
        "outputId": "593d1d6f-7cfc-430c-e19c-7ccb3467492e"
      },
      "execution_count": null,
      "outputs": [
        {
          "output_type": "stream",
          "name": "stdout",
          "text": [
            "13345\n"
          ]
        }
      ]
    },
    {
      "cell_type": "code",
      "source": [
        "print(a)"
      ],
      "metadata": {
        "colab": {
          "base_uri": "https://localhost:8080/"
        },
        "id": "J7gm-BymUq1Z",
        "outputId": "d435137f-025c-4fdc-f689-fae0a9ab9683"
      },
      "execution_count": null,
      "outputs": [
        {
          "output_type": "stream",
          "name": "stdout",
          "text": [
            "25690\n"
          ]
        }
      ]
    },
    {
      "cell_type": "code",
      "source": [
        "x=\"hello\"\n",
        "z=int(\"hello\")\n",
        "print(z)"
      ],
      "metadata": {
        "colab": {
          "base_uri": "https://localhost:8080/",
          "height": 176
        },
        "id": "A2xY52CEUuTi",
        "outputId": "46ae7fe3-96cf-4100-ab64-7044dfede5d9"
      },
      "execution_count": null,
      "outputs": [
        {
          "output_type": "error",
          "ename": "ValueError",
          "evalue": "invalid literal for int() with base 10: 'hello'",
          "traceback": [
            "\u001b[0;31m---------------------------------------------------------------------------\u001b[0m",
            "\u001b[0;31mValueError\u001b[0m                                Traceback (most recent call last)",
            "\u001b[0;32m<ipython-input-44-1d9072964d9d>\u001b[0m in \u001b[0;36m<cell line: 0>\u001b[0;34m()\u001b[0m\n\u001b[1;32m      1\u001b[0m \u001b[0mx\u001b[0m\u001b[0;34m=\u001b[0m\u001b[0;34m\"hello\"\u001b[0m\u001b[0;34m\u001b[0m\u001b[0;34m\u001b[0m\u001b[0m\n\u001b[0;32m----> 2\u001b[0;31m \u001b[0mz\u001b[0m\u001b[0;34m=\u001b[0m\u001b[0mint\u001b[0m\u001b[0;34m(\u001b[0m\u001b[0;34m\"hello\"\u001b[0m\u001b[0;34m)\u001b[0m\u001b[0;34m\u001b[0m\u001b[0;34m\u001b[0m\u001b[0m\n\u001b[0m\u001b[1;32m      3\u001b[0m \u001b[0mprint\u001b[0m\u001b[0;34m(\u001b[0m\u001b[0mz\u001b[0m\u001b[0;34m)\u001b[0m\u001b[0;34m\u001b[0m\u001b[0;34m\u001b[0m\u001b[0m\n",
            "\u001b[0;31mValueError\u001b[0m: invalid literal for int() with base 10: 'hello'"
          ]
        }
      ]
    },
    {
      "cell_type": "code",
      "source": [
        "x=\"array\"\n",
        "print(x[0])"
      ],
      "metadata": {
        "colab": {
          "base_uri": "https://localhost:8080/"
        },
        "id": "6QGfErC8U-Mp",
        "outputId": "84d7d71f-ffdf-45c2-f76f-a6baa30a7951"
      },
      "execution_count": null,
      "outputs": [
        {
          "output_type": "stream",
          "name": "stdout",
          "text": [
            "a\n"
          ]
        }
      ]
    },
    {
      "cell_type": "code",
      "source": [
        "x=\"hello programmer\"\n",
        "print(len(x))"
      ],
      "metadata": {
        "colab": {
          "base_uri": "https://localhost:8080/"
        },
        "id": "dnf8dX0fcgc9",
        "outputId": "d1de70a4-9bec-4516-825b-244e92f862da"
      },
      "execution_count": null,
      "outputs": [
        {
          "output_type": "stream",
          "name": "stdout",
          "text": [
            "16\n"
          ]
        }
      ]
    },
    {
      "cell_type": "code",
      "source": [
        "Text=\"hello,let's start programming\"\n",
        "print(\"start\" in Text)"
      ],
      "metadata": {
        "colab": {
          "base_uri": "https://localhost:8080/"
        },
        "id": "n6toUhq2coGg",
        "outputId": "ebd0838d-a860-402a-eb12-8f3f0b2fcbbc"
      },
      "execution_count": null,
      "outputs": [
        {
          "output_type": "stream",
          "name": "stdout",
          "text": [
            "True\n"
          ]
        }
      ]
    },
    {
      "cell_type": "code",
      "source": [
        "print(\"hello\" not in Text)"
      ],
      "metadata": {
        "colab": {
          "base_uri": "https://localhost:8080/"
        },
        "id": "rTJ2mqKndeiL",
        "outputId": "9889caaf-4c8a-484a-b4e1-eda82df9ae9d"
      },
      "execution_count": null,
      "outputs": [
        {
          "output_type": "stream",
          "name": "stdout",
          "text": [
            "False\n"
          ]
        }
      ]
    },
    {
      "cell_type": "code",
      "source": [
        "xyz=\"hai my name is Drishya\"\n",
        "print(xyz[2:10])"
      ],
      "metadata": {
        "colab": {
          "base_uri": "https://localhost:8080/"
        },
        "id": "CWHrlHRjdw20",
        "outputId": "97eaa0b2-4c38-4c17-fe20-612b3b34d0b7"
      },
      "execution_count": null,
      "outputs": [
        {
          "output_type": "stream",
          "name": "stdout",
          "text": [
            "i my nam\n"
          ]
        }
      ]
    },
    {
      "cell_type": "code",
      "source": [
        "xyz=\"hai my name is Drishya\"\n",
        "print(xyz[3:])"
      ],
      "metadata": {
        "colab": {
          "base_uri": "https://localhost:8080/"
        },
        "id": "DiPGwt21eely",
        "outputId": "a6fdd2e2-a8d7-4328-8ea2-20a7dc8dbbe1"
      },
      "execution_count": null,
      "outputs": [
        {
          "output_type": "stream",
          "name": "stdout",
          "text": [
            " my name is Drishya\n"
          ]
        }
      ]
    },
    {
      "cell_type": "code",
      "source": [
        "x=\"hai my name is Drishya\"\n",
        "print(x[3:])\n"
      ],
      "metadata": {
        "colab": {
          "base_uri": "https://localhost:8080/"
        },
        "id": "Z0FaSNTYelDO",
        "outputId": "78bf39a4-9b4c-435a-a5c7-07afc8e83801"
      },
      "execution_count": null,
      "outputs": [
        {
          "output_type": "stream",
          "name": "stdout",
          "text": [
            " my name is Drishya\n"
          ]
        }
      ]
    },
    {
      "cell_type": "code",
      "source": [
        "y=\"hai my name is Drishya\"\n",
        "print(y[0:15:2])"
      ],
      "metadata": {
        "colab": {
          "base_uri": "https://localhost:8080/"
        },
        "id": "-mvqAFoseq9Y",
        "outputId": "9618b26e-62ba-4118-976a-d202fb7d772f"
      },
      "execution_count": null,
      "outputs": [
        {
          "output_type": "stream",
          "name": "stdout",
          "text": [
            "him aei \n"
          ]
        }
      ]
    },
    {
      "cell_type": "code",
      "source": [
        "b=\"hello,world\"\n",
        "print(b[-5:-2])"
      ],
      "metadata": {
        "colab": {
          "base_uri": "https://localhost:8080/"
        },
        "id": "MTNKtBq5ezdc",
        "outputId": "526d114b-849f-406d-b8e9-85a5047d51bc"
      },
      "execution_count": null,
      "outputs": [
        {
          "output_type": "stream",
          "name": "stdout",
          "text": [
            "wor\n"
          ]
        }
      ]
    },
    {
      "cell_type": "code",
      "source": [
        "word=\"hello world\"\n",
        "print(word.upper())"
      ],
      "metadata": {
        "colab": {
          "base_uri": "https://localhost:8080/"
        },
        "id": "8qh_PppXg9En",
        "outputId": "a491a338-22e5-428e-bb70-f7d46257df29"
      },
      "execution_count": null,
      "outputs": [
        {
          "output_type": "stream",
          "name": "stdout",
          "text": [
            "HELLO WORLD\n"
          ]
        }
      ]
    },
    {
      "cell_type": "code",
      "source": [
        "word=\"HELLO WORLD\"\n",
        "print(word.lower())"
      ],
      "metadata": {
        "colab": {
          "base_uri": "https://localhost:8080/"
        },
        "id": "YxgzuYgfj2ra",
        "outputId": "0114c5d5-2187-4d1c-d276-60fc4fa18ad6"
      },
      "execution_count": null,
      "outputs": [
        {
          "output_type": "stream",
          "name": "stdout",
          "text": [
            "hello world\n"
          ]
        }
      ]
    },
    {
      "cell_type": "code",
      "source": [
        "#strip function\n",
        "a=\"    hello world\"\n",
        "print(a.strip())"
      ],
      "metadata": {
        "colab": {
          "base_uri": "https://localhost:8080/"
        },
        "id": "G3ifY0N_j-cG",
        "outputId": "880c4c91-9fa8-4a80-b221-0d6dfff9f46d"
      },
      "execution_count": null,
      "outputs": [
        {
          "output_type": "stream",
          "name": "stdout",
          "text": [
            "hello world\n"
          ]
        }
      ]
    },
    {
      "cell_type": "code",
      "source": [
        "a=\"hello python\"\n",
        "print(a.replace(\"python\",\"world\"))"
      ],
      "metadata": {
        "colab": {
          "base_uri": "https://localhost:8080/"
        },
        "id": "-dYEqnwSkV-7",
        "outputId": "aa93b8e9-8323-4a58-8f6c-f3b321498ee5"
      },
      "execution_count": null,
      "outputs": [
        {
          "output_type": "stream",
          "name": "stdout",
          "text": [
            "hello world\n"
          ]
        }
      ]
    },
    {
      "cell_type": "code",
      "source": [
        "a=\"hai\"\n",
        "b=\"drishya\"\n",
        "z=a+b\n",
        "print(z)"
      ],
      "metadata": {
        "colab": {
          "base_uri": "https://localhost:8080/"
        },
        "id": "iadeBF0Qkk6a",
        "outputId": "23e2fc14-8ffa-4794-c0e5-04e5e0a3a3bb"
      },
      "execution_count": null,
      "outputs": [
        {
          "output_type": "stream",
          "name": "stdout",
          "text": [
            "haidrishya\n"
          ]
        }
      ]
    },
    {
      "cell_type": "code",
      "source": [
        "#string format\n",
        "age=25\n",
        "txt='My name is Drishya,and iam {}'\n",
        "print(txt.format(age))"
      ],
      "metadata": {
        "id": "tlAee3LbkwU_",
        "colab": {
          "base_uri": "https://localhost:8080/"
        },
        "outputId": "875a4b19-1d90-4100-931d-1fd269e6d476"
      },
      "execution_count": null,
      "outputs": [
        {
          "output_type": "stream",
          "name": "stdout",
          "text": [
            "My name is Drishya,and iam 25\n"
          ]
        }
      ]
    },
    {
      "cell_type": "code",
      "source": [
        "amount=3212\n",
        "orderno=4776\n",
        "quantity=10\n",
        "myorder='I want {} of my order {} for {} rupees.'\n",
        "print(myorder.format(quantity,orderno,amount))"
      ],
      "metadata": {
        "colab": {
          "base_uri": "https://localhost:8080/"
        },
        "id": "hfRwwZLZKrcl",
        "outputId": "347793c8-96a3-42b4-c490-bb44256e028a"
      },
      "execution_count": null,
      "outputs": [
        {
          "output_type": "stream",
          "name": "stdout",
          "text": [
            "I want 10 of my order 4776 for 3212 rupees.\n"
          ]
        }
      ]
    },
    {
      "cell_type": "code",
      "source": [
        "txt=\"hello \\bthis\\' s python\"\n",
        "print(txt)"
      ],
      "metadata": {
        "colab": {
          "base_uri": "https://localhost:8080/"
        },
        "id": "zIVvDV1gLM_8",
        "outputId": "e03cd8e7-1fad-4bed-ed5d-81f9b6f183c8"
      },
      "execution_count": null,
      "outputs": [
        {
          "output_type": "stream",
          "name": "stdout",
          "text": [
            "hello \bthis' s python\n"
          ]
        }
      ]
    },
    {
      "cell_type": "code",
      "source": [
        "txt=\"hello \\\"python \\\" programmer\"\n",
        "print(txt)"
      ],
      "metadata": {
        "colab": {
          "base_uri": "https://localhost:8080/"
        },
        "id": "zZbycHGkMrQs",
        "outputId": "b60043fa-ffbb-459c-8680-709cf86a0941"
      },
      "execution_count": null,
      "outputs": [
        {
          "output_type": "stream",
          "name": "stdout",
          "text": [
            "hello \"python \" programmer\n"
          ]
        }
      ]
    },
    {
      "cell_type": "code",
      "source": [
        "txt=\"hello \\npython programmer\"\n",
        "print(txt)"
      ],
      "metadata": {
        "colab": {
          "base_uri": "https://localhost:8080/"
        },
        "id": "yTjhuIXbO77b",
        "outputId": "3357362d-22b8-4271-cb83-44e763abf6e6"
      },
      "execution_count": null,
      "outputs": [
        {
          "output_type": "stream",
          "name": "stdout",
          "text": [
            "hello \n",
            "python programmer\n"
          ]
        }
      ]
    },
    {
      "cell_type": "code",
      "source": [
        "print(10 == 10)\n",
        "print(10<9)"
      ],
      "metadata": {
        "colab": {
          "base_uri": "https://localhost:8080/"
        },
        "id": "ixjout0pPJBh",
        "outputId": "845c0627-6cb9-4d1a-8fc9-e8ca07ac3773"
      },
      "execution_count": null,
      "outputs": [
        {
          "output_type": "stream",
          "name": "stdout",
          "text": [
            "True\n",
            "False\n"
          ]
        }
      ]
    },
    {
      "cell_type": "code",
      "source": [
        "print(bool(\"hello\"))\n",
        "print(bool(100))"
      ],
      "metadata": {
        "colab": {
          "base_uri": "https://localhost:8080/"
        },
        "id": "OvPNnFLgRKMB",
        "outputId": "0d9db257-ad25-467e-85dd-c99c94519cbb"
      },
      "execution_count": null,
      "outputs": [
        {
          "output_type": "stream",
          "name": "stdout",
          "text": [
            "True\n",
            "True\n"
          ]
        }
      ]
    },
    {
      "cell_type": "code",
      "source": [
        "print(bool(False))\n",
        "print(bool(()))\n",
        "print(bool([]))"
      ],
      "metadata": {
        "colab": {
          "base_uri": "https://localhost:8080/"
        },
        "id": "3HKAZOziRTBJ",
        "outputId": "d782e67d-05a7-445e-d36f-00de9904c1f6"
      },
      "execution_count": null,
      "outputs": [
        {
          "output_type": "stream",
          "name": "stdout",
          "text": [
            "False\n",
            "False\n",
            "False\n"
          ]
        }
      ]
    },
    {
      "cell_type": "code",
      "source": [
        "x=5\n",
        "y=6\n",
        "res=x+y\n",
        "print(res)"
      ],
      "metadata": {
        "colab": {
          "base_uri": "https://localhost:8080/"
        },
        "id": "tF66EVxURdD5",
        "outputId": "8e98b686-cf72-4a76-f547-e07e14b6e439"
      },
      "execution_count": null,
      "outputs": [
        {
          "output_type": "stream",
          "name": "stdout",
          "text": [
            "11\n"
          ]
        }
      ]
    },
    {
      "cell_type": "code",
      "source": [
        "x=5\n",
        "y=7\n",
        "res=y-x\n",
        "print(res)"
      ],
      "metadata": {
        "colab": {
          "base_uri": "https://localhost:8080/"
        },
        "id": "E4CyKEZkR7Ph",
        "outputId": "cb303ec7-2ce4-454a-9c3f-5d812b31d1c6"
      },
      "execution_count": null,
      "outputs": [
        {
          "output_type": "stream",
          "name": "stdout",
          "text": [
            "2\n"
          ]
        }
      ]
    },
    {
      "cell_type": "code",
      "source": [
        "x=5\n",
        "y=6\n",
        "res=x*y\n",
        "print(res)"
      ],
      "metadata": {
        "colab": {
          "base_uri": "https://localhost:8080/"
        },
        "id": "CIofdnAjSD_w",
        "outputId": "80b07dbd-d5ed-43cb-c2ae-bc0045d5c458"
      },
      "execution_count": null,
      "outputs": [
        {
          "output_type": "stream",
          "name": "stdout",
          "text": [
            "30\n"
          ]
        }
      ]
    },
    {
      "cell_type": "code",
      "source": [
        "print(2**3)"
      ],
      "metadata": {
        "colab": {
          "base_uri": "https://localhost:8080/"
        },
        "id": "lvmpNde5SLqo",
        "outputId": "3fc6a756-a7cb-4faf-c9f6-0a7225f6fcb7"
      },
      "execution_count": null,
      "outputs": [
        {
          "output_type": "stream",
          "name": "stdout",
          "text": [
            "8\n"
          ]
        }
      ]
    },
    {
      "cell_type": "code",
      "source": [
        "x=10\n",
        "y=5\n",
        "res=x/y\n",
        "print(res)"
      ],
      "metadata": {
        "colab": {
          "base_uri": "https://localhost:8080/"
        },
        "id": "GlKSpfk2SQHQ",
        "outputId": "93933318-34d6-418a-9c49-62071a3a4a47"
      },
      "execution_count": null,
      "outputs": [
        {
          "output_type": "stream",
          "name": "stdout",
          "text": [
            "2.0\n"
          ]
        }
      ]
    },
    {
      "cell_type": "code",
      "source": [
        "x=10\n",
        "y=6\n",
        "res=x//y\n",
        "print(res)"
      ],
      "metadata": {
        "colab": {
          "base_uri": "https://localhost:8080/"
        },
        "id": "cX8J3RuNSZMY",
        "outputId": "762db6a4-c2da-4213-8b69-d4fd7f41bd59"
      },
      "execution_count": null,
      "outputs": [
        {
          "output_type": "stream",
          "name": "stdout",
          "text": [
            "1\n"
          ]
        }
      ]
    },
    {
      "cell_type": "code",
      "source": [
        "x=10\n",
        "y=6\n",
        "res=x%y\n",
        "print(res)\n"
      ],
      "metadata": {
        "colab": {
          "base_uri": "https://localhost:8080/"
        },
        "id": "QOcrPUW7SgxA",
        "outputId": "57f23491-a812-44c6-9ff3-0a675ab991a9"
      },
      "execution_count": null,
      "outputs": [
        {
          "output_type": "stream",
          "name": "stdout",
          "text": [
            "4\n"
          ]
        }
      ]
    },
    {
      "cell_type": "code",
      "source": [
        "import operator\n",
        "operator.add(4,5)"
      ],
      "metadata": {
        "colab": {
          "base_uri": "https://localhost:8080/"
        },
        "id": "9vqfrG27SuJo",
        "outputId": "00313d14-b24e-4be6-f7cf-685733091095"
      },
      "execution_count": null,
      "outputs": [
        {
          "output_type": "execute_result",
          "data": {
            "text/plain": [
              "9"
            ]
          },
          "metadata": {},
          "execution_count": 24
        }
      ]
    },
    {
      "cell_type": "code",
      "source": [
        "operator.sub(10,2)"
      ],
      "metadata": {
        "colab": {
          "base_uri": "https://localhost:8080/"
        },
        "id": "lsPbL5slUshw",
        "outputId": "b7feb41a-e689-4e1a-aa83-9a773f4d8bdf"
      },
      "execution_count": null,
      "outputs": [
        {
          "output_type": "execute_result",
          "data": {
            "text/plain": [
              "8"
            ]
          },
          "metadata": {},
          "execution_count": 25
        }
      ]
    },
    {
      "cell_type": "code",
      "source": [
        "operator.mul(2,5)"
      ],
      "metadata": {
        "colab": {
          "base_uri": "https://localhost:8080/"
        },
        "id": "zQoD9m-wUwPX",
        "outputId": "58487807-f026-4dd9-d758-f1d6efd7de59"
      },
      "execution_count": null,
      "outputs": [
        {
          "output_type": "execute_result",
          "data": {
            "text/plain": [
              "10"
            ]
          },
          "metadata": {},
          "execution_count": 27
        }
      ]
    },
    {
      "cell_type": "code",
      "source": [
        "operator.pow(3,3)"
      ],
      "metadata": {
        "colab": {
          "base_uri": "https://localhost:8080/"
        },
        "id": "7ZLtKomgU1IH",
        "outputId": "0b595918-60b5-46c9-e970-dfd387cfb192"
      },
      "execution_count": null,
      "outputs": [
        {
          "output_type": "execute_result",
          "data": {
            "text/plain": [
              "27"
            ]
          },
          "metadata": {},
          "execution_count": 28
        }
      ]
    },
    {
      "cell_type": "code",
      "source": [
        "operator.truediv(10,2)"
      ],
      "metadata": {
        "colab": {
          "base_uri": "https://localhost:8080/"
        },
        "id": "nVupnMEfU5Zv",
        "outputId": "3a80887a-4db0-41df-9614-15d827b22740"
      },
      "execution_count": null,
      "outputs": [
        {
          "output_type": "execute_result",
          "data": {
            "text/plain": [
              "5.0"
            ]
          },
          "metadata": {},
          "execution_count": 29
        }
      ]
    },
    {
      "cell_type": "code",
      "source": [
        "operator.floordiv(10,3)"
      ],
      "metadata": {
        "colab": {
          "base_uri": "https://localhost:8080/"
        },
        "id": "ImLwXjisU9r3",
        "outputId": "10c4f687-bdcd-454e-e235-e45478e15b70"
      },
      "execution_count": null,
      "outputs": [
        {
          "output_type": "execute_result",
          "data": {
            "text/plain": [
              "3"
            ]
          },
          "metadata": {},
          "execution_count": 30
        }
      ]
    },
    {
      "cell_type": "code",
      "source": [
        "operator.mod(10,3)"
      ],
      "metadata": {
        "colab": {
          "base_uri": "https://localhost:8080/"
        },
        "id": "CtnyPgFwVCag",
        "outputId": "a638fbfd-18fd-42a6-da2d-ee433d206de2"
      },
      "execution_count": null,
      "outputs": [
        {
          "output_type": "execute_result",
          "data": {
            "text/plain": [
              "1"
            ]
          },
          "metadata": {},
          "execution_count": 31
        }
      ]
    },
    {
      "cell_type": "code",
      "source": [
        "x=5\n",
        "print(x)\n"
      ],
      "metadata": {
        "colab": {
          "base_uri": "https://localhost:8080/"
        },
        "id": "SegzUMmIVHBn",
        "outputId": "419737ad-d481-46ea-8382-3388fe5740ae"
      },
      "execution_count": null,
      "outputs": [
        {
          "output_type": "stream",
          "name": "stdout",
          "text": [
            "5\n"
          ]
        }
      ]
    },
    {
      "cell_type": "code",
      "source": [
        "x=6\n",
        "x+=5\n",
        "print(x)\n",
        "operator.iadd(5,5)"
      ],
      "metadata": {
        "colab": {
          "base_uri": "https://localhost:8080/"
        },
        "id": "5IiNButEV_dg",
        "outputId": "6793ea09-f208-43f7-f7d4-7f0d346403c9"
      },
      "execution_count": null,
      "outputs": [
        {
          "output_type": "stream",
          "name": "stdout",
          "text": [
            "11\n"
          ]
        },
        {
          "output_type": "execute_result",
          "data": {
            "text/plain": [
              "10"
            ]
          },
          "metadata": {},
          "execution_count": 34
        }
      ]
    },
    {
      "cell_type": "code",
      "source": [
        "x=6\n",
        "x-=5\n",
        "print(x)"
      ],
      "metadata": {
        "colab": {
          "base_uri": "https://localhost:8080/"
        },
        "id": "lp_s8xqtWHHn",
        "outputId": "02926fe0-2f73-4621-f54b-12a00bbf253f"
      },
      "execution_count": null,
      "outputs": [
        {
          "output_type": "stream",
          "name": "stdout",
          "text": [
            "1\n"
          ]
        }
      ]
    },
    {
      "cell_type": "code",
      "source": [
        "x=6\n",
        "x*=5\n",
        "print(x)"
      ],
      "metadata": {
        "colab": {
          "base_uri": "https://localhost:8080/"
        },
        "id": "P8kIXGytWf1n",
        "outputId": "682dd93c-de7d-4f05-9556-c889703ac990"
      },
      "execution_count": null,
      "outputs": [
        {
          "output_type": "stream",
          "name": "stdout",
          "text": [
            "30\n"
          ]
        }
      ]
    },
    {
      "cell_type": "code",
      "source": [
        "x=5\n",
        "y=6\n",
        "x>1 and y<10"
      ],
      "metadata": {
        "colab": {
          "base_uri": "https://localhost:8080/"
        },
        "id": "ewwBaHalWk-H",
        "outputId": "2940f432-dfce-4552-c529-91c87abfa6d4"
      },
      "execution_count": null,
      "outputs": [
        {
          "output_type": "execute_result",
          "data": {
            "text/plain": [
              "True"
            ]
          },
          "metadata": {},
          "execution_count": 37
        }
      ]
    },
    {
      "cell_type": "code",
      "source": [
        "x=5\n",
        "y=6\n",
        "x>1 or y>10"
      ],
      "metadata": {
        "colab": {
          "base_uri": "https://localhost:8080/"
        },
        "id": "XKgu_BBla3fm",
        "outputId": "9165d674-1957-4ffa-d59d-a4d3fa2a1215"
      },
      "execution_count": null,
      "outputs": [
        {
          "output_type": "execute_result",
          "data": {
            "text/plain": [
              "True"
            ]
          },
          "metadata": {},
          "execution_count": 38
        }
      ]
    },
    {
      "cell_type": "code",
      "source": [
        "x=4\n",
        "not x>1"
      ],
      "metadata": {
        "colab": {
          "base_uri": "https://localhost:8080/"
        },
        "id": "eR3CUJiya__-",
        "outputId": "62ab715a-a4af-4e0b-8716-4d83b18e3234"
      },
      "execution_count": null,
      "outputs": [
        {
          "output_type": "execute_result",
          "data": {
            "text/plain": [
              "False"
            ]
          },
          "metadata": {},
          "execution_count": 39
        }
      ]
    },
    {
      "cell_type": "code",
      "source": [
        "x=6\n",
        "not x>10"
      ],
      "metadata": {
        "colab": {
          "base_uri": "https://localhost:8080/"
        },
        "id": "y9r19u0vbEBn",
        "outputId": "60d99865-9ca1-40dd-cc96-5ef7d2607a1c"
      },
      "execution_count": null,
      "outputs": [
        {
          "output_type": "execute_result",
          "data": {
            "text/plain": [
              "True"
            ]
          },
          "metadata": {},
          "execution_count": 40
        }
      ]
    },
    {
      "cell_type": "code",
      "source": [
        "x=5\n",
        "y=6\n",
        "x is y"
      ],
      "metadata": {
        "colab": {
          "base_uri": "https://localhost:8080/"
        },
        "id": "tEMXfIRRbJPO",
        "outputId": "9263f60d-8929-4f7a-d22a-7e5aeac45747"
      },
      "execution_count": null,
      "outputs": [
        {
          "output_type": "execute_result",
          "data": {
            "text/plain": [
              "False"
            ]
          },
          "metadata": {},
          "execution_count": 41
        }
      ]
    },
    {
      "cell_type": "code",
      "source": [
        "operator.is_(5,6)"
      ],
      "metadata": {
        "colab": {
          "base_uri": "https://localhost:8080/"
        },
        "id": "s5typgzqbQIl",
        "outputId": "ddf2a04b-6ba7-4ae4-d02b-7ec86a7837c8"
      },
      "execution_count": null,
      "outputs": [
        {
          "output_type": "execute_result",
          "data": {
            "text/plain": [
              "False"
            ]
          },
          "metadata": {},
          "execution_count": 42
        }
      ]
    },
    {
      "cell_type": "code",
      "source": [
        "x=5\n",
        "y=6\n",
        "x is not y"
      ],
      "metadata": {
        "colab": {
          "base_uri": "https://localhost:8080/"
        },
        "id": "J7aq5hdpbV8d",
        "outputId": "a4eb743a-5b7e-4948-82c1-87e07eaf4e4b"
      },
      "execution_count": null,
      "outputs": [
        {
          "output_type": "execute_result",
          "data": {
            "text/plain": [
              "True"
            ]
          },
          "metadata": {},
          "execution_count": 43
        }
      ]
    },
    {
      "cell_type": "code",
      "source": [
        "operator.is_not(5,6)"
      ],
      "metadata": {
        "colab": {
          "base_uri": "https://localhost:8080/"
        },
        "id": "zHky5ysPbbiF",
        "outputId": "cfcd7b4d-2502-43d6-a107-08159169048d"
      },
      "execution_count": null,
      "outputs": [
        {
          "output_type": "execute_result",
          "data": {
            "text/plain": [
              "True"
            ]
          },
          "metadata": {},
          "execution_count": 44
        }
      ]
    },
    {
      "cell_type": "code",
      "source": [
        "nums=[1,2,3,4,5]\n",
        "1 in nums\n"
      ],
      "metadata": {
        "colab": {
          "base_uri": "https://localhost:8080/"
        },
        "id": "rQLF13KpbgWd",
        "outputId": "c650ab8e-20fb-4b68-8273-4fef917fef5c"
      },
      "execution_count": null,
      "outputs": [
        {
          "output_type": "execute_result",
          "data": {
            "text/plain": [
              "True"
            ]
          },
          "metadata": {},
          "execution_count": 47
        }
      ]
    },
    {
      "cell_type": "code",
      "source": [
        "nums=[1,2,3,4,5]\n",
        "1 not in nums"
      ],
      "metadata": {
        "colab": {
          "base_uri": "https://localhost:8080/"
        },
        "id": "7rlFYdafbmmN",
        "outputId": "ab1342e5-8f9a-46e9-a508-b90b43dbf2e1"
      },
      "execution_count": null,
      "outputs": [
        {
          "output_type": "execute_result",
          "data": {
            "text/plain": [
              "False"
            ]
          },
          "metadata": {},
          "execution_count": 46
        }
      ]
    },
    {
      "cell_type": "code",
      "source": [
        "nums=[1,2,3,4,5]\n",
        "operator.contains(nums,3)"
      ],
      "metadata": {
        "colab": {
          "base_uri": "https://localhost:8080/",
          "height": 159
        },
        "id": "k7Osi0A3btPd",
        "outputId": "feb99363-ee85-4065-d2a5-0306342cce0d"
      },
      "execution_count": null,
      "outputs": [
        {
          "output_type": "error",
          "ename": "NameError",
          "evalue": "name 'operator' is not defined",
          "traceback": [
            "\u001b[0;31m---------------------------------------------------------------------------\u001b[0m",
            "\u001b[0;31mNameError\u001b[0m                                 Traceback (most recent call last)",
            "\u001b[0;32m<ipython-input-1-00f7a34e359f>\u001b[0m in \u001b[0;36m<cell line: 0>\u001b[0;34m()\u001b[0m\n\u001b[1;32m      1\u001b[0m \u001b[0mnums\u001b[0m\u001b[0;34m=\u001b[0m\u001b[0;34m[\u001b[0m\u001b[0;36m1\u001b[0m\u001b[0;34m,\u001b[0m\u001b[0;36m2\u001b[0m\u001b[0;34m,\u001b[0m\u001b[0;36m3\u001b[0m\u001b[0;34m,\u001b[0m\u001b[0;36m4\u001b[0m\u001b[0;34m,\u001b[0m\u001b[0;36m5\u001b[0m\u001b[0;34m]\u001b[0m\u001b[0;34m\u001b[0m\u001b[0;34m\u001b[0m\u001b[0m\n\u001b[0;32m----> 2\u001b[0;31m \u001b[0moperator\u001b[0m\u001b[0;34m.\u001b[0m\u001b[0mcontains\u001b[0m\u001b[0;34m(\u001b[0m\u001b[0mnums\u001b[0m\u001b[0;34m,\u001b[0m\u001b[0;36m3\u001b[0m\u001b[0;34m)\u001b[0m\u001b[0;34m\u001b[0m\u001b[0;34m\u001b[0m\u001b[0m\n\u001b[0m",
            "\u001b[0;31mNameError\u001b[0m: name 'operator' is not defined"
          ]
        }
      ]
    },
    {
      "cell_type": "code",
      "source": [
        "nums=[1,2,3,4,5]\n",
        "not operator.contains(nums,2)"
      ],
      "metadata": {
        "colab": {
          "base_uri": "https://localhost:8080/"
        },
        "id": "wqFlQDuBb-5d",
        "outputId": "e247758c-9ca3-445e-e30b-9ef5bd0b8f77"
      },
      "execution_count": null,
      "outputs": [
        {
          "output_type": "execute_result",
          "data": {
            "text/plain": [
              "False"
            ]
          },
          "metadata": {},
          "execution_count": 49
        }
      ]
    },
    {
      "cell_type": "code",
      "source": [
        "#LISTS\n",
        "Fruits=[\"apple\",\"orange\",\"mango\",\"kiwi\"]\n",
        "print(Fruits)"
      ],
      "metadata": {
        "colab": {
          "base_uri": "https://localhost:8080/"
        },
        "id": "AhuxcnQ2cFG9",
        "outputId": "fba52ec9-727a-4f1c-d838-9a79ce9b3404"
      },
      "execution_count": null,
      "outputs": [
        {
          "output_type": "stream",
          "name": "stdout",
          "text": [
            "['apple', 'orange', 'mango', 'kiwi']\n"
          ]
        }
      ]
    },
    {
      "cell_type": "code",
      "source": [
        "Fruits=[\"apple\",\"orange\",\"mango\",\"kiwi\"]\n",
        "print(Fruits[2])"
      ],
      "metadata": {
        "colab": {
          "base_uri": "https://localhost:8080/"
        },
        "id": "oZDI57VhgjOk",
        "outputId": "145a283d-4314-4e84-941b-8c02f7807e7a"
      },
      "execution_count": null,
      "outputs": [
        {
          "output_type": "stream",
          "name": "stdout",
          "text": [
            "mango\n"
          ]
        }
      ]
    },
    {
      "cell_type": "code",
      "source": [
        "Fruits=[\"apple\",\"orange\",\"mango\",\"kiwi\"]\n",
        "print(Fruits[-1])                         #negative indexing"
      ],
      "metadata": {
        "colab": {
          "base_uri": "https://localhost:8080/"
        },
        "id": "vp_jUpubgpxE",
        "outputId": "5dc6c72a-f45f-4b79-d173-b563d332e94e"
      },
      "execution_count": null,
      "outputs": [
        {
          "output_type": "stream",
          "name": "stdout",
          "text": [
            "kiwi\n"
          ]
        }
      ]
    },
    {
      "cell_type": "code",
      "source": [
        "Fruits=[\"apple\",\"orange\",\"mango\",\"kiwi\"]\n",
        "print(Fruits[1:3])"
      ],
      "metadata": {
        "colab": {
          "base_uri": "https://localhost:8080/"
        },
        "id": "iU1RL6D1gudE",
        "outputId": "d9e5d507-419c-42ee-e55d-3837b937720f"
      },
      "execution_count": null,
      "outputs": [
        {
          "output_type": "stream",
          "name": "stdout",
          "text": [
            "['orange', 'mango']\n"
          ]
        }
      ]
    },
    {
      "cell_type": "code",
      "source": [
        "Fruits=[\"apple\",\"orange\",\"mango\",\"kiwi\"]\n",
        "print(Fruits[:3])"
      ],
      "metadata": {
        "colab": {
          "base_uri": "https://localhost:8080/"
        },
        "id": "G23zQi_7gzR0",
        "outputId": "0b9b387e-cbcd-43bf-e992-02ac20e3ea7b"
      },
      "execution_count": null,
      "outputs": [
        {
          "output_type": "stream",
          "name": "stdout",
          "text": [
            "['apple', 'orange', 'mango']\n"
          ]
        }
      ]
    },
    {
      "cell_type": "code",
      "source": [
        "Fruits=[\"apple\",\"orange\",\"mango\",\"kiwi\"]\n",
        "print(Fruits[0:])"
      ],
      "metadata": {
        "colab": {
          "base_uri": "https://localhost:8080/"
        },
        "id": "9wBpXsQxg4ir",
        "outputId": "06ad3e3c-5e69-45c9-9734-37c85a3c795f"
      },
      "execution_count": null,
      "outputs": [
        {
          "output_type": "stream",
          "name": "stdout",
          "text": [
            "['apple', 'orange', 'mango', 'kiwi']\n"
          ]
        }
      ]
    },
    {
      "cell_type": "code",
      "source": [
        "Fruits=[\"apple\",\"orange\",\"mango\",\"kiwi\",\"pineapple\"]\n",
        "Fruits[2:4]=[\"watrmelon\",\"greenapple\"]                  #replace using slicing\n",
        "print(Fruits)\n"
      ],
      "metadata": {
        "colab": {
          "base_uri": "https://localhost:8080/"
        },
        "id": "cbUp9_oeg_JM",
        "outputId": "712e6d07-b248-4e8d-b605-1a9d5dc6acdb"
      },
      "execution_count": null,
      "outputs": [
        {
          "output_type": "stream",
          "name": "stdout",
          "text": [
            "['apple', 'orange', 'watrmelon', 'greenapple', 'pineapple']\n"
          ]
        }
      ]
    },
    {
      "cell_type": "code",
      "source": [
        "Fruits=[\"apple\",\"orange\",\"mango\"]\n",
        "Fruits[2:]=[\"watermelon\",\"kiwi\"]\n",
        "print(Fruits)"
      ],
      "metadata": {
        "colab": {
          "base_uri": "https://localhost:8080/"
        },
        "id": "CofEEUSdiydz",
        "outputId": "d009a6b7-2fa2-4331-d4cf-2b8dfb46251b"
      },
      "execution_count": null,
      "outputs": [
        {
          "output_type": "stream",
          "name": "stdout",
          "text": [
            "['apple', 'orange', 'watermelon', 'kiwi']\n"
          ]
        }
      ]
    },
    {
      "cell_type": "code",
      "source": [
        "Fruits=[\"apple\",\"banana\",\"orange\"]\n",
        "Fruits[1:2]=[\"kiwi\"]\n",
        "print(Fruits)"
      ],
      "metadata": {
        "colab": {
          "base_uri": "https://localhost:8080/"
        },
        "id": "ehHNxxxSjLY7",
        "outputId": "a2ad3802-2d02-4617-af97-e59a165487b5"
      },
      "execution_count": null,
      "outputs": [
        {
          "output_type": "stream",
          "name": "stdout",
          "text": [
            "['apple', 'kiwi', 'orange']\n"
          ]
        }
      ]
    },
    {
      "cell_type": "code",
      "source": [
        "#insert function\n",
        "Fruits=[\"apple\",\"banana\",\"cherry\"]\n",
        "Fruits.insert(1,\"orange\")\n",
        "print(Fruits)"
      ],
      "metadata": {
        "colab": {
          "base_uri": "https://localhost:8080/"
        },
        "id": "mscX2j53nHu6",
        "outputId": "b49667c9-a01f-4494-bd8a-adc35f7787a1"
      },
      "execution_count": null,
      "outputs": [
        {
          "output_type": "stream",
          "name": "stdout",
          "text": [
            "['apple', 'orange', 'banana', 'cherry']\n"
          ]
        }
      ]
    },
    {
      "cell_type": "code",
      "source": [
        "#append function\n",
        "Fruits=[\"apple\",\"banana\",\"cherry\"]\n",
        "Fruits.append(\"orange\")\n",
        "print(Fruits)"
      ],
      "metadata": {
        "colab": {
          "base_uri": "https://localhost:8080/"
        },
        "id": "9w3INpf7nvWK",
        "outputId": "bbd1d132-9757-4494-da1f-297a693df137"
      },
      "execution_count": null,
      "outputs": [
        {
          "output_type": "stream",
          "name": "stdout",
          "text": [
            "['apple', 'banana', 'cherry', 'orange']\n"
          ]
        }
      ]
    },
    {
      "cell_type": "code",
      "source": [
        "#To append elements from another list-extend()\n",
        "Fruits=[\"apple\",\"banana\",\"cherry\"]\n",
        "Fruits2=[\"mango\",\"pineapple\",\"papaya\"]\n",
        "Fruits.extend(Fruits2)\n",
        "print(Fruits)"
      ],
      "metadata": {
        "colab": {
          "base_uri": "https://localhost:8080/"
        },
        "id": "FHd0myvcoHkZ",
        "outputId": "4f540899-4371-4d7c-d78e-15de1db4dc2a"
      },
      "execution_count": null,
      "outputs": [
        {
          "output_type": "stream",
          "name": "stdout",
          "text": [
            "['apple', 'banana', 'cherry', 'mango', 'pineapple', 'papaya']\n"
          ]
        }
      ]
    },
    {
      "cell_type": "code",
      "source": [
        "#remove function\n",
        "Fruits=[\"apple\",\"banana\",\"cherry\"]\n",
        "Fruits.remove(\"apple\")\n",
        "print(Fruits)\n"
      ],
      "metadata": {
        "colab": {
          "base_uri": "https://localhost:8080/"
        },
        "id": "NGr16WAFpn2Z",
        "outputId": "d331841f-9469-45ea-8a12-c772e54a2991"
      },
      "execution_count": null,
      "outputs": [
        {
          "output_type": "stream",
          "name": "stdout",
          "text": [
            "['banana', 'cherry']\n"
          ]
        }
      ]
    },
    {
      "cell_type": "code",
      "source": [
        "#pop\n",
        "Fruits=[\"apple\",\"banana\",\"cherry\"]\n",
        "Fruits.pop(1)\n",
        "print(Fruits)"
      ],
      "metadata": {
        "colab": {
          "base_uri": "https://localhost:8080/"
        },
        "id": "Z1OUqadYqZ_x",
        "outputId": "96207109-6304-4ba6-8cf8-be794d82200d"
      },
      "execution_count": null,
      "outputs": [
        {
          "output_type": "stream",
          "name": "stdout",
          "text": [
            "['apple', 'cherry']\n"
          ]
        }
      ]
    },
    {
      "cell_type": "code",
      "source": [
        "#del\n",
        "Fruits=[\"apple\",\"banana\",\"cherry\"]\n",
        "del Fruits[1]\n",
        "print(Fruits)"
      ],
      "metadata": {
        "colab": {
          "base_uri": "https://localhost:8080/"
        },
        "id": "UikWEIIYqkTB",
        "outputId": "290ba8e6-71e4-48a3-f981-310bf8f903b2"
      },
      "execution_count": null,
      "outputs": [
        {
          "output_type": "stream",
          "name": "stdout",
          "text": [
            "['apple', 'cherry']\n"
          ]
        }
      ]
    },
    {
      "cell_type": "code",
      "source": [
        "#to delete all items\n",
        "Fruits=[\"apple\",\"banana\",\"cherry\"]\n",
        "del Fruits\n"
      ],
      "metadata": {
        "id": "lRX-ElDPrAjZ"
      },
      "execution_count": null,
      "outputs": []
    },
    {
      "cell_type": "code",
      "source": [
        "#to clear items in list\n",
        "Fruits=[\"apple\",\"banana\",\"cherry\"]\n",
        "Fruits.clear()\n",
        "print(Fruits)"
      ],
      "metadata": {
        "colab": {
          "base_uri": "https://localhost:8080/"
        },
        "id": "zgI00eTwrRPp",
        "outputId": "3d67867f-ce27-4a0d-9b64-2061155c440d"
      },
      "execution_count": null,
      "outputs": [
        {
          "output_type": "stream",
          "name": "stdout",
          "text": [
            "[]\n"
          ]
        }
      ]
    },
    {
      "cell_type": "code",
      "source": [
        "#to copy items in this list to another\n",
        "Fruits=[\"apple\",\"banana\",\"cherry\"]\n",
        "myfruits=Fruits.copy()\n",
        "print(myfruits)"
      ],
      "metadata": {
        "colab": {
          "base_uri": "https://localhost:8080/"
        },
        "id": "G4iQ1eoEsGZY",
        "outputId": "92bc1235-a374-4d83-ec43-e8339774d87b"
      },
      "execution_count": null,
      "outputs": [
        {
          "output_type": "stream",
          "name": "stdout",
          "text": [
            "['apple', 'banana', 'cherry']\n"
          ]
        }
      ]
    },
    {
      "cell_type": "code",
      "source": [
        "#count function- to count the occurence of element\n",
        "Fruits=[\"apple\",\"banana\",\"cherry\"]\n",
        "Fruits.count(\"apple\")"
      ],
      "metadata": {
        "colab": {
          "base_uri": "https://localhost:8080/"
        },
        "id": "18-k3bBCsdR4",
        "outputId": "8459a8ac-ebf1-4226-d0c1-b5022004e021"
      },
      "execution_count": null,
      "outputs": [
        {
          "output_type": "execute_result",
          "data": {
            "text/plain": [
              "1"
            ]
          },
          "metadata": {},
          "execution_count": 84
        }
      ]
    },
    {
      "cell_type": "code",
      "source": [
        "Fruits=[\"apple\",\"banana\",\"cherry\"]\n",
        "Fruits.index(\"banana\")"
      ],
      "metadata": {
        "colab": {
          "base_uri": "https://localhost:8080/"
        },
        "id": "8cjadr3yulnv",
        "outputId": "248f6006-c519-431f-b2c2-2d2db320a6f9"
      },
      "execution_count": null,
      "outputs": [
        {
          "output_type": "execute_result",
          "data": {
            "text/plain": [
              "1"
            ]
          },
          "metadata": {},
          "execution_count": 85
        }
      ]
    },
    {
      "cell_type": "code",
      "source": [
        "Fruits=[\"apple\",\"banana\",\"cherry\"]\n",
        "Fruits.reverse()\n",
        "print(Fruits)"
      ],
      "metadata": {
        "colab": {
          "base_uri": "https://localhost:8080/"
        },
        "id": "cnJY_Lqmv_s3",
        "outputId": "9776aecf-ed71-4240-ed32-b5839bd65ad4"
      },
      "execution_count": null,
      "outputs": [
        {
          "output_type": "stream",
          "name": "stdout",
          "text": [
            "['cherry', 'banana', 'apple']\n"
          ]
        }
      ]
    },
    {
      "cell_type": "code",
      "source": [
        "\n",
        "Fruits=[\"apple\",\"cherry\",\"pineapple\",\"banana\"]\n",
        "Fruits.sort()\n",
        "print(Fruits)"
      ],
      "metadata": {
        "colab": {
          "base_uri": "https://localhost:8080/"
        },
        "id": "zKlux62pwGzn",
        "outputId": "c4007c09-5571-424d-d2a1-ee6915ec06f1"
      },
      "execution_count": null,
      "outputs": [
        {
          "output_type": "stream",
          "name": "stdout",
          "text": [
            "['apple', 'banana', 'cherry', 'pineapple']\n"
          ]
        }
      ]
    },
    {
      "cell_type": "code",
      "source": [
        "#Tuple\n",
        "fruits=(\"apple\",\"orange\",\"kiwi\")\n",
        "print(fruits)"
      ],
      "metadata": {
        "colab": {
          "base_uri": "https://localhost:8080/"
        },
        "id": "5EIoAGscwYQf",
        "outputId": "483fac49-e334-4a9e-8c06-bcb67c31c85a"
      },
      "execution_count": null,
      "outputs": [
        {
          "output_type": "stream",
          "name": "stdout",
          "text": [
            "('apple', 'orange', 'kiwi')\n"
          ]
        }
      ]
    },
    {
      "cell_type": "code",
      "source": [
        "fruits=(\"apple\",\"orange\",\"kiwi\")\n",
        "print(len(fruits))"
      ],
      "metadata": {
        "colab": {
          "base_uri": "https://localhost:8080/"
        },
        "id": "8y4Uw4Avxq4f",
        "outputId": "28a4815a-b3f5-49a5-9e75-0f407ae10174"
      },
      "execution_count": null,
      "outputs": [
        {
          "output_type": "stream",
          "name": "stdout",
          "text": [
            "3\n"
          ]
        }
      ]
    },
    {
      "cell_type": "code",
      "source": [
        "#type function -to check the type of sequence\n",
        "fruits=(\"apple\",\"orange\",\"kiwi\")\n",
        "print(type(fruits))"
      ],
      "metadata": {
        "colab": {
          "base_uri": "https://localhost:8080/"
        },
        "id": "Kky0IbRlx05-",
        "outputId": "7f6e24f9-2756-45a2-c34b-f8c6df853b20"
      },
      "execution_count": null,
      "outputs": [
        {
          "output_type": "stream",
          "name": "stdout",
          "text": [
            "<class 'tuple'>\n"
          ]
        }
      ]
    },
    {
      "cell_type": "code",
      "source": [
        "fruits=(\"apple\",\"orange\",\"kiwi\")\n",
        "print(fruits[1])"
      ],
      "metadata": {
        "colab": {
          "base_uri": "https://localhost:8080/"
        },
        "id": "yiubr5U8x8XX",
        "outputId": "6b47af36-a9ac-4e69-f673-a78ac1f68f72"
      },
      "execution_count": null,
      "outputs": [
        {
          "output_type": "stream",
          "name": "stdout",
          "text": [
            "orange\n"
          ]
        }
      ]
    },
    {
      "cell_type": "code",
      "source": [
        "fruits=(\"apple\",\"orange\",\"kiwi\")\n",
        "print(fruits[-1])"
      ],
      "metadata": {
        "colab": {
          "base_uri": "https://localhost:8080/"
        },
        "id": "ATQJ4X31yNZf",
        "outputId": "84297208-0918-42cf-f250-2540a5303b23"
      },
      "execution_count": null,
      "outputs": [
        {
          "output_type": "stream",
          "name": "stdout",
          "text": [
            "kiwi\n"
          ]
        }
      ]
    },
    {
      "cell_type": "code",
      "source": [
        "fruits=(\"apple\",\"orange\",\"kiwi\",\"cherry\",\"banana\")\n",
        "print(fruits[2:])"
      ],
      "metadata": {
        "colab": {
          "base_uri": "https://localhost:8080/"
        },
        "id": "kkxXDF6GySBE",
        "outputId": "b5790d17-6f2b-4c03-9a66-b96e137f1c14"
      },
      "execution_count": null,
      "outputs": [
        {
          "output_type": "stream",
          "name": "stdout",
          "text": [
            "('kiwi', 'cherry', 'banana')\n"
          ]
        }
      ]
    },
    {
      "cell_type": "code",
      "source": [
        "#changing tuple to list\n",
        "x=(\"apple\",\"orange\",\"kiwi\")\n",
        "y=list(x)\n",
        "y[1]=\"watermelon\"\n",
        "#print(y)\n",
        "x=tuple(y)\n",
        "print(x)"
      ],
      "metadata": {
        "colab": {
          "base_uri": "https://localhost:8080/"
        },
        "id": "nMrfuwahyf62",
        "outputId": "6ab05e5d-501c-4e15-935f-cc1ae6c367c9"
      },
      "execution_count": null,
      "outputs": [
        {
          "output_type": "stream",
          "name": "stdout",
          "text": [
            "('apple', 'watermelon', 'kiwi')\n"
          ]
        }
      ]
    },
    {
      "cell_type": "code",
      "source": [
        "#packing and unpacking\n",
        "fruits=(\"apple\",\"orange\",\"kiwi\")    #packed values\n",
        "(green,yellow,red)=fruits\n",
        "print(green)\n",
        "print(yellow)\n",
        "print(red)"
      ],
      "metadata": {
        "colab": {
          "base_uri": "https://localhost:8080/"
        },
        "id": "cAertEqnzLcG",
        "outputId": "4a7de910-5b51-4095-fa0d-8ca8992fb8b2"
      },
      "execution_count": null,
      "outputs": [
        {
          "output_type": "stream",
          "name": "stdout",
          "text": [
            "apple\n",
            "orange\n",
            "kiwi\n"
          ]
        }
      ]
    },
    {
      "cell_type": "code",
      "source": [
        "#SETS\n",
        "fruits={\"apple\",\"orange\",\"banana\"}\n",
        "print(fruits)"
      ],
      "metadata": {
        "id": "F0YCRftiz3E-",
        "colab": {
          "base_uri": "https://localhost:8080/"
        },
        "outputId": "8668faa6-a1f1-4ad9-9d18-f2795f864262"
      },
      "execution_count": null,
      "outputs": [
        {
          "output_type": "stream",
          "name": "stdout",
          "text": [
            "{'apple', 'banana', 'orange'}\n"
          ]
        }
      ]
    },
    {
      "cell_type": "code",
      "source": [
        "#add function\n",
        "fruits={\"apple\",\"orange\",\"banana\"}\n",
        "fruits.add(\"cherry\")\n",
        "print(fruits)"
      ],
      "metadata": {
        "colab": {
          "base_uri": "https://localhost:8080/"
        },
        "id": "-IzHxGTiS-Et",
        "outputId": "dbda3007-03a6-400e-ebce-4ccb2dfd63eb"
      },
      "execution_count": null,
      "outputs": [
        {
          "output_type": "stream",
          "name": "stdout",
          "text": [
            "{'apple', 'banana', 'orange', 'cherry'}\n"
          ]
        }
      ]
    },
    {
      "cell_type": "code",
      "source": [
        "#update-merge list or tuple with set using this function\n",
        "fruits={\"apple\",\"orange\",\"banana\"}\n",
        "mylist=[\"cherry\",\"kiwi\"]\n",
        "fruits.update(mylist)\n",
        "print(fruits)"
      ],
      "metadata": {
        "colab": {
          "base_uri": "https://localhost:8080/"
        },
        "id": "xNTIp4-uTNyz",
        "outputId": "77e62b95-832d-4dab-f3e4-54ddb5177ae3"
      },
      "execution_count": null,
      "outputs": [
        {
          "output_type": "stream",
          "name": "stdout",
          "text": [
            "{'banana', 'orange', 'apple', 'cherry', 'kiwi'}\n"
          ]
        }
      ]
    },
    {
      "cell_type": "code",
      "source": [
        "#remove function\n",
        "fruits={\"apple\",\"orange\",\"banana\"}\n",
        "fruits.remove(\"banana\")\n",
        "print(fruits)"
      ],
      "metadata": {
        "colab": {
          "base_uri": "https://localhost:8080/"
        },
        "id": "9KPXpDyvT56i",
        "outputId": "8f5687be-c116-494b-f8a0-de6f41bdfe40"
      },
      "execution_count": null,
      "outputs": [
        {
          "output_type": "stream",
          "name": "stdout",
          "text": [
            "{'apple', 'orange'}\n"
          ]
        }
      ]
    },
    {
      "cell_type": "code",
      "source": [
        "#discard -same as remove function\n",
        "fruits={\"apple\",\"orange\",\"banana\",\"cherry\"}\n",
        "fruits.discard(\"banana\")\n",
        "print(fruits)"
      ],
      "metadata": {
        "colab": {
          "base_uri": "https://localhost:8080/"
        },
        "id": "hhz4UnxrUOZT",
        "outputId": "20960d7b-02c5-43a2-ab10-cf9a90606bf4"
      },
      "execution_count": null,
      "outputs": [
        {
          "output_type": "stream",
          "name": "stdout",
          "text": [
            "{'apple', 'orange', 'cherry'}\n"
          ]
        }
      ]
    },
    {
      "cell_type": "code",
      "source": [
        "#pop function-pop element from anywhere\n",
        "fruits={\"apple\",\"orange\",\"banana\",\"cherry\"}\n",
        "x=fruits.pop()\n",
        "print(fruits)"
      ],
      "metadata": {
        "colab": {
          "base_uri": "https://localhost:8080/"
        },
        "id": "E5V1YmWQUfQf",
        "outputId": "317db207-56d3-4325-ca9d-d77dad8bff5c"
      },
      "execution_count": null,
      "outputs": [
        {
          "output_type": "stream",
          "name": "stdout",
          "text": [
            "{'banana', 'orange', 'cherry'}\n"
          ]
        }
      ]
    },
    {
      "cell_type": "code",
      "source": [
        "#union function\n",
        "set1={\"a\",\"b\",\"c\"}\n",
        "set2={1,2,3}\n",
        "set3=set1.union(set2)\n",
        "print(set3)"
      ],
      "metadata": {
        "colab": {
          "base_uri": "https://localhost:8080/"
        },
        "id": "Ea4jWgCBU_oR",
        "outputId": "40dcf20e-5ed4-4d3f-a39c-e0197cc1870c"
      },
      "execution_count": null,
      "outputs": [
        {
          "output_type": "stream",
          "name": "stdout",
          "text": [
            "{'a', 1, 2, 3, 'b', 'c'}\n"
          ]
        }
      ]
    },
    {
      "cell_type": "code",
      "source": [
        "#update\n",
        "set1={\"a\",\"b\",\"c\"}\n",
        "set2={1,2,3}\n",
        "set1.update(set2)\n",
        "print(set1)\n"
      ],
      "metadata": {
        "colab": {
          "base_uri": "https://localhost:8080/"
        },
        "id": "Ded5YkdYWRok",
        "outputId": "8e5a2a34-7f96-4964-8761-66823252761b"
      },
      "execution_count": null,
      "outputs": [
        {
          "output_type": "stream",
          "name": "stdout",
          "text": [
            "{'a', 1, 2, 3, 'b', 'c'}\n"
          ]
        }
      ]
    },
    {
      "cell_type": "code",
      "source": [
        "#intersection update\n",
        "x={\"apple\",\"orange\",\"banana\",\"cherry\"}\n",
        "y={\"google\",\"microsoft\",\"apple\"}\n",
        "x.intersection_update(y)\n",
        "print(x)\n"
      ],
      "metadata": {
        "colab": {
          "base_uri": "https://localhost:8080/"
        },
        "id": "MgvvshnGWpBE",
        "outputId": "4974bd8c-fb9b-4816-9b6d-f78831adc86a"
      },
      "execution_count": null,
      "outputs": [
        {
          "output_type": "stream",
          "name": "stdout",
          "text": [
            "{'apple'}\n"
          ]
        }
      ]
    },
    {
      "cell_type": "code",
      "source": [
        "#intersection\n",
        "x={\"apple\",\"orange\",\"banana\",\"cherry\"}\n",
        "y={\"google\",\"microsoft\",\"apple\"}\n",
        "z=x.intersection(y)\n",
        "print(z)"
      ],
      "metadata": {
        "colab": {
          "base_uri": "https://localhost:8080/"
        },
        "id": "vnWPfjSnXTPO",
        "outputId": "88240609-0d43-4f63-ed01-c012fec04c2a"
      },
      "execution_count": null,
      "outputs": [
        {
          "output_type": "stream",
          "name": "stdout",
          "text": [
            "{'apple'}\n"
          ]
        }
      ]
    },
    {
      "cell_type": "code",
      "source": [
        "#symmetric_difference_update  keep only elements that are not in both\n",
        "x={\"apple\",\"orange\",\"banana\",\"cherry\"}\n",
        "y={\"google\",\"microsoft\",\"apple\"}\n",
        "x.symmetric_difference_update(y)\n",
        "print(x)"
      ],
      "metadata": {
        "colab": {
          "base_uri": "https://localhost:8080/"
        },
        "id": "7556fAtNXck0",
        "outputId": "b50a1004-2ac9-4bc2-9e79-db1298dbece4"
      },
      "execution_count": null,
      "outputs": [
        {
          "output_type": "stream",
          "name": "stdout",
          "text": [
            "{'banana', 'google', 'orange', 'microsoft', 'cherry'}\n"
          ]
        }
      ]
    },
    {
      "cell_type": "code",
      "source": [
        "x={\"apple\",\"orange\",\"banana\",\"cherry\"}\n",
        "y={\"google\",\"microsoft\",\"apple\"}\n",
        "z=x.symmetric_difference(y)\n",
        "print(z)"
      ],
      "metadata": {
        "colab": {
          "base_uri": "https://localhost:8080/"
        },
        "id": "dpuvQS7xYKxZ",
        "outputId": "2de5e5b4-fc40-4a34-e8e3-b9b8157cdd09"
      },
      "execution_count": null,
      "outputs": [
        {
          "output_type": "stream",
          "name": "stdout",
          "text": [
            "{'banana', 'google', 'orange', 'microsoft', 'cherry'}\n"
          ]
        }
      ]
    },
    {
      "cell_type": "code",
      "source": [
        "x={\"apple\",\"orange\",\"banana\",\"cherry\"}\n",
        "y={\"google\",\"microsoft\",\"apple\"}\n",
        "\n",
        "print(x.isdisjoint(y))"
      ],
      "metadata": {
        "colab": {
          "base_uri": "https://localhost:8080/"
        },
        "id": "KgRn0fLGYQEk",
        "outputId": "e9113422-32f1-40a8-f2b7-e61e0ddb46fb"
      },
      "execution_count": null,
      "outputs": [
        {
          "output_type": "stream",
          "name": "stdout",
          "text": [
            "False\n"
          ]
        }
      ]
    },
    {
      "cell_type": "code",
      "source": [
        "#frozenset\n",
        "num=(1,2,3,4,5)\n",
        "fnum=frozenset(num)\n",
        "print(\"frozenset object is:\",fnum)"
      ],
      "metadata": {
        "colab": {
          "base_uri": "https://localhost:8080/"
        },
        "id": "2y1p-jJsZcla",
        "outputId": "46adbfaf-774c-4b31-ad15-d2b22f98136a"
      },
      "execution_count": null,
      "outputs": [
        {
          "output_type": "stream",
          "name": "stdout",
          "text": [
            "frozenset object is: frozenset({1, 2, 3, 4, 5})\n"
          ]
        }
      ]
    },
    {
      "cell_type": "code",
      "source": [
        "#DICTIONARIES\n",
        "cars={\n",
        "    \"brand\":\"BNW\",\n",
        "    \"model\":\"2nd series\",\n",
        "    \"year\": 2004\n",
        "}\n",
        "print(cars)"
      ],
      "metadata": {
        "colab": {
          "base_uri": "https://localhost:8080/"
        },
        "id": "1yB3zOL7caVM",
        "outputId": "d6a6bbea-cff5-4d6b-8f80-7856cc0df41e"
      },
      "execution_count": null,
      "outputs": [
        {
          "output_type": "stream",
          "name": "stdout",
          "text": [
            "{'brand': 'BNW', 'model': '2nd series', 'year': 2004}\n"
          ]
        }
      ]
    },
    {
      "cell_type": "code",
      "source": [
        "cars={\n",
        "    \"brand\":\"BNW\",\n",
        "    \"model\":\"2nd series\",\n",
        "    \"year\": 2004\n",
        "}\n",
        "print(cars['model'])"
      ],
      "metadata": {
        "colab": {
          "base_uri": "https://localhost:8080/"
        },
        "id": "tk6KoO6qc3P_",
        "outputId": "b34cb891-727a-479e-ca32-9e4adad52303"
      },
      "execution_count": null,
      "outputs": [
        {
          "output_type": "stream",
          "name": "stdout",
          "text": [
            "2nd series\n"
          ]
        }
      ]
    },
    {
      "cell_type": "code",
      "source": [
        "cars={\n",
        "    \"brand\":\"BNW\",\n",
        "    \"model\":\"2nd series\",\n",
        "    \"year\": 2004\n",
        "}\n",
        "x=cars.get('model')\n",
        "print(x)"
      ],
      "metadata": {
        "colab": {
          "base_uri": "https://localhost:8080/"
        },
        "id": "mK-Dn4zudYkV",
        "outputId": "544620a5-376d-47ff-a1ed-539373a45d92"
      },
      "execution_count": null,
      "outputs": [
        {
          "output_type": "stream",
          "name": "stdout",
          "text": [
            "2nd series\n"
          ]
        }
      ]
    },
    {
      "cell_type": "code",
      "source": [
        "#keys()-this shows keys in dictionary\n",
        "cars={\n",
        "    \"brand\":\"BNW\",\n",
        "    \"model\":\"2nd series\",\n",
        "    \"year\": 2004\n",
        "}\n",
        "x=cars.keys()\n",
        "print(x)"
      ],
      "metadata": {
        "colab": {
          "base_uri": "https://localhost:8080/"
        },
        "id": "oBE8T2CDdhr3",
        "outputId": "af843dab-34e7-4cc1-f0e9-a2c09cb302b6"
      },
      "execution_count": null,
      "outputs": [
        {
          "output_type": "stream",
          "name": "stdout",
          "text": [
            "dict_keys(['brand', 'model', 'year'])\n"
          ]
        }
      ]
    },
    {
      "cell_type": "code",
      "source": [
        "#values method\n",
        "cars={\n",
        "    \"brand\":\"BNW\",\n",
        "    \"model\":\"2nd series\",\n",
        "    \"year\": 2004\n",
        "}\n",
        "x=cars.values()\n",
        "print(x)"
      ],
      "metadata": {
        "colab": {
          "base_uri": "https://localhost:8080/"
        },
        "id": "drbgN-SleAlh",
        "outputId": "0e53c436-2c7b-438e-f581-cd3c1c1854cf"
      },
      "execution_count": null,
      "outputs": [
        {
          "output_type": "stream",
          "name": "stdout",
          "text": [
            "dict_values(['BNW', '2nd series', 2004])\n"
          ]
        }
      ]
    },
    {
      "cell_type": "code",
      "source": [
        "#to add new element\n",
        "cars={\n",
        "    \"brand\":\"BNW\",\n",
        "    \"model\":\"2nd series\",\n",
        "    \"year\": 2004\n",
        "}\n",
        "x=cars.values()\n",
        "print(x)\n",
        "cars[\"color\"]=\"black\"\n",
        "print(cars)"
      ],
      "metadata": {
        "colab": {
          "base_uri": "https://localhost:8080/"
        },
        "id": "DMWvn9D3eYkS",
        "outputId": "e9110033-6726-4419-c6f4-b4413b00141f"
      },
      "execution_count": null,
      "outputs": [
        {
          "output_type": "stream",
          "name": "stdout",
          "text": [
            "dict_values(['BNW', '2nd series', 2004])\n",
            "{'brand': 'BNW', 'model': '2nd series', 'year': 2004, 'color': 'black'}\n"
          ]
        }
      ]
    },
    {
      "cell_type": "code",
      "source": [
        "#item()method\n",
        "cars={\n",
        "    \"brand\":\"BNW\",\n",
        "    \"model\":\"2nd series\",\n",
        "    \"year\": 2004\n",
        "}\n",
        "x=cars.items()\n",
        "print(x)"
      ],
      "metadata": {
        "colab": {
          "base_uri": "https://localhost:8080/"
        },
        "id": "Drxc1_KweTFn",
        "outputId": "26af62f3-7726-4d41-d96f-3bd30e5c4f34"
      },
      "execution_count": null,
      "outputs": [
        {
          "output_type": "stream",
          "name": "stdout",
          "text": [
            "dict_items([('brand', 'BNW'), ('model', '2nd series'), ('year', 2004)])\n"
          ]
        }
      ]
    },
    {
      "cell_type": "code",
      "source": [
        "cars={\n",
        "    \"brand\":\"BNW\",\n",
        "    \"model\":\"2nd series\",\n",
        "    \"year\": 2004\n",
        "}\n",
        "cars[\"year\"]=2020\n",
        "print(cars)"
      ],
      "metadata": {
        "colab": {
          "base_uri": "https://localhost:8080/"
        },
        "id": "5qd3ageCe-sd",
        "outputId": "8446cf58-1892-46ea-81c3-b52a0ef7b6b6"
      },
      "execution_count": null,
      "outputs": [
        {
          "output_type": "stream",
          "name": "stdout",
          "text": [
            "{'brand': 'BNW', 'model': '2nd series', 'year': 2020}\n"
          ]
        }
      ]
    },
    {
      "cell_type": "code",
      "source": [
        "#update()to change the value of an element\n",
        "cars={\n",
        "    \"brand\":\"BNW\",\n",
        "    \"model\":\"2nd series\",\n",
        "    \"year\": 2004\n",
        "}\n",
        "cars.update({\"year\":2020})\n",
        "print(cars)"
      ],
      "metadata": {
        "colab": {
          "base_uri": "https://localhost:8080/"
        },
        "id": "-wKE_ypMffKS",
        "outputId": "67483578-4844-470c-acaf-6760448d1210"
      },
      "execution_count": null,
      "outputs": [
        {
          "output_type": "stream",
          "name": "stdout",
          "text": [
            "{'brand': 'BNW', 'model': '2nd series', 'year': 2020}\n"
          ]
        }
      ]
    },
    {
      "cell_type": "code",
      "source": [
        "#pop method\n",
        "cars={\n",
        "    \"brand\":\"BNW\",\n",
        "    \"model\":\"2nd series\",\n",
        "    \"year\": 2004\n",
        "}\n",
        "cars.pop(\"model\")\n",
        "print(cars)"
      ],
      "metadata": {
        "colab": {
          "base_uri": "https://localhost:8080/"
        },
        "id": "ZglQZOi1fsRS",
        "outputId": "7b346111-e3a8-4a12-e6ef-716d4170eef0"
      },
      "execution_count": null,
      "outputs": [
        {
          "output_type": "stream",
          "name": "stdout",
          "text": [
            "{'brand': 'BNW', 'year': 2004}\n"
          ]
        }
      ]
    },
    {
      "cell_type": "code",
      "source": [
        "#popitem-this will pop last item\n",
        "cars={\n",
        "    \"brand\":\"BNW\",\n",
        "    \"model\":\"2nd series\",\n",
        "    \"year\": 2004\n",
        "}\n",
        "cars.popitem()\n",
        "print(cars)"
      ],
      "metadata": {
        "colab": {
          "base_uri": "https://localhost:8080/"
        },
        "id": "uQgNjWmzgMGA",
        "outputId": "13e3e05e-5f32-40a3-b3f7-d85989a663cf"
      },
      "execution_count": null,
      "outputs": [
        {
          "output_type": "stream",
          "name": "stdout",
          "text": [
            "{'brand': 'BNW', 'model': '2nd series'}\n"
          ]
        }
      ]
    },
    {
      "cell_type": "code",
      "source": [
        "cars={\n",
        "    \"brand\":\"BNW\",\n",
        "    \"model\":\"2nd series\",\n",
        "    \"year\": 2004\n",
        "}\n",
        "del cars[\"model\"]\n",
        "print(cars)"
      ],
      "metadata": {
        "colab": {
          "base_uri": "https://localhost:8080/"
        },
        "id": "SLhWRkRkgRKE",
        "outputId": "32a77700-6d10-4896-d14c-f23c16e0eb9d"
      },
      "execution_count": null,
      "outputs": [
        {
          "output_type": "stream",
          "name": "stdout",
          "text": [
            "{'brand': 'BNW', 'year': 2004}\n"
          ]
        }
      ]
    },
    {
      "cell_type": "code",
      "source": [
        "#copy\n",
        "cars={\n",
        "    \"brand\":\"BNW\",\n",
        "    \"model\":\"2nd series\",\n",
        "    \"year\": 2004\n",
        "}\n",
        "mydict=cars.copy()\n",
        "print(mydict)"
      ],
      "metadata": {
        "colab": {
          "base_uri": "https://localhost:8080/"
        },
        "id": "_eWj7FdigluA",
        "outputId": "7a65132c-f98d-461c-bc63-b49e00643237"
      },
      "execution_count": null,
      "outputs": [
        {
          "output_type": "stream",
          "name": "stdout",
          "text": [
            "{'brand': 'BNW', 'model': '2nd series', 'year': 2004}\n"
          ]
        }
      ]
    },
    {
      "cell_type": "code",
      "source": [
        "#nested dictionary\n",
        "child1={\n",
        "        \"name\":\"arun\",\n",
        "        \"year\":2000\n",
        "    }\n",
        "child2={\n",
        "        \"name\":\"arya\",\n",
        "        \"year\":2001\n",
        "    }\n",
        "friends={\n",
        "    \"child1\":child1,\n",
        "    \"child2\":child2\n",
        "}\n",
        "print(friends)"
      ],
      "metadata": {
        "colab": {
          "base_uri": "https://localhost:8080/"
        },
        "id": "Okytz6BNg9MS",
        "outputId": "14eb54fd-532f-4d6c-cf9b-49c40e1cdf15"
      },
      "execution_count": null,
      "outputs": [
        {
          "output_type": "stream",
          "name": "stdout",
          "text": [
            "{'child1': {'name': 'arun', 'year': 2000}, 'child2': {'name': 'arya', 'year': 2001}}\n"
          ]
        }
      ]
    },
    {
      "cell_type": "code",
      "source": [
        "car1={\n",
        "    \"brand\":\"BNW\",\n",
        "    \"model\":\"2nd series\"\n",
        "}\n",
        "car2={\n",
        "    \"brand\":\"Maruti\",\n",
        "    \"model\":\"Ertiga\"\n",
        "}\n",
        "cars={\n",
        "    \"car1\":car1,\n",
        "    \"car2\":car2\n",
        "}\n",
        "print(cars)"
      ],
      "metadata": {
        "colab": {
          "base_uri": "https://localhost:8080/"
        },
        "id": "gVQiK7C4iWZ5",
        "outputId": "40fe9918-8586-4765-f6c5-ba2477aa7f49"
      },
      "execution_count": null,
      "outputs": [
        {
          "output_type": "stream",
          "name": "stdout",
          "text": [
            "{'car1': {'brand': 'BNW', 'model': '2nd series'}, 'car2': {'brand': 'Maruti', 'model': 'Ertiga'}}\n"
          ]
        }
      ]
    },
    {
      "cell_type": "code",
      "source": [
        "#conditional statement\n",
        "#if condition\n",
        "a=33\n",
        "b=200\n",
        "if b>a:\n",
        "  print(\"b is greater than a\")"
      ],
      "metadata": {
        "colab": {
          "base_uri": "https://localhost:8080/"
        },
        "id": "ZTHrUGoLjMtO",
        "outputId": "7fa328f9-9450-41d3-fef0-3326cc9b7320"
      },
      "execution_count": null,
      "outputs": [
        {
          "output_type": "stream",
          "name": "stdout",
          "text": [
            "b is greater than a\n"
          ]
        }
      ]
    },
    {
      "cell_type": "code",
      "source": [
        "a=330\n",
        "b=200\n",
        "if b>a:\n",
        "  print(\"b is greater than a\")\n",
        "elif a==b:\n",
        "  print(\"a and b are equal\")\n",
        "else:\n",
        "  print(\"a is greater than b\")"
      ],
      "metadata": {
        "colab": {
          "base_uri": "https://localhost:8080/"
        },
        "id": "DYjO3Ft7mVfO",
        "outputId": "d69f9492-8679-4db6-faf0-571243541fc0"
      },
      "execution_count": null,
      "outputs": [
        {
          "output_type": "stream",
          "name": "stdout",
          "text": [
            "a is greater than b\n"
          ]
        }
      ]
    },
    {
      "cell_type": "code",
      "source": [
        "a=200\n",
        "b=33\n",
        "c=500\n",
        "if a>b and c>a:\n",
        "  print(\"both conditions are true\")"
      ],
      "metadata": {
        "id": "TiH9tt0VmxHC",
        "colab": {
          "base_uri": "https://localhost:8080/"
        },
        "outputId": "2107c4d2-158d-4e04-e1ea-c27cad4f9333"
      },
      "execution_count": null,
      "outputs": [
        {
          "output_type": "stream",
          "name": "stdout",
          "text": [
            "both conditions are true\n"
          ]
        }
      ]
    },
    {
      "cell_type": "code",
      "source": [
        "a=200\n",
        "b=33\n",
        "c=500\n",
        "if a>b or  a>c:\n",
        "  print(\"Atleast one of the condition is True\")"
      ],
      "metadata": {
        "colab": {
          "base_uri": "https://localhost:8080/"
        },
        "id": "QSBUKld2phu0",
        "outputId": "172b9c3d-9c4b-4b81-f367-3192df80b003"
      },
      "execution_count": null,
      "outputs": [
        {
          "output_type": "stream",
          "name": "stdout",
          "text": [
            "Atleast one of the condition is True\n"
          ]
        }
      ]
    },
    {
      "cell_type": "code",
      "source": [
        "x=41\n",
        "if x>10:\n",
        "  print(\"Above ten,\")\n",
        "  if x>20:\n",
        "    print(\"and also above 20!\")\n",
        "\n",
        "else:\n",
        "  print(\"but not above 20\")"
      ],
      "metadata": {
        "colab": {
          "base_uri": "https://localhost:8080/"
        },
        "id": "7scd1HUUp1cE",
        "outputId": "04139379-4e55-47bd-9de6-0fac28c7931f"
      },
      "execution_count": null,
      "outputs": [
        {
          "output_type": "stream",
          "name": "stdout",
          "text": [
            "Above ten,\n",
            "and also above 20!\n"
          ]
        }
      ]
    },
    {
      "cell_type": "code",
      "source": [
        "#while loop\n",
        "a=[1,2,3,4]\n",
        "while a:\n",
        "  print(a.pop())"
      ],
      "metadata": {
        "colab": {
          "base_uri": "https://localhost:8080/"
        },
        "id": "KpffNzhMqgRZ",
        "outputId": "bd72bd26-2941-4df3-c62a-9b51f2b6fc7b"
      },
      "execution_count": null,
      "outputs": [
        {
          "output_type": "stream",
          "name": "stdout",
          "text": [
            "4\n",
            "3\n",
            "2\n",
            "1\n"
          ]
        }
      ]
    },
    {
      "cell_type": "code",
      "source": [
        "i=0\n",
        "while i<4:\n",
        "  i+=1\n",
        "  print(i)"
      ],
      "metadata": {
        "colab": {
          "base_uri": "https://localhost:8080/"
        },
        "id": "hx5pS1Ost9Ni",
        "outputId": "a205d323-c993-48ec-86e8-d9b278a0eee4"
      },
      "execution_count": null,
      "outputs": [
        {
          "output_type": "stream",
          "name": "stdout",
          "text": [
            "1\n",
            "2\n",
            "3\n",
            "4\n"
          ]
        }
      ]
    },
    {
      "cell_type": "code",
      "source": [
        "i=0\n",
        "while i<4:\n",
        "  print(i)\n",
        "  i+=1"
      ],
      "metadata": {
        "colab": {
          "base_uri": "https://localhost:8080/"
        },
        "id": "4qUG-oORuNNQ",
        "outputId": "5f8b4b93-2d45-434e-ac48-48ef57d0eecc"
      },
      "execution_count": null,
      "outputs": [
        {
          "output_type": "stream",
          "name": "stdout",
          "text": [
            "0\n",
            "1\n",
            "2\n",
            "3\n"
          ]
        }
      ]
    },
    {
      "cell_type": "code",
      "source": [
        "a='loop in python'\n",
        "i=0\n",
        "\n",
        "while i<len(a):\n",
        "  i+=1\n",
        "  pass\n",
        "print('value of i:',i)"
      ],
      "metadata": {
        "colab": {
          "base_uri": "https://localhost:8080/"
        },
        "id": "owS5NUnVucqw",
        "outputId": "c8a40b9a-4da3-48e1-ae76-0ae51d0f6652"
      },
      "execution_count": null,
      "outputs": [
        {
          "output_type": "stream",
          "name": "stdout",
          "text": [
            "value of i: 14\n"
          ]
        }
      ]
    },
    {
      "cell_type": "code",
      "source": [
        "for i in range(1,11):\n",
        "  if i==3:\n",
        "    pass\n",
        "\n"
      ],
      "metadata": {
        "id": "kPs5U6qIu_1p"
      },
      "execution_count": null,
      "outputs": []
    },
    {
      "cell_type": "code",
      "source": [
        "#print all letters except 'y' and 'o'\n",
        "i=0\n",
        "a='loops in python'\n",
        "while i<len(a):\n",
        "  if a[i]=='y' or a[i]=='o':\n",
        "    i+=1\n",
        "    continue\n",
        "  print('current letter:',a[i])\n",
        "  i+=1\n",
        "\n"
      ],
      "metadata": {
        "colab": {
          "base_uri": "https://localhost:8080/"
        },
        "id": "5bxNiBj2wUY4",
        "outputId": "f8429968-7008-455f-a648-e5a5bb5e953a"
      },
      "execution_count": null,
      "outputs": [
        {
          "output_type": "stream",
          "name": "stdout",
          "text": [
            "current letter: l\n",
            "current letter: p\n",
            "current letter: s\n",
            "current letter:  \n",
            "current letter: i\n",
            "current letter: n\n",
            "current letter:  \n",
            "current letter: p\n",
            "current letter: t\n",
            "current letter: h\n",
            "current letter: n\n"
          ]
        }
      ]
    },
    {
      "cell_type": "code",
      "source": [
        "#break the loop as soon it sees 'p'\n",
        "i=0\n",
        "a='loops in python'\n",
        "while i<len(a):\n",
        "  if a[i]=='p' or a[i]=='h':\n",
        "    i+=1\n",
        "    break\n",
        "  print('current letter:',a[i])\n",
        "  i+=1"
      ],
      "metadata": {
        "colab": {
          "base_uri": "https://localhost:8080/"
        },
        "id": "nDvaDLIyyWjA",
        "outputId": "2c371b04-48f3-4208-b621-420b8ad91ea1"
      },
      "execution_count": null,
      "outputs": [
        {
          "output_type": "stream",
          "name": "stdout",
          "text": [
            "current letter: l\n",
            "current letter: o\n",
            "current letter: o\n"
          ]
        }
      ]
    },
    {
      "cell_type": "code",
      "source": [
        "#while-else loop\n",
        "i=0\n",
        "while i<4:\n",
        "  i+=1\n",
        "  print(i)\n",
        "\n",
        "else:          #executed because there is no break in loop\n",
        "  print(\"No break\\n\")"
      ],
      "metadata": {
        "id": "0cOcOiaZ0n8-",
        "colab": {
          "base_uri": "https://localhost:8080/"
        },
        "outputId": "11417f67-3051-4102-c878-8f1b27d36204"
      },
      "execution_count": null,
      "outputs": [
        {
          "output_type": "stream",
          "name": "stdout",
          "text": [
            "1\n",
            "2\n",
            "3\n",
            "4\n",
            "No break\n",
            "\n"
          ]
        }
      ]
    },
    {
      "cell_type": "code",
      "source": [
        "#TO Input a mark from user and check the grade\n",
        "a=int(input(\"enter mark: \"))\n",
        "if a>=90:\n",
        "  print(\"Grade:A+\")\n",
        "elif a>=80:\n",
        "  print(\"Grade:A\")\n",
        "elif a>=70:\n",
        "  print(\"Grade:B+\")\n",
        "elif a>=60:\n",
        "  print(\"Grade:B\")\n",
        "elif a>=50:\n",
        "  print(\"Grade:C+\")\n",
        "elif a>=40:\n",
        "  print(\"Grade:C\")\n",
        "else:\n",
        "  print(\"FAILED!!!\")\n"
      ],
      "metadata": {
        "colab": {
          "base_uri": "https://localhost:8080/"
        },
        "id": "adZJfcEE3Jk-",
        "outputId": "d5bdb695-2b0c-4679-925d-451f2d34cd3e"
      },
      "execution_count": null,
      "outputs": [
        {
          "output_type": "stream",
          "name": "stdout",
          "text": [
            "enter mark: 92\n",
            "Grade:A+\n"
          ]
        }
      ]
    },
    {
      "cell_type": "code",
      "source": [
        "#for loop\n",
        "#iterating over a list\n",
        "print(\"List iteration\")\n",
        "l=[\"hello\",\"for\",\"python\"]\n",
        "for i in l:\n",
        "  print(i)"
      ],
      "metadata": {
        "colab": {
          "base_uri": "https://localhost:8080/"
        },
        "id": "Yr57i4TD7Pu1",
        "outputId": "d3115079-c155-4768-9896-ee82dd7f4f02"
      },
      "execution_count": null,
      "outputs": [
        {
          "output_type": "stream",
          "name": "stdout",
          "text": [
            "List iteration\n",
            "hello\n",
            "for\n",
            "python\n"
          ]
        }
      ]
    },
    {
      "cell_type": "code",
      "source": [
        "#iterationg over a tuple\n",
        "print(\"\\nTuple iteration\\n\")\n",
        "t=(\"hello\",\"for\",\"python\")\n",
        "for i in t:\n",
        "  print(i)"
      ],
      "metadata": {
        "colab": {
          "base_uri": "https://localhost:8080/"
        },
        "id": "ZRjBOAHH_8O7",
        "outputId": "b8c5b7f5-3b2a-4d06-ad2e-615c38dafa55"
      },
      "execution_count": null,
      "outputs": [
        {
          "output_type": "stream",
          "name": "stdout",
          "text": [
            "\n",
            "Tuple iteration\n",
            "\n",
            "hello\n",
            "for\n",
            "python\n"
          ]
        }
      ]
    },
    {
      "cell_type": "code",
      "source": [
        "#print all letters except 'e' and 'o' using for loop\n",
        "for x in 'python developer':\n",
        "  if x=='e' or x=='o':\n",
        "    continue\n",
        "  print('current letter:',x)"
      ],
      "metadata": {
        "colab": {
          "base_uri": "https://localhost:8080/"
        },
        "id": "ccNZmf23AZSS",
        "outputId": "2b11bea6-3142-4d5f-8b09-30783cbe2f24"
      },
      "execution_count": null,
      "outputs": [
        {
          "output_type": "stream",
          "name": "stdout",
          "text": [
            "current letter: p\n",
            "current letter: y\n",
            "current letter: t\n",
            "current letter: h\n",
            "current letter: n\n",
            "current letter:  \n",
            "current letter: d\n",
            "current letter: v\n",
            "current letter: l\n",
            "current letter: p\n",
            "current letter: r\n"
          ]
        }
      ]
    },
    {
      "cell_type": "code",
      "source": [
        "#range() fuction\n",
        "for i in range(10):\n",
        "  print(i)"
      ],
      "metadata": {
        "colab": {
          "base_uri": "https://localhost:8080/"
        },
        "id": "edmjeZjgCIuJ",
        "outputId": "c2a28582-879c-4c29-8435-89da47aa715e"
      },
      "execution_count": null,
      "outputs": [
        {
          "output_type": "stream",
          "name": "stdout",
          "text": [
            "0\n",
            "1\n",
            "2\n",
            "3\n",
            "4\n",
            "5\n",
            "6\n",
            "7\n",
            "8\n",
            "9\n"
          ]
        }
      ]
    },
    {
      "cell_type": "code",
      "source": [
        "#odd numbers\n",
        "print(\"Odd numbers upto 100\")\n",
        "for i in range(1,100,2):\n",
        "  print(i)"
      ],
      "metadata": {
        "colab": {
          "base_uri": "https://localhost:8080/"
        },
        "id": "Pg2aWZXgDmCx",
        "outputId": "ee96f2b2-e83c-46a4-b285-42dced63fcac"
      },
      "execution_count": null,
      "outputs": [
        {
          "output_type": "stream",
          "name": "stdout",
          "text": [
            "Odd numbers upto 100\n",
            "1\n",
            "3\n",
            "5\n",
            "7\n",
            "9\n",
            "11\n",
            "13\n",
            "15\n",
            "17\n",
            "19\n",
            "21\n",
            "23\n",
            "25\n",
            "27\n",
            "29\n",
            "31\n",
            "33\n",
            "35\n",
            "37\n",
            "39\n",
            "41\n",
            "43\n",
            "45\n",
            "47\n",
            "49\n",
            "51\n",
            "53\n",
            "55\n",
            "57\n",
            "59\n",
            "61\n",
            "63\n",
            "65\n",
            "67\n",
            "69\n",
            "71\n",
            "73\n",
            "75\n",
            "77\n",
            "79\n",
            "81\n",
            "83\n",
            "85\n",
            "87\n",
            "89\n",
            "91\n",
            "93\n",
            "95\n",
            "97\n",
            "99\n"
          ]
        }
      ]
    },
    {
      "cell_type": "code",
      "source": [
        "#even numbers\n",
        "print(\"Even numbers upto 100\")\n",
        "for i in range(2,100,2):\n",
        "  print(i)"
      ],
      "metadata": {
        "colab": {
          "base_uri": "https://localhost:8080/"
        },
        "id": "UtXUdCQQDtnp",
        "outputId": "cb0a076f-2e32-45b9-8bf1-17c43dda4ef1"
      },
      "execution_count": null,
      "outputs": [
        {
          "output_type": "stream",
          "name": "stdout",
          "text": [
            "Even numbers upto 100\n",
            "2\n",
            "4\n",
            "6\n",
            "8\n",
            "10\n",
            "12\n",
            "14\n",
            "16\n",
            "18\n",
            "20\n",
            "22\n",
            "24\n",
            "26\n",
            "28\n",
            "30\n",
            "32\n",
            "34\n",
            "36\n",
            "38\n",
            "40\n",
            "42\n",
            "44\n",
            "46\n",
            "48\n",
            "50\n",
            "52\n",
            "54\n",
            "56\n",
            "58\n",
            "60\n",
            "62\n",
            "64\n",
            "66\n",
            "68\n",
            "70\n",
            "72\n",
            "74\n",
            "76\n",
            "78\n",
            "80\n",
            "82\n",
            "84\n",
            "86\n",
            "88\n",
            "90\n",
            "92\n",
            "94\n",
            "96\n",
            "98\n"
          ]
        }
      ]
    },
    {
      "cell_type": "code",
      "source": [
        "#sum of 1st 10 natural numbers\n",
        "sum=0\n",
        "\n",
        "for i in range(1,11):\n",
        "  sum=sum+i\n",
        "print(\"sum of 1st 10 natural number is\",sum)"
      ],
      "metadata": {
        "colab": {
          "base_uri": "https://localhost:8080/"
        },
        "id": "lV5bO-5tEWqh",
        "outputId": "ef3f371d-47b1-427b-b78d-992cda168716"
      },
      "execution_count": null,
      "outputs": [
        {
          "output_type": "stream",
          "name": "stdout",
          "text": [
            "sum of 1st 10 natural number is 55\n"
          ]
        }
      ]
    },
    {
      "cell_type": "code",
      "source": [
        "#nested for loop\n",
        "adj=[\"red\",\"big\",\"tasty\"]\n",
        "fruits=[\"apple\",\"banana\",\"cherry\"]\n",
        "for x in adj:\n",
        "  for y in fruits:\n",
        "    print(x,y)"
      ],
      "metadata": {
        "colab": {
          "base_uri": "https://localhost:8080/"
        },
        "id": "x6WWv7WaE1Eh",
        "outputId": "0db32d1f-a47a-4b15-d64f-bb788def7bd6"
      },
      "execution_count": null,
      "outputs": [
        {
          "output_type": "stream",
          "name": "stdout",
          "text": [
            "red apple\n",
            "red banana\n",
            "red cherry\n",
            "big apple\n",
            "big banana\n",
            "big cherry\n",
            "tasty apple\n",
            "tasty banana\n",
            "tasty cherry\n"
          ]
        }
      ]
    },
    {
      "cell_type": "code",
      "source": [
        "#Print a multiplication table\n",
        "a=int(input(\"Enter a number:\"))\n",
        "for i in range(1,11):\n",
        "  mul=i*a\n",
        "  print(i,\"x\",a,\"=\",mul)"
      ],
      "metadata": {
        "colab": {
          "base_uri": "https://localhost:8080/"
        },
        "id": "cysGOfhdGLCA",
        "outputId": "9c29f05b-f1ed-4848-baff-babfb1271809"
      },
      "execution_count": null,
      "outputs": [
        {
          "output_type": "stream",
          "name": "stdout",
          "text": [
            "Enter a number:3\n",
            "1 x 3 = 3\n",
            "2 x 3 = 6\n",
            "3 x 3 = 9\n",
            "4 x 3 = 12\n",
            "5 x 3 = 15\n",
            "6 x 3 = 18\n",
            "7 x 3 = 21\n",
            "8 x 3 = 24\n",
            "9 x 3 = 27\n",
            "10 x 3 = 30\n"
          ]
        }
      ]
    },
    {
      "cell_type": "code",
      "source": [
        "#Factorial of a number\n",
        "fact=1\n",
        "a=int(input(\"Enter a number:\"))\n",
        "for i in range(1,a+1):    #to get upto a must put range from 1 to a+1\n",
        "  fact=fact*i\n",
        "print(\"factorial is\",fact)"
      ],
      "metadata": {
        "colab": {
          "base_uri": "https://localhost:8080/"
        },
        "id": "o9O2KPqbIedQ",
        "outputId": "0d30edde-b14d-4346-e85a-94a6bc1bcd6b"
      },
      "execution_count": null,
      "outputs": [
        {
          "output_type": "stream",
          "name": "stdout",
          "text": [
            "Enter a number:5\n",
            "factorial is 120\n"
          ]
        }
      ]
    },
    {
      "cell_type": "code",
      "source": [
        "#Print each character in a string\n",
        "for i in 'helloworld':\n",
        "  print(\"current letter  is\",i)"
      ],
      "metadata": {
        "colab": {
          "base_uri": "https://localhost:8080/"
        },
        "id": "wF2gpqImKhs3",
        "outputId": "e441fe30-c7ef-427e-e655-b15be9d1b55a"
      },
      "execution_count": null,
      "outputs": [
        {
          "output_type": "stream",
          "name": "stdout",
          "text": [
            "current letter  is h\n",
            "current letter  is e\n",
            "current letter  is l\n",
            "current letter  is l\n",
            "current letter  is o\n",
            "current letter  is w\n",
            "current letter  is o\n",
            "current letter  is r\n",
            "current letter  is l\n",
            "current letter  is d\n"
          ]
        }
      ]
    },
    {
      "cell_type": "code",
      "source": [
        "#Print each character in a input string\n",
        "a=input(\"enter the sentence:\")\n",
        "for i in range(len(a)):\n",
        "  print(\"current letter  is\",a[i])"
      ],
      "metadata": {
        "colab": {
          "base_uri": "https://localhost:8080/"
        },
        "id": "QtuygmpJLP-3",
        "outputId": "0c340df5-3852-40d3-c18a-2b6b8152b9c1"
      },
      "execution_count": null,
      "outputs": [
        {
          "output_type": "stream",
          "name": "stdout",
          "text": [
            "enter the sentence:hai python\n",
            "current letter  is h\n",
            "current letter  is a\n",
            "current letter  is i\n",
            "current letter  is  \n",
            "current letter  is p\n",
            "current letter  is y\n",
            "current letter  is t\n",
            "current letter  is h\n",
            "current letter  is o\n",
            "current letter  is n\n"
          ]
        }
      ]
    },
    {
      "cell_type": "code",
      "source": [
        "#print  vowels in a string\n",
        "a=input(\"enter the sentence:\")\n",
        "for i in range(len(a)):\n",
        "  if a[i]=='a'or a[i]=='e'or a[i]=='i'or a[i]=='o'or a[i]=='u':\n",
        "      print(\"vowels in this sentence are:\",a[i])\n",
        "\n",
        "\n"
      ],
      "metadata": {
        "colab": {
          "base_uri": "https://localhost:8080/"
        },
        "id": "-nZNJnOCMwVe",
        "outputId": "1157bf33-ab4c-4903-94cf-02ba77fb2932"
      },
      "execution_count": null,
      "outputs": [
        {
          "output_type": "stream",
          "name": "stdout",
          "text": [
            "enter the sentence:hai python\n",
            "vowels in this sentence are: a\n",
            "vowels in this sentence are: i\n",
            "vowels in this sentence are: o\n"
          ]
        }
      ]
    },
    {
      "cell_type": "markdown",
      "source": [],
      "metadata": {
        "id": "T8jNxmvJS-sQ"
      }
    },
    {
      "cell_type": "code",
      "source": [
        "#Count the number of vowels in a string--------doubt???\n",
        "vowels='aeiou'\n",
        "c=0\n",
        "a=input(\"enter the sentence:\")\n",
        "for i in range(len(a)):\n",
        "  if a[i] in vowels:\n",
        "    c+=1\n",
        "print(\"number of vowels\",c)\n",
        "\n",
        "\n",
        "\n"
      ],
      "metadata": {
        "colab": {
          "base_uri": "https://localhost:8080/"
        },
        "id": "hYRoE7cnOH7W",
        "outputId": "19631583-d29b-416f-f598-a01eec104b6c"
      },
      "execution_count": null,
      "outputs": [
        {
          "output_type": "stream",
          "name": "stdout",
          "text": [
            "enter the sentence:hai its me Drishya and i am currently doing python\n",
            "number of vowels 14\n"
          ]
        }
      ]
    },
    {
      "cell_type": "code",
      "source": [
        "#Reverse a string---loop the string through reverse order and print characters\n",
        "a=\"Drishya\"\n",
        "print(a[::-1])"
      ],
      "metadata": {
        "colab": {
          "base_uri": "https://localhost:8080/"
        },
        "id": "2G2qJJ17Qlvt",
        "outputId": "158cc715-e2e6-4da8-b7ed-03c7ef23c76c"
      },
      "execution_count": null,
      "outputs": [
        {
          "output_type": "stream",
          "name": "stdout",
          "text": [
            "ayhsirD\n"
          ]
        }
      ]
    },
    {
      "cell_type": "code",
      "source": [
        "#Reverse a string---loop the string through reverse order and print characters\n",
        "a=input(\"Enter the string:\")\n",
        "\n",
        "for i in a[::-1]:\n",
        "  print(i)\n",
        "\n"
      ],
      "metadata": {
        "id": "51_Jsqg6Rns1",
        "colab": {
          "base_uri": "https://localhost:8080/"
        },
        "outputId": "e0c29916-c9ef-4c45-c6b5-4ff0913bc5e1"
      },
      "execution_count": null,
      "outputs": [
        {
          "output_type": "stream",
          "name": "stdout",
          "text": [
            "Enter the string:hello\n",
            "o\n",
            "l\n",
            "l\n",
            "e\n",
            "h\n"
          ]
        }
      ]
    },
    {
      "cell_type": "code",
      "source": [
        "print(\"hello\"),input()"
      ],
      "metadata": {
        "colab": {
          "base_uri": "https://localhost:8080/"
        },
        "id": "_urp830qpcB3",
        "outputId": "4bd26c47-248b-4d6a-a1b0-de889bb4a995"
      },
      "execution_count": null,
      "outputs": [
        {
          "name": "stdout",
          "output_type": "stream",
          "text": [
            "hello\n",
            "ewd\n"
          ]
        },
        {
          "output_type": "execute_result",
          "data": {
            "text/plain": [
              "(None, 'ewd')"
            ]
          },
          "metadata": {},
          "execution_count": 13
        }
      ]
    },
    {
      "cell_type": "code",
      "source": [
        "#Python function\n",
        "def my_function():\n",
        "  sum=1+2\n",
        "  print(sum)\n"
      ],
      "metadata": {
        "id": "Q5JEOZvmrjfk"
      },
      "execution_count": null,
      "outputs": []
    },
    {
      "cell_type": "code",
      "source": [
        "my_function()"
      ],
      "metadata": {
        "colab": {
          "base_uri": "https://localhost:8080/"
        },
        "id": "X-pUJdPDrztl",
        "outputId": "92a9d208-a2e9-496e-ca1c-ad49fb1cf7c2"
      },
      "execution_count": null,
      "outputs": [
        {
          "output_type": "stream",
          "name": "stdout",
          "text": [
            "3\n"
          ]
        }
      ]
    },
    {
      "cell_type": "code",
      "source": [
        "def function_para(*r):\n",
        "  for i in r:\n",
        "    print(i)"
      ],
      "metadata": {
        "id": "UNz7WN92r2j0"
      },
      "execution_count": null,
      "outputs": []
    },
    {
      "cell_type": "code",
      "source": [
        "function_para(10,5,3,6)"
      ],
      "metadata": {
        "colab": {
          "base_uri": "https://localhost:8080/"
        },
        "id": "R-wSGpA4sIgM",
        "outputId": "7c3e394e-4b95-41d0-a080-e09687f3286e"
      },
      "execution_count": null,
      "outputs": [
        {
          "output_type": "stream",
          "name": "stdout",
          "text": [
            "10\n",
            "5\n",
            "3\n",
            "6\n"
          ]
        }
      ]
    },
    {
      "cell_type": "code",
      "source": [
        "a=10\n",
        "b=20\n",
        "function_para(b,a)"
      ],
      "metadata": {
        "colab": {
          "base_uri": "https://localhost:8080/"
        },
        "id": "g3Q2ujMcsMEs",
        "outputId": "8dd46a44-9b88-406b-e5fa-ac9e50c582d2"
      },
      "execution_count": null,
      "outputs": [
        {
          "output_type": "stream",
          "name": "stdout",
          "text": [
            "30\n"
          ]
        }
      ]
    },
    {
      "cell_type": "code",
      "source": [
        "def type_para(**r):\n",
        "  for i,j in r.items():\n",
        "    print(i,\"=\",j)\n",
        "type_para(fname=\"angel\",lastname=\"rose\")"
      ],
      "metadata": {
        "colab": {
          "base_uri": "https://localhost:8080/"
        },
        "id": "Ee28OPbksSJa",
        "outputId": "7169655c-a272-49e2-f62f-5e2c6f5c1a6e"
      },
      "execution_count": null,
      "outputs": [
        {
          "output_type": "stream",
          "name": "stdout",
          "text": [
            "fname = angel\n",
            "lastname = rose\n"
          ]
        }
      ]
    },
    {
      "cell_type": "code",
      "source": [
        "def type_para(r):\n",
        "  print(r)\n",
        "a=[1,2,3,4]\n",
        "type_para(a)"
      ],
      "metadata": {
        "colab": {
          "base_uri": "https://localhost:8080/"
        },
        "id": "ul5qbjp4uH2c",
        "outputId": "a23fffad-e3c4-4ab0-d556-42ec33d9a996"
      },
      "execution_count": null,
      "outputs": [
        {
          "output_type": "stream",
          "name": "stdout",
          "text": [
            "[1, 2, 3, 4]\n"
          ]
        }
      ]
    },
    {
      "cell_type": "code",
      "source": [
        "def hello():\n",
        "  print(\"welcome\")\n",
        "hello()\n"
      ],
      "metadata": {
        "colab": {
          "base_uri": "https://localhost:8080/"
        },
        "id": "1sxp3vCawAF7",
        "outputId": "5bc7f8fd-257d-4cf1-8712-46065b44dba5"
      },
      "execution_count": null,
      "outputs": [
        {
          "output_type": "stream",
          "name": "stdout",
          "text": [
            "welcome\n"
          ]
        }
      ]
    },
    {
      "cell_type": "code",
      "source": [
        "#arguments of a function\n",
        "def evenOrodd(x):\n",
        "  if x%2==0:\n",
        "    print(\"even\")\n",
        "  else:\n",
        "    print(\"odd\")\n",
        "evenOrodd(6)\n",
        "evenOrodd(7)\n"
      ],
      "metadata": {
        "colab": {
          "base_uri": "https://localhost:8080/"
        },
        "id": "gg2d6CSjxkkK",
        "outputId": "c98da705-6989-4adf-acd3-cc88b2858a20"
      },
      "execution_count": null,
      "outputs": [
        {
          "output_type": "stream",
          "name": "stdout",
          "text": [
            "even\n",
            "odd\n"
          ]
        }
      ]
    },
    {
      "cell_type": "code",
      "source": [
        "#default arguments\n",
        "def myFun(x,y=50):\n",
        "  print(\"x:\",x)\n",
        "  print(\"y:\",y)\n",
        "myFun(10)"
      ],
      "metadata": {
        "colab": {
          "base_uri": "https://localhost:8080/"
        },
        "id": "4zj06_-RyFRS",
        "outputId": "0a8beaa8-e1f1-4aca-aae3-600b8c7b9dc9"
      },
      "execution_count": null,
      "outputs": [
        {
          "output_type": "stream",
          "name": "stdout",
          "text": [
            "x: 10\n",
            "y: 50\n"
          ]
        }
      ]
    },
    {
      "cell_type": "code",
      "source": [
        "#passing variable  no.of arguments\n",
        "def my_function(*kids):\n",
        "  print(\"The yougest child is \"+kids[2])\n",
        "my_function(\"Emil\",\"Tobias\",\"Linus\")"
      ],
      "metadata": {
        "colab": {
          "base_uri": "https://localhost:8080/"
        },
        "id": "gR1fWZASy5hJ",
        "outputId": "87d28d69-e299-4298-cfda-01e320e23c3e"
      },
      "execution_count": null,
      "outputs": [
        {
          "output_type": "stream",
          "name": "stdout",
          "text": [
            "The yougest child is Linus\n"
          ]
        }
      ]
    },
    {
      "cell_type": "code",
      "source": [
        "#passing keyword arguyments\n",
        "def my_fun(**student):\n",
        "  print(\"His first name is\"+student[\"fname\"])\n",
        "my_fun(fname=\"vignesh\",lname=\"s\")"
      ],
      "metadata": {
        "colab": {
          "base_uri": "https://localhost:8080/"
        },
        "id": "rYLvjw97z3gB",
        "outputId": "901a9bee-50a6-4d18-806e-6b45fdf11b11"
      },
      "execution_count": null,
      "outputs": [
        {
          "output_type": "stream",
          "name": "stdout",
          "text": [
            "His first name isvignesh\n"
          ]
        }
      ]
    },
    {
      "cell_type": "code",
      "source": [
        "def myFun(**kwargs):\n",
        "  for key,value in kwargs.items():\n",
        "    print(key,\"=\",value)\n",
        "myFun(first='welcome',mid='for',last='course')"
      ],
      "metadata": {
        "colab": {
          "base_uri": "https://localhost:8080/"
        },
        "id": "DUtWVGyb0qux",
        "outputId": "a10808b3-1234-4245-dde0-b8a5614e7ff9"
      },
      "execution_count": null,
      "outputs": [
        {
          "output_type": "stream",
          "name": "stdout",
          "text": [
            "first = welcome\n",
            "mid = for\n",
            "last = course\n"
          ]
        }
      ]
    },
    {
      "cell_type": "code",
      "source": [
        "#passing list as an argument\n",
        "\n",
        "def my_function(x):\n",
        "  for i in x:\n",
        "    print(i)\n",
        "fruits=[\"apple\",\"banana\",'cherry']\n",
        "my_function(fruits)"
      ],
      "metadata": {
        "colab": {
          "base_uri": "https://localhost:8080/"
        },
        "id": "ygXhFSfe1oHx",
        "outputId": "185f366d-6306-4581-f1a5-e466cc96ddbe"
      },
      "execution_count": null,
      "outputs": [
        {
          "output_type": "stream",
          "name": "stdout",
          "text": [
            "apple\n",
            "banana\n",
            "cherry\n"
          ]
        }
      ]
    },
    {
      "cell_type": "code",
      "source": [
        "def square_value(num):\n",
        "  return num**2\n",
        "x=square_value(2)\n",
        "print(x)\n",
        "print(square_value(-4))\n",
        "a=2\n",
        "print(a)"
      ],
      "metadata": {
        "colab": {
          "base_uri": "https://localhost:8080/"
        },
        "id": "QmDtaM6h2Yqo",
        "outputId": "8cb355ad-e1c7-424a-ef0e-2875c24ea3ab"
      },
      "execution_count": null,
      "outputs": [
        {
          "output_type": "stream",
          "name": "stdout",
          "text": [
            "4\n",
            "16\n",
            "2\n"
          ]
        }
      ]
    },
    {
      "cell_type": "code",
      "source": [
        "#function pass by reference\n",
        "def myfun(x):\n",
        "  x[0]=30\n",
        "lst=[9,11,13,14,15]\n",
        "myfun(lst)\n",
        "print(lst)"
      ],
      "metadata": {
        "colab": {
          "base_uri": "https://localhost:8080/"
        },
        "id": "DT_L2ZOU6Lxn",
        "outputId": "2a11532b-74a0-46dd-9cb0-1f61f2886124"
      },
      "execution_count": null,
      "outputs": [
        {
          "output_type": "stream",
          "name": "stdout",
          "text": [
            "[30, 11, 13, 14, 15]\n"
          ]
        }
      ]
    },
    {
      "cell_type": "code",
      "source": [
        "#function inside a function\n",
        "def f1():\n",
        "  s='i love python'\n",
        "  def f2():\n",
        "    print(s)\n",
        "\n",
        "  f2()\n",
        "f1()"
      ],
      "metadata": {
        "colab": {
          "base_uri": "https://localhost:8080/"
        },
        "id": "0Jdsj2Um9pGt",
        "outputId": "de70c40f-5f32-46cd-8890-5dd6de344512"
      },
      "execution_count": null,
      "outputs": [
        {
          "output_type": "stream",
          "name": "stdout",
          "text": [
            "i love python\n"
          ]
        }
      ]
    },
    {
      "cell_type": "code",
      "source": [
        "#lambda function\n",
        "x=\"hello python\"\n",
        "g=lambda x:print(x)\n",
        "g(x)"
      ],
      "metadata": {
        "colab": {
          "base_uri": "https://localhost:8080/"
        },
        "id": "NMtJBGJC-AX1",
        "outputId": "910a6c6b-8dda-4cfd-b168-3376c6b97397"
      },
      "execution_count": null,
      "outputs": [
        {
          "output_type": "stream",
          "name": "stdout",
          "text": [
            "hello python\n"
          ]
        }
      ]
    },
    {
      "cell_type": "code",
      "source": [
        "#Difference b/w lambda and normal function call\n",
        "def cube(y):\n",
        "  return y*y*y\n",
        "g=lambda x:x*x*x\n",
        "print(g(7))\n",
        "print(cube(5))\n"
      ],
      "metadata": {
        "colab": {
          "base_uri": "https://localhost:8080/"
        },
        "id": "_u84DeNCBWCM",
        "outputId": "00eb327c-5791-4cc1-dc89-b1a6c3dbc3a2"
      },
      "execution_count": null,
      "outputs": [
        {
          "output_type": "stream",
          "name": "stdout",
          "text": [
            "343\n",
            "125\n"
          ]
        }
      ]
    },
    {
      "cell_type": "code",
      "source": [
        "def power(n):\n",
        "  return lambda a:a**n\n",
        "\n",
        "base=power(2)\n",
        "print(\"Now power is set to 2\")\n",
        "print(\"6 power of 2=\",base(6))\n",
        "base=power(5)\n",
        "print(\"Now power is set to 5\")\n",
        "print(\"8 power of 5=\",base(8))"
      ],
      "metadata": {
        "colab": {
          "base_uri": "https://localhost:8080/"
        },
        "id": "Ird-I7wtB-qz",
        "outputId": "a0cbba3f-752b-45e6-9ea1-e2827e02fa51"
      },
      "execution_count": null,
      "outputs": [
        {
          "output_type": "stream",
          "name": "stdout",
          "text": [
            "Now power is set to 2\n",
            "6 power of 2= 36\n",
            "Now power is set to 5\n",
            "8 power of 5= 32768\n"
          ]
        }
      ]
    },
    {
      "cell_type": "code",
      "source": [
        "#filter() and map() function\n",
        "a=[100,2,8,60,5,4,3,31,10,11]\n",
        "filtered=filter(lambda x:x%2 == 0,a)\n",
        "print(list(filtered))\n",
        "\n",
        "#map()\n",
        "maped=map(lambda x:x%2==0,a)\n",
        "print(list(maped))"
      ],
      "metadata": {
        "colab": {
          "base_uri": "https://localhost:8080/"
        },
        "id": "L3h5-P2cGP3S",
        "outputId": "8f780264-1ff9-4825-ffa3-203c54fcb3ba"
      },
      "execution_count": null,
      "outputs": [
        {
          "output_type": "stream",
          "name": "stdout",
          "text": [
            "[100, 2, 8, 60, 4, 10]\n",
            "[True, True, True, True, False, True, False, False, True, False]\n"
          ]
        }
      ]
    },
    {
      "cell_type": "code",
      "source": [
        "#global variable\n",
        "def myfunction():\n",
        "  print(s)\n",
        "s=\"I love python\"\n",
        "myfunction()"
      ],
      "metadata": {
        "colab": {
          "base_uri": "https://localhost:8080/"
        },
        "id": "4MCa9gY4IXTB",
        "outputId": "01debec0-710f-4753-bab9-3e59fc37a9ed"
      },
      "execution_count": null,
      "outputs": [
        {
          "output_type": "stream",
          "name": "stdout",
          "text": [
            "I love python\n"
          ]
        }
      ]
    },
    {
      "cell_type": "code",
      "source": [
        "def myfunction():\n",
        "  x=\"Me too\"   #local variable\n",
        "  print(x)\n",
        "\n",
        "#global scope\n",
        "s=\"I love python\"\n",
        "myfunction()\n",
        "print(s)\n",
        "\n"
      ],
      "metadata": {
        "colab": {
          "base_uri": "https://localhost:8080/"
        },
        "id": "Q7ZvUoEAJ-co",
        "outputId": "5d7e0fe5-8c42-4e5d-aa69-0f44e5a2e747"
      },
      "execution_count": null,
      "outputs": [
        {
          "output_type": "stream",
          "name": "stdout",
          "text": [
            "Me too\n",
            "I love python\n"
          ]
        }
      ]
    },
    {
      "cell_type": "code",
      "source": [
        "#example for local and global variable\n",
        "a=1\n",
        "def f():\n",
        "  print('Inside f():',a)    #uses global beacuse there is no local a\n",
        "def g():\n",
        "  a=2      #variable 'a' is redefined as local\n",
        "  print('Inside g():',a)\n",
        "def h():\n",
        "  global a    #uses global keyword to modify global a\n",
        "  a=3\n",
        "  print('Inside h():',a)\n",
        "print('global:',a)    #Global scope\n",
        "f()\n",
        "print('global:',a)\n",
        "g()\n",
        "print('global:',a)\n",
        "h()\n",
        "print('global:',a)"
      ],
      "metadata": {
        "colab": {
          "base_uri": "https://localhost:8080/"
        },
        "id": "zollKYd1KmmI",
        "outputId": "b277ad1a-1171-48d8-c426-1124cdd2b43a"
      },
      "execution_count": null,
      "outputs": [
        {
          "output_type": "stream",
          "name": "stdout",
          "text": [
            "global: 1\n",
            "Inside f(): 1\n",
            "global: 1\n",
            "Inside g(): 2\n",
            "global: 1\n",
            "Inside h(): 3\n",
            "global: 3\n"
          ]
        }
      ]
    },
    {
      "cell_type": "code",
      "source": [
        "#python functions are first class objects\n",
        "def shout(text):\n",
        "  return text.upper()\n",
        "\n",
        "print(shout('Hello'))\n",
        "yell = shout\n",
        "print(yell('Hello'))"
      ],
      "metadata": {
        "colab": {
          "base_uri": "https://localhost:8080/"
        },
        "id": "biwAjlRILsdo",
        "outputId": "1c263a3a-42be-4a75-8eb3-8a1e259127b0"
      },
      "execution_count": null,
      "outputs": [
        {
          "output_type": "stream",
          "name": "stdout",
          "text": [
            "HELLO\n",
            "HELLO\n"
          ]
        }
      ]
    },
    {
      "cell_type": "code",
      "source": [
        "#functions can be passed as an argument\n",
        "def shout(text):\n",
        "  return text.upper()\n",
        "def whisper(text):\n",
        "  return text.lower()\n",
        "def greet(func):\n",
        "  greeting=func(\"\"\"Hi,I am  created by a fuction passed as an argument\"\"\" )\n",
        "  print(greeting)\n",
        "greet(shout)\n",
        "greet(whisper)"
      ],
      "metadata": {
        "colab": {
          "base_uri": "https://localhost:8080/"
        },
        "id": "UXDcp846Q0x2",
        "outputId": "06afd1f8-e26e-419e-90d4-a1c7f10d7c6f"
      },
      "execution_count": null,
      "outputs": [
        {
          "output_type": "stream",
          "name": "stdout",
          "text": [
            "HI,I AM  CREATED BY A FUCTION PASSED AS AN ARGUMENT\n",
            "hi,i am  created by a fuction passed as an argument\n"
          ]
        }
      ]
    },
    {
      "cell_type": "code",
      "source": [
        "\n",
        "#function can return  another function\n",
        "def create_adder(x):\n",
        "  def adder(y):\n",
        "    return x+y\n",
        "  return adder\n",
        "add_15 =create_adder(15)\n",
        "print(add_15(10))\n"
      ],
      "metadata": {
        "colab": {
          "base_uri": "https://localhost:8080/"
        },
        "id": "VG5wnx4iTN_l",
        "outputId": "c240b313-f358-4cb6-8fc9-ca87776bb149"
      },
      "execution_count": null,
      "outputs": [
        {
          "output_type": "stream",
          "name": "stdout",
          "text": [
            "25\n"
          ]
        }
      ]
    },
    {
      "cell_type": "code",
      "source": [
        "#Recursive Function\n",
        "\n",
        "def calc_factorial(x):\n",
        "  if x==1:\n",
        "    return 1\n",
        "  else:\n",
        "    return(x*calc_factorial(x-1))\n",
        "\n",
        "num=int(input(\"Enter the number:\"))\n",
        "print(\"The factorial of\",num,\"is\",calc_factorial(num))"
      ],
      "metadata": {
        "id": "0Vhrl1z1U9SU",
        "colab": {
          "base_uri": "https://localhost:8080/"
        },
        "outputId": "202afc9f-146a-4772-f8ab-301ffa08bedf"
      },
      "execution_count": null,
      "outputs": [
        {
          "output_type": "stream",
          "name": "stdout",
          "text": [
            "Enter the number:5\n",
            "The factorial of 5 is 120\n"
          ]
        }
      ]
    },
    {
      "cell_type": "code",
      "source": [
        "#simple pgm\n",
        "def add(x,y):\n",
        "  return(x+y)\n",
        "def subtract(x,y):\n",
        "  return(x-y)\n",
        "\n",
        "\n",
        "print(add(10,2))\n"
      ],
      "metadata": {
        "colab": {
          "base_uri": "https://localhost:8080/"
        },
        "id": "atNXlsPBbg-M",
        "outputId": "e1989c5a-47bb-4958-c98f-25ccfecbe3df"
      },
      "execution_count": null,
      "outputs": [
        {
          "output_type": "stream",
          "name": "stdout",
          "text": [
            "12\n"
          ]
        }
      ]
    },
    {
      "cell_type": "code",
      "source": [
        "#importing sqrt() and factorial from the module math\n",
        "from math import sqrt,factorial\n",
        "\n",
        "print(sqrt(16))\n",
        "print(factorial(6))"
      ],
      "metadata": {
        "colab": {
          "base_uri": "https://localhost:8080/"
        },
        "id": "PB9k6z1wevo0",
        "outputId": "46c63141-6276-44de-8cd4-b9c2a1931681"
      },
      "execution_count": null,
      "outputs": [
        {
          "output_type": "stream",
          "name": "stdout",
          "text": [
            "4.0\n",
            "720\n"
          ]
        }
      ]
    },
    {
      "cell_type": "code",
      "source": [
        "#from import * statement\n",
        "\n",
        "from random import*\n",
        "print(dir(random))"
      ],
      "metadata": {
        "colab": {
          "base_uri": "https://localhost:8080/"
        },
        "id": "X3c1zHcQfWWE",
        "outputId": "b89dc61b-946c-4d55-82e9-1c4ee2b6b804"
      },
      "execution_count": null,
      "outputs": [
        {
          "output_type": "stream",
          "name": "stdout",
          "text": [
            "['__call__', '__class__', '__delattr__', '__dir__', '__doc__', '__eq__', '__format__', '__ge__', '__getattribute__', '__getstate__', '__gt__', '__hash__', '__init__', '__init_subclass__', '__le__', '__lt__', '__module__', '__name__', '__ne__', '__new__', '__qualname__', '__reduce__', '__reduce_ex__', '__repr__', '__self__', '__setattr__', '__sizeof__', '__str__', '__subclasshook__', '__text_signature__']\n"
          ]
        }
      ]
    },
    {
      "cell_type": "code",
      "source": [
        "import random\n",
        "print(dir(random))"
      ],
      "metadata": {
        "colab": {
          "base_uri": "https://localhost:8080/"
        },
        "id": "QoyTnenhf3oL",
        "outputId": "0916d76e-c8a7-4eea-b815-760f200d181e"
      },
      "execution_count": null,
      "outputs": [
        {
          "output_type": "stream",
          "name": "stdout",
          "text": [
            "['BPF', 'LOG4', 'NV_MAGICCONST', 'RECIP_BPF', 'Random', 'SG_MAGICCONST', 'SystemRandom', 'TWOPI', '_ONE', '_Sequence', '_Set', '__all__', '__builtins__', '__cached__', '__doc__', '__file__', '__loader__', '__name__', '__package__', '__spec__', '_accumulate', '_acos', '_bisect', '_ceil', '_cos', '_e', '_exp', '_floor', '_index', '_inst', '_isfinite', '_log', '_os', '_pi', '_random', '_repeat', '_sha512', '_sin', '_sqrt', '_test', '_test_generator', '_urandom', '_warn', 'betavariate', 'choice', 'choices', 'expovariate', 'gammavariate', 'gauss', 'getrandbits', 'getstate', 'lognormvariate', 'normalvariate', 'paretovariate', 'randbytes', 'randint', 'random', 'randrange', 'sample', 'seed', 'setstate', 'shuffle', 'triangular', 'uniform', 'vonmisesvariate', 'weibullvariate']\n"
          ]
        }
      ]
    },
    {
      "cell_type": "markdown",
      "source": [
        "# Simple python questions\n"
      ],
      "metadata": {
        "id": "2zyzxE8Ep6QY"
      }
    },
    {
      "cell_type": "code",
      "source": [
        "#even or odd checker\n",
        "num=int(input(\"enter the number:\"))\n",
        "if(num%2==0):\n",
        "  print(\"The number is even\")\n",
        "else:\n",
        "  print(\"The number is odd\")"
      ],
      "metadata": {
        "colab": {
          "base_uri": "https://localhost:8080/"
        },
        "id": "i1nHQ5ZxhrBp",
        "outputId": "55721d24-e223-480c-a02b-3cad35ea889f"
      },
      "execution_count": null,
      "outputs": [
        {
          "output_type": "stream",
          "name": "stdout",
          "text": [
            "enter the number:3\n",
            "The number is odd\n"
          ]
        }
      ]
    },
    {
      "cell_type": "code",
      "source": [
        "#Number Range Printer\n",
        "for i in range(1,101):\n",
        "  print(i)"
      ],
      "metadata": {
        "colab": {
          "base_uri": "https://localhost:8080/"
        },
        "id": "3wvvUBADiC-W",
        "outputId": "457ff3a0-c417-4010-db1f-8ad808ef93ba"
      },
      "execution_count": null,
      "outputs": [
        {
          "output_type": "stream",
          "name": "stdout",
          "text": [
            "1\n",
            "2\n",
            "3\n",
            "4\n",
            "5\n",
            "6\n",
            "7\n",
            "8\n",
            "9\n",
            "10\n",
            "11\n",
            "12\n",
            "13\n",
            "14\n",
            "15\n",
            "16\n",
            "17\n",
            "18\n",
            "19\n",
            "20\n",
            "21\n",
            "22\n",
            "23\n",
            "24\n",
            "25\n",
            "26\n",
            "27\n",
            "28\n",
            "29\n",
            "30\n",
            "31\n",
            "32\n",
            "33\n",
            "34\n",
            "35\n",
            "36\n",
            "37\n",
            "38\n",
            "39\n",
            "40\n",
            "41\n",
            "42\n",
            "43\n",
            "44\n",
            "45\n",
            "46\n",
            "47\n",
            "48\n",
            "49\n",
            "50\n",
            "51\n",
            "52\n",
            "53\n",
            "54\n",
            "55\n",
            "56\n",
            "57\n",
            "58\n",
            "59\n",
            "60\n",
            "61\n",
            "62\n",
            "63\n",
            "64\n",
            "65\n",
            "66\n",
            "67\n",
            "68\n",
            "69\n",
            "70\n",
            "71\n",
            "72\n",
            "73\n",
            "74\n",
            "75\n",
            "76\n",
            "77\n",
            "78\n",
            "79\n",
            "80\n",
            "81\n",
            "82\n",
            "83\n",
            "84\n",
            "85\n",
            "86\n",
            "87\n",
            "88\n",
            "89\n",
            "90\n",
            "91\n",
            "92\n",
            "93\n",
            "94\n",
            "95\n",
            "96\n",
            "97\n",
            "98\n",
            "99\n",
            "100\n"
          ]
        }
      ]
    },
    {
      "cell_type": "code",
      "source": [
        "#Sum of First N Numbers\n",
        "sum=0\n",
        "num=int(input(\"Enter the number:\"))\n",
        "for i in range(1,num+1):\n",
        "  sum=sum+i\n",
        "print(\"The sum is\",sum)"
      ],
      "metadata": {
        "colab": {
          "base_uri": "https://localhost:8080/"
        },
        "id": "J1HJbOhGiZP8",
        "outputId": "27c02eb6-ed18-4470-9e2e-605e8c68ca85"
      },
      "execution_count": null,
      "outputs": [
        {
          "output_type": "stream",
          "name": "stdout",
          "text": [
            "Enter the number:4\n",
            "The sum is 10\n"
          ]
        }
      ]
    },
    {
      "cell_type": "code",
      "source": [
        "#Simple Password Checker\n",
        "password=\"Drishya\"\n",
        "var=input(\"Enter the password:\")\n",
        "if(var==password):\n",
        "  print(\"You are logged in!!!!!\")\n",
        "else:\n",
        "  print(\"Incorrect Passwod....\")\n"
      ],
      "metadata": {
        "colab": {
          "base_uri": "https://localhost:8080/"
        },
        "id": "9DvaFRVRjHz6",
        "outputId": "e598c646-059a-4011-c9ce-49c4297b9281"
      },
      "execution_count": null,
      "outputs": [
        {
          "output_type": "stream",
          "name": "stdout",
          "text": [
            "Enter the password:asqwerfeget\n",
            "Incorrect Passwod....\n"
          ]
        }
      ]
    },
    {
      "cell_type": "code",
      "source": [
        "#Prime Number Checker\n",
        "\n",
        "num=int(input(\"Enter the number:\"))\n",
        "def check_prime(num):\n",
        "  for i in range(2,num):\n",
        "    if(num%i==0):\n",
        "      print(\"The number is not prime\")\n",
        "      break\n",
        "    else:\n",
        "      print(\"The number is prime\")\n",
        "      break\n",
        "\n",
        "check_prime(num)\n",
        "\n",
        "\n",
        "\n",
        "\n",
        "\n"
      ],
      "metadata": {
        "colab": {
          "base_uri": "https://localhost:8080/"
        },
        "id": "v8UWEEMFmBaA",
        "outputId": "24ce3793-5611-44c3-d90b-b4712c57ee0f"
      },
      "execution_count": null,
      "outputs": [
        {
          "output_type": "stream",
          "name": "stdout",
          "text": [
            "Enter the number:4\n",
            "The number is not prime\n"
          ]
        }
      ]
    },
    {
      "cell_type": "code",
      "source": [
        "#Factorial Calculator using function\n",
        "\n",
        "num=int(input(\"Enter the number:\"))\n",
        "def cal_fact(num):\n",
        "  fact=1\n",
        "  for i in range(1,num+1):\n",
        "    fact=fact*i\n",
        "  print(\"The factorial is:\",fact)\n",
        "\n",
        "cal_fact(num)"
      ],
      "metadata": {
        "colab": {
          "base_uri": "https://localhost:8080/"
        },
        "id": "F0iptTsmnYJQ",
        "outputId": "22d80bf9-c043-4d22-f34a-c1d799c39dc7"
      },
      "execution_count": null,
      "outputs": [
        {
          "output_type": "stream",
          "name": "stdout",
          "text": [
            "Enter the number:5\n",
            "The factorial is: 120\n"
          ]
        }
      ]
    },
    {
      "cell_type": "code",
      "source": [
        "#Print numbers from 1 to 100.\n",
        "\n",
        "#Use if to print “Fizz” for multiples of 3, “Buzz” for 5, and “FizzBuzz” for both.\n",
        "for i in range(1,101):\n",
        "  if i%3==0 and i%5==0:\n",
        "    print(\"FizzBuzz\")\n",
        "  elif i%3==0 :\n",
        "    print(\"Fizz\")\n",
        "  elif i%5==0 :\n",
        "    print(\"Buzz\")\n",
        "  else:\n",
        "    print(i)\n"
      ],
      "metadata": {
        "colab": {
          "base_uri": "https://localhost:8080/"
        },
        "id": "_jX9CCfdpLnt",
        "outputId": "e01d5585-c893-4cba-eacb-ea6b8d261016"
      },
      "execution_count": null,
      "outputs": [
        {
          "output_type": "stream",
          "name": "stdout",
          "text": [
            "1\n",
            "2\n",
            "Fizz\n",
            "4\n",
            "Buzz\n",
            "Fizz\n",
            "7\n",
            "8\n",
            "Fizz\n",
            "Buzz\n",
            "11\n",
            "Fizz\n",
            "13\n",
            "14\n",
            "FizzBuzz\n",
            "16\n",
            "17\n",
            "Fizz\n",
            "19\n",
            "Buzz\n",
            "Fizz\n",
            "22\n",
            "23\n",
            "Fizz\n",
            "Buzz\n",
            "26\n",
            "Fizz\n",
            "28\n",
            "29\n",
            "FizzBuzz\n",
            "31\n",
            "32\n",
            "Fizz\n",
            "34\n",
            "Buzz\n",
            "Fizz\n",
            "37\n",
            "38\n",
            "Fizz\n",
            "Buzz\n",
            "41\n",
            "Fizz\n",
            "43\n",
            "44\n",
            "FizzBuzz\n",
            "46\n",
            "47\n",
            "Fizz\n",
            "49\n",
            "Buzz\n",
            "Fizz\n",
            "52\n",
            "53\n",
            "Fizz\n",
            "Buzz\n",
            "56\n",
            "Fizz\n",
            "58\n",
            "59\n",
            "FizzBuzz\n",
            "61\n",
            "62\n",
            "Fizz\n",
            "64\n",
            "Buzz\n",
            "Fizz\n",
            "67\n",
            "68\n",
            "Fizz\n",
            "Buzz\n",
            "71\n",
            "Fizz\n",
            "73\n",
            "74\n",
            "FizzBuzz\n",
            "76\n",
            "77\n",
            "Fizz\n",
            "79\n",
            "Buzz\n",
            "Fizz\n",
            "82\n",
            "83\n",
            "Fizz\n",
            "Buzz\n",
            "86\n",
            "Fizz\n",
            "88\n",
            "89\n",
            "FizzBuzz\n",
            "91\n",
            "92\n",
            "Fizz\n",
            "94\n",
            "Buzz\n",
            "Fizz\n",
            "97\n",
            "98\n",
            "Fizz\n",
            "Buzz\n"
          ]
        }
      ]
    },
    {
      "cell_type": "code",
      "source": [
        "#Find Maximum in a List\n",
        "#Use a for loop to iterate through a list of numbers.\n",
        "#Use if to find and return the maximum using a function.\n",
        "\n",
        "list1=[43,21,35,11,60,23,34,50]\n",
        "def find_max(list1):\n",
        "  max_value=0\n",
        "  for i in list1:\n",
        "    if i>max_value:\n",
        "      max_value=i\n",
        "  print(\"The maximum number is:\",max_value)\n",
        "\n",
        "find_max(list1)\n"
      ],
      "metadata": {
        "colab": {
          "base_uri": "https://localhost:8080/"
        },
        "id": "fDmmZ3aTqwEw",
        "outputId": "b0410d8e-7482-496b-f248-aa1ec2bc014d"
      },
      "execution_count": null,
      "outputs": [
        {
          "output_type": "stream",
          "name": "stdout",
          "text": [
            "The maximum number is: 60\n"
          ]
        }
      ]
    },
    {
      "cell_type": "code",
      "source": [
        "c=8\n",
        "def lst():\n",
        "  print(c)"
      ],
      "metadata": {
        "id": "kZeAW6TrAhCt"
      },
      "execution_count": null,
      "outputs": []
    },
    {
      "cell_type": "code",
      "source": [
        "#count vowels using function\n",
        "\n",
        "vowel='aeiou'\n",
        "\n",
        "strng=input(\"Enter the string\")\n",
        "def count_vowel(strng):\n",
        "  c=0\n",
        "  for i in range(len(strng)):\n",
        "    if a[i] in vowel:\n",
        "      c+=1\n",
        "  print(\"number of vowels\",c)\n",
        "\n",
        "\n",
        "\n",
        "count_vowel(strng)\n",
        "\n"
      ],
      "metadata": {
        "colab": {
          "base_uri": "https://localhost:8080/"
        },
        "id": "-hh1QXnyszlP",
        "outputId": "13673e6c-b5ad-4548-f4ab-891045847ce4"
      },
      "execution_count": null,
      "outputs": [
        {
          "output_type": "stream",
          "name": "stdout",
          "text": [
            "Enter the stringhai\n",
            "number of vowels 2\n"
          ]
        }
      ]
    },
    {
      "cell_type": "code",
      "source": [
        "#largest of 3 numbers\n",
        "def largest(num1,num2,num3):\n",
        "  if num1>num2 and num1>num3:\n",
        "    print(\"The largest number is\",num1)\n",
        "  elif num2>num1 and num2>num3:\n",
        "    print(\"The largest number is\",num2)\n",
        "  else:\n",
        "    print(\"the largest number is\",num3)\n",
        "\n",
        "num1=int(input(\"enter the 1st num \"))\n",
        "num2=int(input(\"enter the 2nd num \"))\n",
        "num3=int(input(\"enter the 3rd num \"))\n",
        "largest(num1,num2,num3)"
      ],
      "metadata": {
        "colab": {
          "base_uri": "https://localhost:8080/"
        },
        "id": "1jblGI3J8QFR",
        "outputId": "86a88173-e71f-4f2a-a2fd-faf54578716c"
      },
      "execution_count": null,
      "outputs": [
        {
          "output_type": "stream",
          "name": "stdout",
          "text": [
            "enter the 1st num 24\n",
            "enter the 2nd num 31\n",
            "enter the 3rd num 11\n",
            "The largest number is 31\n"
          ]
        }
      ]
    },
    {
      "cell_type": "code",
      "source": [
        " #Palindrome Checker\n",
        "\n",
        "def palin_Checker(strng):\n",
        "  if strng==strng[::-1]:\n",
        "    print(\"Palindrome\")\n",
        "  else:\n",
        "    print(\"not palindrome\")\n",
        "strng=input(\"Enter the string:\")\n",
        "palin_Checker(strng)\n",
        "\n",
        "\n",
        "\n"
      ],
      "metadata": {
        "colab": {
          "base_uri": "https://localhost:8080/"
        },
        "id": "oNoguJ9K_46N",
        "outputId": "9b871060-53bd-44b4-ec9a-07ad3696943f"
      },
      "execution_count": null,
      "outputs": [
        {
          "output_type": "stream",
          "name": "stdout",
          "text": [
            "Enter the string:malayalam\n",
            "Palindrome\n"
          ]
        }
      ]
    },
    {
      "cell_type": "code",
      "source": [
        "#Fibonacci series\n",
        "num=int(input(\"Enter the number of elements:\"))\n",
        "a=[0,1]\n",
        "for i in range(2,num):\n",
        "  a.append(a[i-1]+a[i-2])\n",
        "print(a)\n",
        "\n"
      ],
      "metadata": {
        "id": "pkSE3B3jCzmj",
        "colab": {
          "base_uri": "https://localhost:8080/"
        },
        "outputId": "538f2662-a3c9-449e-d759-84d2d5933022"
      },
      "execution_count": null,
      "outputs": [
        {
          "output_type": "stream",
          "name": "stdout",
          "text": [
            "Enter the number of elements:8\n",
            "[0, 1, 1, 2, 3, 5, 8, 13]\n"
          ]
        }
      ]
    },
    {
      "cell_type": "code",
      "source": [
        "#Reverse list\n",
        "a=[1,99,2,3,4,88,5,7,6,9,8,11,23,32]\n",
        "b=[]\n",
        "\n",
        "\n",
        "for i in range(1,len(a)+1):\n",
        "\n",
        "  b.append(a[-i])\n",
        "print(b)\n",
        "\n",
        "\n",
        "\n",
        "\n",
        "\n",
        "\n",
        "\n",
        "\n"
      ],
      "metadata": {
        "colab": {
          "base_uri": "https://localhost:8080/"
        },
        "id": "M2gop-nhgRGo",
        "outputId": "791790ab-be11-4c7b-842c-681152a3f3bb"
      },
      "execution_count": null,
      "outputs": [
        {
          "output_type": "stream",
          "name": "stdout",
          "text": [
            "[32, 23, 11, 8, 9, 6, 7, 5, 88, 4, 3, 2, 99, 1]\n"
          ]
        }
      ]
    },
    {
      "cell_type": "code",
      "source": [
        "#Reverse the list using insert\n",
        "a=[1,2,3,4,5,6]\n",
        "reverse_list=[]\n",
        "for i in a:\n",
        "  if True:\n",
        "    reverse_list.insert(0,i)     #insert function-first position and then value here 0,i\n",
        "\n",
        "print(reverse_list)"
      ],
      "metadata": {
        "colab": {
          "base_uri": "https://localhost:8080/"
        },
        "id": "s7XsS_7Vk01U",
        "outputId": "45948c9e-94a5-4602-8e88-90cfed1726d2"
      },
      "execution_count": null,
      "outputs": [
        {
          "output_type": "stream",
          "name": "stdout",
          "text": [
            "[6, 5, 4, 3, 2, 1]\n"
          ]
        }
      ]
    },
    {
      "cell_type": "markdown",
      "source": [
        "#Object Oriented Programming"
      ],
      "metadata": {
        "id": "zm_NvslmHcEQ"
      }
    },
    {
      "cell_type": "markdown",
      "source": [
        "# Class and Objects\n",
        "\n"
      ],
      "metadata": {
        "id": "Q78DMOrB7TjH"
      }
    },
    {
      "cell_type": "code",
      "source": [
        "#simple program to understand class\n",
        "\n",
        "class Cars:\n",
        "  attr1=\"BMW\"\n",
        "  attr2=\"series1\"\n",
        "\n",
        "  def fun(self):\n",
        "    print(\"I am from\",self.attr1)\n",
        "    print(\"my model is\",self.attr2)\n",
        "\n",
        "John=Cars()\n",
        "print(John.attr1)\n",
        "John.fun()"
      ],
      "metadata": {
        "colab": {
          "base_uri": "https://localhost:8080/"
        },
        "id": "QC9tYpZy7zqx",
        "outputId": "fd33658b-34e4-4b18-b272-005ef7d295cf"
      },
      "execution_count": null,
      "outputs": [
        {
          "output_type": "stream",
          "name": "stdout",
          "text": [
            "BMW\n",
            "I am from BMW\n",
            "my model is series1\n"
          ]
        }
      ]
    },
    {
      "cell_type": "code",
      "source": [
        "#example2\n",
        "class phone:      #making a class\n",
        "  def make_call(self):    #function making always use self a parameter\n",
        "    print(\"lets make a phone call\")\n",
        "\n",
        "  def play_game(self):\n",
        "    print(\"lets play a game\")\n",
        "\n",
        "\n",
        "p1=phone()    #creating object p1\n",
        "p1.make_call()\n",
        "p1.play_game()\n",
        "\n",
        "\n",
        "\n",
        "\n",
        "\n"
      ],
      "metadata": {
        "id": "NswMddIL9PkO",
        "colab": {
          "base_uri": "https://localhost:8080/"
        },
        "outputId": "c23281db-8f38-4ebe-9ace-c849ae6fda66"
      },
      "execution_count": null,
      "outputs": [
        {
          "output_type": "stream",
          "name": "stdout",
          "text": [
            "lets make a phone call\n",
            "lets play a game\n"
          ]
        }
      ]
    },
    {
      "cell_type": "code",
      "source": [
        "#Adding parameter to class\n",
        "\n",
        "class phone:\n",
        "  def make_call(self):\n",
        "    print(\"lets make a phone call\")\n",
        "\n",
        "  def play_game(self):\n",
        "    print(\"lets play a game\")\n",
        "\n",
        "  def set_color(self,color):      #adding new parameter and adding new functons\n",
        "    self.color = color\n",
        "\n",
        "  def set_cost(self,cost):\n",
        "    self.cost = cost\n",
        "\n",
        "  def show_color(self):\n",
        "    return self.color\n",
        "\n",
        "  def show_cost(self):\n",
        "    return self.cost\n",
        "\n",
        "\n",
        "p2=phone()  #creating new object p2\n",
        "p2.set_color('blue')\n",
        "p2.set_cost(50000)\n",
        "\n"
      ],
      "metadata": {
        "id": "7uFdc7uIEA8o"
      },
      "execution_count": null,
      "outputs": []
    },
    {
      "cell_type": "code",
      "source": [
        "p2.show_color()"
      ],
      "metadata": {
        "colab": {
          "base_uri": "https://localhost:8080/",
          "height": 35
        },
        "id": "3j-oUbRgGoDQ",
        "outputId": "a9c21c73-ede7-4969-abdf-0f1017e92b01"
      },
      "execution_count": null,
      "outputs": [
        {
          "output_type": "execute_result",
          "data": {
            "text/plain": [
              "'blue'"
            ],
            "application/vnd.google.colaboratory.intrinsic+json": {
              "type": "string"
            }
          },
          "metadata": {},
          "execution_count": 79
        }
      ]
    },
    {
      "cell_type": "code",
      "source": [
        "p2.show_cost()"
      ],
      "metadata": {
        "colab": {
          "base_uri": "https://localhost:8080/"
        },
        "id": "OZ9nuQVpGwQe",
        "outputId": "75a38d6a-d0c6-48e2-e4ee-1d5c56005674"
      },
      "execution_count": null,
      "outputs": [
        {
          "output_type": "execute_result",
          "data": {
            "text/plain": [
              "50000"
            ]
          },
          "metadata": {},
          "execution_count": 80
        }
      ]
    },
    {
      "cell_type": "code",
      "source": [
        "#Creating a class with constructor\n",
        "\n",
        "class Employee:\n",
        "\n",
        "  def __init__(self,name,age,salary,gender):         #init method  is constructor\n",
        "\n",
        "    self.name = name\n",
        "    self.age = age\n",
        "    self.salary = salary\n",
        "    self.gender = gender\n",
        "\n",
        "\n",
        "  def employee_details(self):\n",
        "    print(\"Name of employee is\",self.name)\n",
        "    print(\"Age of employee is\",self.age)\n",
        "    print(\"Salary of employee is \",self.salary)\n",
        "    print(\"Gender of employee is\",self.gender)\n",
        "\n",
        "\n",
        "e1=Employee(\"Sam\",32,85000,\"Male\")\n",
        "\n",
        "e1.employee_details()\n",
        "\n"
      ],
      "metadata": {
        "id": "LLcV5LqfG0rW",
        "colab": {
          "base_uri": "https://localhost:8080/"
        },
        "outputId": "fdbb9e88-15d6-484a-9282-6c8bd8d88a1d"
      },
      "execution_count": null,
      "outputs": [
        {
          "output_type": "stream",
          "name": "stdout",
          "text": [
            "Name of employee is Sam\n",
            "Age of employee is 32\n",
            "Salary of employee is  85000\n",
            "Gender of employee is Male\n"
          ]
        }
      ]
    },
    {
      "cell_type": "code",
      "source": [
        "#another example for init method\n",
        "class Student:\n",
        "  def __init__(self,name,age,mark,grade):\n",
        "    self.name = name\n",
        "    self.age = age\n",
        "    self.mark = mark\n",
        "    self.grade = grade\n",
        "\n",
        "  def student_details(self):\n",
        "    print(\"Name of student\",self.name)\n",
        "    print(\"Age of student\",self.age)\n",
        "    print(\"Total mark scored\",self.mark)\n",
        "    print(\"Grade\",self.grade)\n",
        "\n",
        "s1=Student(\"Riya\",16,98,\"A\")\n",
        "s1.student_details()"
      ],
      "metadata": {
        "colab": {
          "base_uri": "https://localhost:8080/"
        },
        "id": "3qDeB75pR4Wr",
        "outputId": "8981216e-0998-4f82-c5f4-de079695dec2"
      },
      "execution_count": null,
      "outputs": [
        {
          "output_type": "stream",
          "name": "stdout",
          "text": [
            "Name of student Riya\n",
            "Age of student 16\n",
            "Total mark scored 98\n",
            "Grade A\n"
          ]
        }
      ]
    },
    {
      "cell_type": "code",
      "source": [
        "class Cars:\n",
        "  fourwheelers='cars'\n",
        "\n",
        "  def __init__(self,brand,color):\n",
        "    self.brand=brand\n",
        "    self.color=color\n",
        "\n",
        "\n",
        "  def fun(self):\n",
        "    print(\"hello\",self.brand)\n",
        "    print(\"and color is\",self.color)\n",
        "\n",
        "Tata=Cars(\"Nexon\",\"blue\")\n",
        "mustang=Cars(\"Ford\",\"orange\")\n",
        "Tata.fun()"
      ],
      "metadata": {
        "colab": {
          "base_uri": "https://localhost:8080/"
        },
        "id": "88N8Xxp8Ue3D",
        "outputId": "5f858d34-71d0-45bc-80ba-922876b78f2e"
      },
      "execution_count": null,
      "outputs": [
        {
          "output_type": "stream",
          "name": "stdout",
          "text": [
            "hello Nexon\n",
            "and color is blue\n"
          ]
        }
      ]
    },
    {
      "cell_type": "code",
      "source": [
        "#Default constructor\n",
        "\n",
        "class Myclass:    #default constructor\n",
        "  def __init__(self):\n",
        "    self.hello=\"hello\"\n",
        "  def print_hello(self):   #a method for printing data members\n",
        "    print(self.hello)\n",
        "\n",
        "obj=Myclass()   #creating objects of the class\n",
        "obj.print_hello()  #calling the instance method using object obj"
      ],
      "metadata": {
        "colab": {
          "base_uri": "https://localhost:8080/"
        },
        "id": "aqX6MntsV4_L",
        "outputId": "8dacbeea-621e-47ad-b9f3-e1662cfc2e54"
      },
      "execution_count": null,
      "outputs": [
        {
          "output_type": "stream",
          "name": "stdout",
          "text": [
            "hello\n"
          ]
        }
      ]
    },
    {
      "cell_type": "code",
      "source": [
        "#parameterized constructor\n",
        "\n",
        "class Myclass:\n",
        "  first = 0\n",
        "  second = 0\n",
        "  answer = 0\n",
        "\n",
        "  def __init__(self,f,s):\n",
        "    self.first = f\n",
        "    self.second = s\n",
        "\n",
        "  def display(self):\n",
        "    print(\"first number=\"+str(self.first))\n",
        "    print(\"second number=\"+str(self.second))\n",
        "    print(\"Addition of two number=\"+str(self.answer))\n",
        "\n",
        "  def calculate(self):\n",
        "    self.answer=self.first + self.second\n",
        "\n",
        "\n",
        "obj=Myclass(2000,2000)\n",
        "obj.calculate()\n",
        "obj.display()\n"
      ],
      "metadata": {
        "colab": {
          "base_uri": "https://localhost:8080/"
        },
        "id": "QMp_lAnwZ72q",
        "outputId": "27dea898-c609-4502-cbd3-37ecc794b4f7"
      },
      "execution_count": null,
      "outputs": [
        {
          "output_type": "stream",
          "name": "stdout",
          "text": [
            "first number=2000\n",
            "second number=2000\n",
            "Addition of two number=4000\n"
          ]
        }
      ]
    },
    {
      "cell_type": "code",
      "source": [
        "#Destructors\n",
        "\n",
        "class Employee:\n",
        "  def __init__(self):   #initializing\n",
        "    print('Employee created')\n",
        "\n",
        "  def __del__(self):    #deleting(called destructor)\n",
        "    print('Destructor called,Employee deleted')\n",
        "\n",
        "obj=Employee()\n",
        "del obj"
      ],
      "metadata": {
        "colab": {
          "base_uri": "https://localhost:8080/"
        },
        "id": "jgg9vPU2bE-C",
        "outputId": "e069c06a-d5f2-4e25-d148-c778a667a41f"
      },
      "execution_count": null,
      "outputs": [
        {
          "output_type": "stream",
          "name": "stdout",
          "text": [
            "Employee created\n",
            "Destructor called,Employee deleted\n"
          ]
        }
      ]
    },
    {
      "cell_type": "markdown",
      "source": [
        "# **Inheritance in O**OP\n",
        "\n",
        "  Inheritance is a fundemental concept of object-oriented programming(oop) that allows a class (child or derived class) to acquire the attributes and methods of another class (parent or base class), it facilitates code reusability, modularity, and the creation hierarchical relationships b/w classes. Promoting efficient code management and reducing redundancy.\n",
        "\n",
        "\n",
        "\n",
        "**Types of inheritance**\n",
        "\n",
        "- 1) Single inheritance:\n",
        " - A derived class inherits form a single parent class, gaining access to its properites and methods\n",
        "\n",
        "- 2) Multilevel inhertance:\n",
        " - A class inherits from another derived class, froming a chain of inheritance.\n",
        "\n",
        "- 3) Hierarchial inheritance:\n",
        " - Multiple derived classes inherit from a single parent class, allowing shared behavior across diggerent subcalsses\n",
        "\n",
        "- 4) Multiple Inheritance:\n",
        " - A single derived clas inhertis from multiple parent classes, combining functionalities from different sources."
      ],
      "metadata": {
        "id": "u7usfSVihOwC"
      }
    },
    {
      "cell_type": "markdown",
      "source": [],
      "metadata": {
        "id": "pFXsN3Z8isU4"
      }
    },
    {
      "cell_type": "markdown",
      "source": [
        "## 1) Single Inheritance\n",
        "\n",
        "\n",
        "*   A derived class inherits from a single parent class,gaining access to its properties and methods.\n",
        "\n",
        "\n"
      ],
      "metadata": {
        "id": "xPObYB9Gizrw"
      }
    },
    {
      "cell_type": "code",
      "source": [
        "#example1\n",
        "class Animal:   #parent class\n",
        "  def speak(self):\n",
        "    print(\"Animal speaking\")\n",
        "\n",
        "class Dog(Animal):   #child class(can inherit the properties and methods of parent class)\n",
        "  def bark(self):\n",
        "    print(\"Dog barking\")\n",
        "\n",
        "d=Dog()\n",
        "d.bark()\n",
        "d.speak()  #we can call parent class methgod through child class\n",
        "\n",
        "a=Animal()\n",
        "a.speak()\n",
        "#a.bark() AttributeError: 'Animal' object has no attribute 'bark' (because parent class have no connection with the child behaviour/child method)"
      ],
      "metadata": {
        "colab": {
          "base_uri": "https://localhost:8080/"
        },
        "id": "UuLrm9iijPxB",
        "outputId": "32c7dd13-cf0b-4d88-8667-625909b11332"
      },
      "execution_count": null,
      "outputs": [
        {
          "output_type": "stream",
          "name": "stdout",
          "text": [
            "Dog barking\n",
            "Animal speaking\n",
            "Animal speaking\n"
          ]
        }
      ]
    },
    {
      "cell_type": "code",
      "source": [
        "#example2\n",
        "class vehicle:\n",
        "  def start(self):\n",
        "    print(\"Vehicle is starting..\")\n",
        "  def stop(self):\n",
        "    print(\"vehicle is stopping..\")\n",
        "\n",
        "class car(vehicle):\n",
        "  def drive(self):\n",
        "    print(\"car is being driven\")\n",
        "\n",
        "my_car =  car()\n",
        "my_car.start()\n",
        "my_car.drive()\n",
        "my_car.stop()"
      ],
      "metadata": {
        "colab": {
          "base_uri": "https://localhost:8080/"
        },
        "id": "GnogQhJyj3Wx",
        "outputId": "a5503a1c-4a16-426b-af2d-8c7dbd66a504"
      },
      "execution_count": null,
      "outputs": [
        {
          "output_type": "stream",
          "name": "stdout",
          "text": [
            "Vehicle is starting..\n",
            "car is being driven\n",
            "vehicle is stopping..\n"
          ]
        }
      ]
    },
    {
      "cell_type": "code",
      "source": [
        "#example 3\n",
        "class fruits:\n",
        "  def type(self):\n",
        "    print(\" Different types of fruits\")\n",
        "\n",
        "class apple(fruits):\n",
        "  def color(self):\n",
        "    print(\" It is a red colored fruit\")\n",
        "\n",
        "f1=apple()\n",
        "f1.type()\n",
        "f1.color()\n",
        "\n",
        "f2=fruits()\n",
        "f2.type()"
      ],
      "metadata": {
        "colab": {
          "base_uri": "https://localhost:8080/"
        },
        "id": "bQrD5OBimh0b",
        "outputId": "9d28ec2e-0ea3-4935-c981-9536f76a85b8"
      },
      "execution_count": null,
      "outputs": [
        {
          "output_type": "stream",
          "name": "stdout",
          "text": [
            " Different types of fruits\n",
            " It is a red colored fruit\n",
            " Different types of fruits\n"
          ]
        }
      ]
    },
    {
      "cell_type": "markdown",
      "source": [
        "## 2) Multilevel Inheritance\n",
        "\n",
        "\n",
        "*   A class inherits from another derived class,forming a chain of inheritance.\n",
        "\n",
        "\n"
      ],
      "metadata": {
        "id": "Zyk-yGEirfZg"
      }
    },
    {
      "cell_type": "code",
      "source": [
        "#Example1\n",
        "\n",
        "class Animal:\n",
        "  def speak(self):\n",
        "    print(\"Animal speaking\")\n",
        "\n",
        "class Dog(Animal):   #childclass inheritance\n",
        "  def bark(self):\n",
        "    print(\"Dog barking\")\n",
        "\n",
        "class Dogchild(Dog):   #multilevel inheritance\n",
        "  def eat(self):\n",
        "    print(\"Eating bread...\")\n",
        "\n",
        "d=Dog()\n",
        "d.bark()\n",
        "d.speak()\n",
        "#d.eat()   AttributeError: 'Dog' object has no attribute 'eat'\n",
        "\n",
        "d1=Dogchild()  #multilevel child has all the method\n",
        "d1.bark()\n",
        "d1.speak()\n",
        "d1.eat()\n"
      ],
      "metadata": {
        "colab": {
          "base_uri": "https://localhost:8080/"
        },
        "id": "tN5vczAcr_sQ",
        "outputId": "e02d7527-3d04-4ee9-9037-bd0bd0fcf6b7"
      },
      "execution_count": null,
      "outputs": [
        {
          "output_type": "stream",
          "name": "stdout",
          "text": [
            "Dog barking\n",
            "Animal speaking\n",
            "Dog barking\n",
            "Animal speaking\n",
            "Eating bread...\n"
          ]
        }
      ]
    },
    {
      "cell_type": "code",
      "source": [
        "#example2\n",
        "\n",
        "class fruits:\n",
        "  def type(self):\n",
        "    print(\"There are different types of frutis \")\n",
        "\n",
        "class citrus(fruits):\n",
        "  def acidic(self):\n",
        "    print(\"citrus fruits are acidic in nature\")\n",
        "\n",
        "class orange(citrus):\n",
        "  def color(self):\n",
        "    print(\"It is a orange colored fruit\")\n",
        "\n",
        "\n",
        "f=citrus()\n",
        "f.type()\n",
        "f.acidic()\n",
        "print(\"......multilevel inherited......\")\n",
        "f1=orange()\n",
        "f1.type()\n",
        "f1.acidic()\n",
        "f1.color()"
      ],
      "metadata": {
        "colab": {
          "base_uri": "https://localhost:8080/"
        },
        "id": "Riy3K_2es-j_",
        "outputId": "50d96a47-9b5c-45da-cfa5-b3aa70fb6218"
      },
      "execution_count": null,
      "outputs": [
        {
          "output_type": "stream",
          "name": "stdout",
          "text": [
            "There are different types of frutis \n",
            "citrus fruits are acidic in nature\n",
            "......multilevel inherited......\n",
            "There are different types of frutis \n",
            "citrus fruits are acidic in nature\n",
            "It is a orange colored fruit\n"
          ]
        }
      ]
    },
    {
      "cell_type": "markdown",
      "source": [
        "## 3)Hierarchial Inheritance\n",
        "\n",
        "\n",
        "*   Multiple derived classes inherit from a single parent class,allowing shared behaviour across different classes.\n",
        "\n",
        "\n"
      ],
      "metadata": {
        "id": "sY54TINDw1gP"
      }
    },
    {
      "cell_type": "code",
      "source": [
        "#example1\n",
        "class Shape:   #This is a parent class\n",
        "  def info(self):\n",
        "    print(\"shapes have dimensions....\")\n",
        "\n",
        "class Circle(Shape):  #this is child of shape\n",
        "  def draw(self):\n",
        "    print(\"Drawing a circle...\")\n",
        "\n",
        "class Rectangle(Shape): #this also child of shape\n",
        "  def draw(self):\n",
        "    print(\"Drawing a rectangle...\")\n",
        "\n",
        "\n",
        "c=Circle()\n",
        "r=Rectangle()\n",
        "c.info()\n",
        "c.draw()\n",
        "r.info()\n",
        "r.draw()"
      ],
      "metadata": {
        "colab": {
          "base_uri": "https://localhost:8080/"
        },
        "id": "c9YipIF0xVHf",
        "outputId": "b6aef4b2-a246-49fe-e60f-a7fe643ec659"
      },
      "execution_count": null,
      "outputs": [
        {
          "output_type": "stream",
          "name": "stdout",
          "text": [
            "shapes have dimensions....\n",
            "Drawing a circle...\n",
            "shapes have dimensions....\n",
            "Drawing a rectangle...\n"
          ]
        }
      ]
    },
    {
      "cell_type": "code",
      "source": [
        "#example2\n",
        "class person:     #parent class\n",
        "  def introduce(self):\n",
        "    print(\"Iam a person....\")\n",
        "\n",
        "class Teacher(person):   #child class1\n",
        "  def teach(self):\n",
        "    print(\"I teach students...\")\n",
        "\n",
        "class student(person):  #childclass2\n",
        "  def study(self):\n",
        "    print(\"I study subjects...\")\n",
        "\n",
        "t=Teacher()\n",
        "s=student()\n",
        "t.introduce()\n",
        "t.teach()\n",
        "print(\"................\")\n",
        "s.introduce()\n",
        "s.study()"
      ],
      "metadata": {
        "colab": {
          "base_uri": "https://localhost:8080/"
        },
        "id": "IRRUkrkGzCgW",
        "outputId": "f10bf056-8db7-40a6-c584-f2c743244fdc"
      },
      "execution_count": null,
      "outputs": [
        {
          "output_type": "stream",
          "name": "stdout",
          "text": [
            "Iam a person....\n",
            "I teach students...\n",
            "................\n",
            "Iam a person....\n",
            "I study subjects...\n"
          ]
        }
      ]
    },
    {
      "cell_type": "code",
      "source": [
        "#example3\n",
        "class animal:\n",
        "  def sound(self):\n",
        "    print(\"animal sounds...\")\n",
        "\n",
        "class dog(animal):\n",
        "  def bark(self):\n",
        "    print(\"Dogs use bark nto alert\")\n",
        "\n",
        "class cat(animal):\n",
        "  def meow(self):\n",
        "    print(\"Cats meows to express needs\")\n",
        "\n",
        "d=dog()\n",
        "d.sound()\n",
        "d.bark()\n",
        "print()\n",
        "\n",
        "c=cat()\n",
        "c.sound()\n",
        "c.meow()"
      ],
      "metadata": {
        "colab": {
          "base_uri": "https://localhost:8080/"
        },
        "id": "IAo6b5e-0PVW",
        "outputId": "a97ec4a2-399c-4ac8-b480-17920804340b"
      },
      "execution_count": null,
      "outputs": [
        {
          "output_type": "stream",
          "name": "stdout",
          "text": [
            "animal sounds...\n",
            "Dogs use bark nto alert\n",
            "\n",
            "animal sounds...\n",
            "Cats meows to express needs\n"
          ]
        }
      ]
    },
    {
      "cell_type": "code",
      "source": [],
      "metadata": {
        "id": "efgyp40126s2"
      },
      "execution_count": null,
      "outputs": []
    },
    {
      "cell_type": "markdown",
      "source": [
        "## 4) Multiple Inheritance\n",
        "\n",
        "*   A single derived class inherits from multiple parent classes,combining functionalities from different sources.\n",
        "\n",
        "\n"
      ],
      "metadata": {
        "id": "tNK4aFZS2z22"
      }
    },
    {
      "cell_type": "code",
      "source": [
        "#example1\n",
        "class Calculation1:    #parent class1\n",
        "  def summation(self,a,b):\n",
        "    print(a+b)\n",
        "\n",
        "class Calculation2:    #parent class2\n",
        "  def multiplication(self,a,b):\n",
        "    print(a*b)\n",
        "\n",
        "\n",
        "class Derived(Calculation1,Calculation2):   #child class having 2 parent classes\n",
        "  def divide(self,a,b):\n",
        "    print(a/b)\n",
        "\n",
        "\n",
        "d=Derived()\n",
        "d.summation(10,20)\n",
        "d.multiplication(10,20)\n",
        "d.divide(10,20)\n",
        "\n",
        "\n"
      ],
      "metadata": {
        "colab": {
          "base_uri": "https://localhost:8080/"
        },
        "id": "CYNno9Lw3VNX",
        "outputId": "524b8a21-4082-4012-a7bf-78e0aebbe73f"
      },
      "execution_count": null,
      "outputs": [
        {
          "output_type": "stream",
          "name": "stdout",
          "text": [
            "30\n",
            "200\n",
            "0.5\n"
          ]
        }
      ]
    },
    {
      "cell_type": "markdown",
      "source": [
        "## 5) Hybrid Inheritance\n",
        "\n",
        "\n",
        "*  Hybrid inheritance is a combination of two or more types of inheritance(such as single,multiple,multilevel,or hierarchial inheritance)in a single program.\n",
        "\n",
        "\n"
      ],
      "metadata": {
        "id": "oCixvk5v5lhW"
      }
    },
    {
      "cell_type": "code",
      "source": [
        "#example1\n",
        "class person:    #parent class\n",
        "  def show(self):\n",
        "    print(\"Iam a person\")\n",
        "class teacher(person):  #child class\n",
        "  def teach(self):\n",
        "    print(\"I teach students\")\n",
        "\n",
        "class staff:  #another class\n",
        "  def manage(self):\n",
        "    print(\"I manage school activities\")\n",
        "\n",
        "#hybrid inheritance \"principal\" inherited from both classes teacher and staff(single+multiple)\n",
        "\n",
        "class principal(teacher,staff):\n",
        "  def oversea(self):\n",
        "    print(\"I oversea the entire school\")\n",
        "\n",
        "principal = principal()\n",
        "principal.show()\n",
        "principal.teach()\n",
        "principal.manage()\n",
        "principal.oversea()\n"
      ],
      "metadata": {
        "colab": {
          "base_uri": "https://localhost:8080/"
        },
        "id": "NEi1Tt6g6P8u",
        "outputId": "583ff295-189f-461f-e1c3-97d37de96e69"
      },
      "execution_count": null,
      "outputs": [
        {
          "output_type": "stream",
          "name": "stdout",
          "text": [
            "Iam a person\n",
            "I teach students\n",
            "I manage school activities\n",
            "I oversea the entire school\n"
          ]
        }
      ]
    },
    {
      "cell_type": "markdown",
      "source": [
        "##super() method\n",
        "\n",
        "\n",
        "*   Super() is a built-in function in python that allows a derived (child) class to access and invoke methods or constructors from its parent (base) class.\n",
        "*   It is commmonly used to avoidd code duplication and facilitate mthod resolution in multiple inheritance.\n",
        "\n"
      ],
      "metadata": {
        "id": "KVN4fFNsCV6B"
      }
    },
    {
      "cell_type": "markdown",
      "source": [
        "###syntax:\n",
        "super().method_name(arguments)"
      ],
      "metadata": {
        "id": "R5y1_8aTDMqg"
      }
    },
    {
      "cell_type": "code",
      "source": [
        "class Parent:\n",
        "  def greet1(self):\n",
        "    print(\"Hello from parent...\")\n",
        "\n",
        "class Child(Parent):\n",
        "  def greet2(self):\n",
        "    super().greet1()\n",
        "    print(\"Hello from child...\")\n",
        "\n",
        "child=Child()\n",
        "child.greet2()"
      ],
      "metadata": {
        "colab": {
          "base_uri": "https://localhost:8080/"
        },
        "id": "U7YhGk_RDVkw",
        "outputId": "ab48c226-b7f6-4d4f-ec37-e908a3cc6aeb"
      },
      "execution_count": null,
      "outputs": [
        {
          "output_type": "stream",
          "name": "stdout",
          "text": [
            "Hello from parent...\n",
            "Hello from child...\n"
          ]
        }
      ]
    },
    {
      "cell_type": "code",
      "source": [
        "class parent:\n",
        "  def __init__(self,name):\n",
        "    self.name=name\n",
        "    print(\"parent constructor is called...\")\n",
        "\n",
        "class child(parent):\n",
        "  def __init__(self,name,age):\n",
        "    super().__init__(name)\n",
        "    self.age=age\n",
        "    print(\"child constructor called....\")\n",
        "    print(self.name,self.age)\n",
        "\n",
        "c1=child(\"Prayan\",3)\n",
        "\n",
        "\n"
      ],
      "metadata": {
        "colab": {
          "base_uri": "https://localhost:8080/"
        },
        "id": "cM_aWdA8Fz_Y",
        "outputId": "f571f9f5-cf80-47fd-980a-8bc61bc414c2"
      },
      "execution_count": null,
      "outputs": [
        {
          "output_type": "stream",
          "name": "stdout",
          "text": [
            "parent constructor is called...\n",
            "child constructor called....\n",
            "Prayan 3\n"
          ]
        }
      ]
    },
    {
      "cell_type": "markdown",
      "source": [
        "#Basic Inheritance Questions\n"
      ],
      "metadata": {
        "id": "1SpP5wMu2ROO"
      }
    },
    {
      "cell_type": "code",
      "source": [
        "#Single Inheritance question\n",
        "\n",
        "class Person:\n",
        "  def __init__(self,name,age):\n",
        "    self.name=name\n",
        "    self.age=age\n",
        "\n",
        "  def display(self):\n",
        "    print(\"name of the person is\",self.name)\n",
        "    print(\"age of the person is\",self.age)\n",
        "\n",
        "class Student(Person):\n",
        "  def id(self,id):\n",
        "    self.id=id\n",
        "    print(\"the student id is\",self.id)\n",
        "\n",
        "\n",
        "s1=Student(\"siya\",20)\n",
        "s1.id(10)\n",
        "s1.display()"
      ],
      "metadata": {
        "colab": {
          "base_uri": "https://localhost:8080/"
        },
        "id": "0cYM4B532gJG",
        "outputId": "464307ca-d1f6-45c9-e4ab-02946ed764d1"
      },
      "execution_count": null,
      "outputs": [
        {
          "output_type": "stream",
          "name": "stdout",
          "text": [
            "the student id is 10\n",
            "name of the person is siya\n",
            "age of the person is 20\n"
          ]
        }
      ]
    },
    {
      "cell_type": "code",
      "source": [
        "#Constructor in inheritance\n",
        "\n",
        "class Animal:\n",
        "  def __init__(self):\n",
        "    print(\"Animal created\")\n",
        "\n",
        "class Dog(Animal):\n",
        "  def show(self):\n",
        "    print(\"Dog is created\")\n",
        "\n",
        "d1=Dog()\n",
        "d1.show()"
      ],
      "metadata": {
        "colab": {
          "base_uri": "https://localhost:8080/"
        },
        "id": "ucoYeSDu4rPP",
        "outputId": "108bcf79-da8c-4c77-c3e4-f98b345ddeb4"
      },
      "execution_count": null,
      "outputs": [
        {
          "output_type": "stream",
          "name": "stdout",
          "text": [
            "Animal created\n",
            "Dog is created\n"
          ]
        }
      ]
    },
    {
      "cell_type": "code",
      "source": [
        "#calling parent class method-Create a base class Vehicle with a method start().\n",
        "#Inherit it in a class Car and override start()\n",
        "\n",
        "class Vehicle:\n",
        "  def start(self):\n",
        "    print(\"the vehicle is started\")\n",
        "\n",
        "class Car(Vehicle):\n",
        "  def start(self):\n",
        "    print(\"the car is starting\")\n",
        "\n",
        "\n",
        "car=Car()\n",
        "car.start()"
      ],
      "metadata": {
        "colab": {
          "base_uri": "https://localhost:8080/"
        },
        "id": "rL_Bm4dI6Sq_",
        "outputId": "c3b9a983-06b7-4393-a3a4-068d9ced150d"
      },
      "execution_count": null,
      "outputs": [
        {
          "output_type": "stream",
          "name": "stdout",
          "text": [
            "the car is starting\n"
          ]
        }
      ]
    },
    {
      "cell_type": "code",
      "source": [
        "#Multilevel Inheritance\n",
        "\n",
        "class Animal:\n",
        "    def show(self):\n",
        "      print(\"Its class name:Animal\")\n",
        "\n",
        "class Mammal(Animal):\n",
        "    def show1(self):\n",
        "       print(\"Its class name:Mammal\")\n",
        "\n",
        "class Dog(Mammal):\n",
        "    def show2(self):\n",
        "       print(\"Its class name:Dog\")\n",
        "\n",
        "dog=Dog()\n",
        "dog.show()\n",
        "dog.show1()\n",
        "dog.show2()\n",
        "\n",
        "\n",
        "\n"
      ],
      "metadata": {
        "colab": {
          "base_uri": "https://localhost:8080/"
        },
        "id": "IyTv4vw17U1H",
        "outputId": "9507518e-1bf8-4015-a160-9e57f98412ac"
      },
      "execution_count": null,
      "outputs": [
        {
          "output_type": "stream",
          "name": "stdout",
          "text": [
            "Its class name:Animal\n",
            "Its class name:Mammal\n",
            "Its class name:Dog\n"
          ]
        }
      ]
    },
    {
      "cell_type": "code",
      "source": [
        "#Hierarchical Inheritance\n",
        "#Create a class Shape. Inherit Circle and Rectangle from it.\n",
        "#Each subclass should implement its own method to calculate area.\n",
        "\n",
        "class Shape:\n",
        "  def show(self):\n",
        "    print(\"Different shapes\")\n",
        "\n",
        "class Circle(Shape):\n",
        "  def Area_circle(self,radius):\n",
        "    self.radius=radius\n",
        "    self.area=2.17*radius*radius\n",
        "    print(\"Area of circle is:\",self.area)\n",
        "\n",
        "class Rectangle(Shape):\n",
        "  def Area_Rect(self,length,breadth):\n",
        "    self.length=length\n",
        "    self.breadth=breadth\n",
        "    self.area=length*breadth\n",
        "    print(\"Area of rectangle is:\",self.area)\n",
        "\n",
        "\n",
        "c1=Circle()\n",
        "c1.show()\n",
        "c1.Area_circle(3)\n",
        "print()\n",
        "r1=Rectangle()\n",
        "r1.show()\n",
        "r1.Area_Rect(6,5)"
      ],
      "metadata": {
        "colab": {
          "base_uri": "https://localhost:8080/"
        },
        "id": "pJBarlBC9Udn",
        "outputId": "bff346a5-a78d-4ed8-f3ac-948211fe33db"
      },
      "execution_count": null,
      "outputs": [
        {
          "output_type": "stream",
          "name": "stdout",
          "text": [
            "Different shapes\n",
            "Area of circle is: 19.53\n",
            "\n",
            "Different shapes\n",
            "Area of rectangle is: 30\n"
          ]
        }
      ]
    },
    {
      "cell_type": "code",
      "source": [
        "\n",
        "#Create a class Employee with attributes name, emp_id, and department.\n",
        "#Create a class Manager that inherits from Employee and adds team_size.\n",
        "#Write a method to display all attributes of a manager.\n",
        "\n",
        "class Employee:\n",
        "  def __init__(self,name,emp_id,department):\n",
        "    self.name=name\n",
        "    self.emp_id=emp_id\n",
        "    self.department=department\n",
        "\n",
        "class Manager(Employee):\n",
        "  def __init__(self,name,emp_id,department,team_size):\n",
        "    super().__init__(name,emp_id,department)\n",
        "    self.team_size=team_size\n",
        "    print(\"Details of manager\")\n",
        "    print(f\"Name of employee:{name}\\nemp_id:{emp_id}\\ndepartment:{department}\\nteam_size:{team_size}\")\n",
        "\n",
        "m1=Manager(\"Toms\",121,\"IT\",25)\n",
        "\n"
      ],
      "metadata": {
        "colab": {
          "base_uri": "https://localhost:8080/"
        },
        "id": "BkDR3UxV_G2Y",
        "outputId": "89c1f9a3-8738-40e1-8e67-55f85f364a25"
      },
      "execution_count": null,
      "outputs": [
        {
          "output_type": "stream",
          "name": "stdout",
          "text": [
            "Details of manager\n",
            "Name of employee:Toms\n",
            "emp_id:121\n",
            "department:IT\n",
            "team_size:25\n"
          ]
        }
      ]
    },
    {
      "cell_type": "code",
      "source": [
        "#Same example  without usin init() in base class\n",
        "\n",
        "class Employee:\n",
        "  def display(self,name,emp_id,department):\n",
        "    self.name=name\n",
        "    self.emp_id=emp_id\n",
        "    self.department=department\n",
        "\n",
        "class Manager(Employee):\n",
        "  # Add name, emp_id, and department as arguments to the Manager's __init__\n",
        "  def __init__(self, name, emp_id, department, team_size):\n",
        "    # Pass name, emp_id, and department to the parent class's __init__\n",
        "    super().display(name,emp_id,department)\n",
        "    self.team_size=team_size\n",
        "    print(\"Details of manager\")\n",
        "    # Access the attributes using self.\n",
        "    print(\"Name:\",self.name,\"\\n\",\"emp_id:\",self.emp_id,\"\\n\",\"department:\",self.department,\"\\n\",\"team_size:\",self.team_size)\n",
        "\n",
        "# When creating a Manager object, provide all the required arguments\n",
        "m1=Manager(\"Toms\",121,\"IT\",25)\n"
      ],
      "metadata": {
        "colab": {
          "base_uri": "https://localhost:8080/"
        },
        "id": "-tu4DsU9KuPJ",
        "outputId": "9ca6a908-fbd9-4b43-ac78-f5a6cfb1d5ef"
      },
      "execution_count": null,
      "outputs": [
        {
          "output_type": "stream",
          "name": "stdout",
          "text": [
            "Details of manager\n",
            "Name: Toms \n",
            " emp_id: 121 \n",
            " department: IT \n",
            " team_size: 25\n"
          ]
        }
      ]
    },
    {
      "cell_type": "markdown",
      "source": [
        "#Polymorphism\n",
        "Polymorphism comes from the Greek words \"poly\"(many) and \"morphds\"(forms),meaning one task can be performed in deifferent ways.In object-oriented programming(oop),polymorphism allows the same method name to behave differently based on the object that calls it."
      ],
      "metadata": {
        "id": "_1jZ1IbASGNS"
      }
    },
    {
      "cell_type": "markdown",
      "source": [
        "##Types of Polymorphism\n",
        "\n",
        "1. Method Overriding (Runtime Polymorphism)\n",
        "\n",
        "  - A child class provides a specific implemntation of a method that is already defined in the parent class.\n",
        "\n",
        "2. Method Overloading (Compile-time Polymorphism - Not in python):\n",
        " - Multiple methods with the same name but different parameters. (python does not support method overloading directly like other languages such as java or C++)\n",
        "\n",
        "\n",
        "\n",
        "\n",
        "\n"
      ],
      "metadata": {
        "id": "8H6XE92BTbJa"
      }
    },
    {
      "cell_type": "markdown",
      "source": [
        "##1.Method overriding(Run time Polymorphism)\n",
        "\n",
        "*   A child class provides a specific implemntation of a method that is already defined in the parent class\n",
        "\n"
      ],
      "metadata": {
        "id": "PFSUbbm6VFQb"
      }
    },
    {
      "cell_type": "code",
      "source": [
        "class A:\n",
        "  def show(self):\n",
        "    print(\"class A\")\n",
        "\n",
        "class B(A):\n",
        "  def show(self):\n",
        "    print(\"class B\")\n",
        "\n",
        "class C(B):\n",
        "  def show(self):\n",
        "    print(\"class C\")\n",
        "\n",
        "obj=C()\n",
        "obj.show()  #method overriding"
      ],
      "metadata": {
        "colab": {
          "base_uri": "https://localhost:8080/"
        },
        "id": "BHAyFG7vVs_T",
        "outputId": "1889081b-052a-482f-cf1e-70876a0c89a2"
      },
      "execution_count": null,
      "outputs": [
        {
          "output_type": "stream",
          "name": "stdout",
          "text": [
            "class C\n"
          ]
        }
      ]
    },
    {
      "cell_type": "code",
      "source": [
        "class A:\n",
        "  def show(self):\n",
        "    print(\"class A\")\n",
        "\n",
        "class B(A):\n",
        "  def show(self):\n",
        "    super().show()\n",
        "    print(\"class B\")\n",
        "\n",
        "class C(B):\n",
        "  def show(self):\n",
        "    super().show()\n",
        "    print(\"class C\")\n",
        "\n",
        "obj=C()\n",
        "obj.show()"
      ],
      "metadata": {
        "colab": {
          "base_uri": "https://localhost:8080/"
        },
        "id": "84ccGunuWbfp",
        "outputId": "f7c437b4-5d58-43d6-c040-45920363ccb5"
      },
      "execution_count": null,
      "outputs": [
        {
          "output_type": "stream",
          "name": "stdout",
          "text": [
            "class A\n",
            "class B\n",
            "class C\n"
          ]
        }
      ]
    },
    {
      "cell_type": "markdown",
      "source": [
        "##Method Overloading\n",
        "Polymorphism in python allows different classes to have methods with the same name but different functionality. **Method overloading** means having multiple methods with the same name but different numbers or types of parameters.\n",
        "\n",
        "\n",
        "- **Default arguments** - Providing default values to parameters.\n",
        "- **Variable - length arguments ( * args, ** kwargs )** - Allowing a method to acccept different numbersof arguments\n",
        "\n",
        "\n"
      ],
      "metadata": {
        "id": "wKWDk0WHaA5b"
      }
    },
    {
      "cell_type": "code",
      "source": [
        "#Default arguments\n",
        "\n",
        "class Calculator:\n",
        "  def add(self,a=0,b=0,c=0):\n",
        "    print(a+b+c)\n",
        "\n",
        "cal=Calculator()\n",
        "#call th method with different numbers of arguments.#\n",
        "cal.add()\n",
        "cal.add(10)\n",
        "cal.add(10,20)\n",
        "cal.add(10,20,3)\n"
      ],
      "metadata": {
        "colab": {
          "base_uri": "https://localhost:8080/"
        },
        "id": "w5HSeI9fWok4",
        "outputId": "69f1d567-709c-4f91-9286-889cb5d5191b"
      },
      "execution_count": null,
      "outputs": [
        {
          "output_type": "stream",
          "name": "stdout",
          "text": [
            "0\n",
            "10\n",
            "30\n",
            "33\n"
          ]
        }
      ]
    },
    {
      "cell_type": "code",
      "source": [
        "#postional argument(*args)\n",
        "class mathoperations:\n",
        "  def add(self,*numbers):\n",
        "    total=sum(numbers)\n",
        "    print(f\"sum: {total}\")\n",
        "\n",
        "math = mathoperations()\n",
        "\n",
        "#call the method with n number of arguments using(*args)\n",
        "math.add(10,20)\n",
        "math.add(10,20,30)\n",
        "math.add(10,20,30,40)\n"
      ],
      "metadata": {
        "colab": {
          "base_uri": "https://localhost:8080/"
        },
        "id": "13IQ3BZWa0mZ",
        "outputId": "f4bfc275-d6d0-4a38-9c7c-96c507e57e23"
      },
      "execution_count": null,
      "outputs": [
        {
          "output_type": "stream",
          "name": "stdout",
          "text": [
            "sum: 30\n",
            "sum: 60\n",
            "sum: 100\n"
          ]
        }
      ]
    },
    {
      "cell_type": "code",
      "source": [
        "#keyword arguments(**keyword)\n",
        "\n",
        "class Greeting:\n",
        "  def say_hello(self,**kwargs):\n",
        "    print(f\"Hello {kwargs['name']}!\")\n",
        "    print(f\"you are {kwargs['age']} years old!\")\n",
        "    print(f\"you are from {kwargs['city']}!\")\n",
        "\n",
        "g=Greeting()\n",
        "g.say_hello(name=\"Miya\",age=20,city=\"Thrissur\")"
      ],
      "metadata": {
        "colab": {
          "base_uri": "https://localhost:8080/"
        },
        "id": "VKFnOm49c-hJ",
        "outputId": "17fb24ea-3755-482f-95c8-d595dbb8feef"
      },
      "execution_count": null,
      "outputs": [
        {
          "output_type": "stream",
          "name": "stdout",
          "text": [
            "Hello Miya!\n",
            "you are 20 years old!\n",
            "you are from Thrissur!\n"
          ]
        }
      ]
    },
    {
      "cell_type": "markdown",
      "source": [
        "# **Encapsulation**\n",
        "\n",
        "**Encapsulation** is one of the fundamental concepts in OOP that refers to binding data ( variables ) and methods ( fucntions ) that operate on the data into a single unit, and restriciting direct access to some of the object's components\n",
        "\n",
        "- In simpler terms, Encapsulation is about protecting data by controlling access to it."
      ],
      "metadata": {
        "id": "qsR5weUzhMZc"
      }
    },
    {
      "cell_type": "markdown",
      "source": [
        "**Key Features of Encapsulation:**\n",
        " - 1) **Data Hiding :** Internal detailsof an object aare hidden from the outside world\n",
        " - 2) **Access Controll :** Provides controlled access using public, private, and protected access specifiers.\n",
        " - 3) **Improved Security :** Prevents unathorized access and accidental modification of data"
      ],
      "metadata": {
        "id": "Nxv-KDI6hVM7"
      }
    },
    {
      "cell_type": "markdown",
      "source": [
        "**Encapsulation Access Specifiers in Python :**\n",
        "- **Public Members :** Accessible from anywhere.\n",
        "- **Protected Members ( _variable ):** Intended for internal use but can be accessed with a warning\n",
        "- **Private Members ( __variables ) :** Not accessible directly outside the class"
      ],
      "metadata": {
        "id": "vsuvDzGkhcAT"
      }
    },
    {
      "cell_type": "code",
      "source": [
        "#Example\n",
        "class company:\n",
        "  def __init__(self,company_name,company_id):\n",
        "    self.__company_name = company_name\n",
        "    self._company_id = company_id\n",
        "c1=company(\"TCS\",91)\n",
        "print(c1._company_id) #we can print one underscore variable\n",
        "#print(c1.__company_name)   #we can't print two underscore variable.ie,private variable"
      ],
      "metadata": {
        "colab": {
          "base_uri": "https://localhost:8080/"
        },
        "id": "UkuEQSG_eOJC",
        "outputId": "612f1cf7-0c16-4755-9166-ada351168fec"
      },
      "execution_count": null,
      "outputs": [
        {
          "output_type": "stream",
          "name": "stdout",
          "text": [
            "91\n"
          ]
        }
      ]
    },
    {
      "cell_type": "code",
      "source": [
        "#double underscored variable we can't acces outside of class, but we can access on the class\n",
        "class company:\n",
        "  def __init__(self,company_name,company_id):\n",
        "    self.__company_name = company_name\n",
        "    self._company_id = company_id\n",
        "\n",
        "  def get_company_name(self):\n",
        "    print(self.__company_name)\n",
        "c1=company(\"TCS\",91)\n",
        "print(c1._company_id)\n",
        "c1.get_company_name()"
      ],
      "metadata": {
        "colab": {
          "base_uri": "https://localhost:8080/"
        },
        "id": "NI-IhWjpijmy",
        "outputId": "a9efbc93-b77b-41f2-9b48-de161ff77dd8"
      },
      "execution_count": null,
      "outputs": [
        {
          "output_type": "stream",
          "name": "stdout",
          "text": [
            "91\n",
            "TCS\n"
          ]
        }
      ]
    },
    {
      "cell_type": "code",
      "source": [
        "#example2\n",
        "class bankaccount:\n",
        "  def __init__(self,account_number,balance):\n",
        "    self.__account_number=account_number\n",
        "    self.__balance=balance\n",
        "  def deposit(self,amount):\n",
        "    if amount>0:\n",
        "      self.__balance += amount\n",
        "      print(f\"Deposited {amount}.\\nNew balance:{self.__balance}\")\n",
        "    else:\n",
        "      print(\"Invalid deposit amount.\")\n",
        "\n",
        "  def get_balance(self):\n",
        "    return self.__balance\n",
        "\n",
        "account=bankaccount(\"28873110\",1000)\n",
        "account.deposit(500)\n",
        "print(f\"Current balance:{account.get_balance()}\")"
      ],
      "metadata": {
        "colab": {
          "base_uri": "https://localhost:8080/"
        },
        "id": "JTb3lPiolZwi",
        "outputId": "f1a73514-929e-4c60-9173-9a6c129301ec"
      },
      "execution_count": null,
      "outputs": [
        {
          "output_type": "stream",
          "name": "stdout",
          "text": [
            "Deposited 500.\n",
            "New balance:1500\n",
            "Current balance:1500\n"
          ]
        }
      ]
    },
    {
      "cell_type": "code",
      "source": [],
      "metadata": {
        "id": "Yv5L2reDN-7q"
      },
      "execution_count": null,
      "outputs": []
    },
    {
      "cell_type": "markdown",
      "source": [
        "#Abstraction\n",
        "\n",
        "\n",
        "*   Abstraction is a concept in **Object-Oriented Programming (oop)** that focuses on **hiding the implementation details** and showing only the necessary features of an object.\n",
        "*   It allows users to focus on **what an object do's** rather than how it does it.\n",
        "\n",
        "\n",
        "* **Example :**\n",
        "  - When you use a smartphone you only see the interface ( buttons, icons ) but you don't need to know how the internal circuits work\n",
        "\n",
        "\n",
        "\n",
        "\n",
        "*  **Why is Abstraction important?**\n",
        "  - Simplifies complex systems by focusing only on essential aspects.\n",
        "  - Reduces code complexity and increases reusability.\n",
        "  - Enhances security by restricting direct acces to implementation details\n",
        "\n",
        "\n",
        "  **Abstraction in python Using Abstract Classes**\n",
        "   - Python provides **abstraction** using **abstract classes** and  **abstract methods** which are defined in the abc module\n",
        "  - **Abstract class :** A class that contains one or more abstract methods, it cannot be instantiated directly.\n",
        "  - **Abstrcat method :** A method that is declared but contains no implementation ( must be implemented by child classses. )\n",
        "\n",
        "\n",
        "  **from abc import ABC,abstract method**\n",
        "\n",
        "\n",
        "\n",
        "\n"
      ],
      "metadata": {
        "id": "_p4DU-2dMo_S"
      }
    },
    {
      "cell_type": "code",
      "source": [
        "#Example 1\n",
        "\n",
        "from abc import ABC,abstractmethod\n",
        "\n",
        "class Vehicle(ABC):   #abstract class\n",
        "\n",
        "  @abstractmethod\n",
        "  def start_engine(self):\n",
        "    pass   #abstract method with no implementation\n",
        "\n",
        "  @abstractmethod\n",
        "  def stop_engine(self):\n",
        "    pass  #abstract method with no implementation\n",
        "\n",
        "v=Vehicle()  #An abstract class can't instantiate directly\n",
        "\n",
        "\n",
        "\n",
        "\n"
      ],
      "metadata": {
        "id": "fxTw9OhRPi8b",
        "colab": {
          "base_uri": "https://localhost:8080/",
          "height": 211
        },
        "outputId": "b2557bf0-02bc-4ca4-8628-0f1f7b247ad3"
      },
      "execution_count": null,
      "outputs": [
        {
          "output_type": "error",
          "ename": "TypeError",
          "evalue": "Can't instantiate abstract class Vehicle with abstract methods start_engine, stop_engine",
          "traceback": [
            "\u001b[0;31m---------------------------------------------------------------------------\u001b[0m",
            "\u001b[0;31mTypeError\u001b[0m                                 Traceback (most recent call last)",
            "\u001b[0;32m<ipython-input-3-a9644e7e5060>\u001b[0m in \u001b[0;36m<cell line: 0>\u001b[0;34m()\u001b[0m\n\u001b[1;32m     11\u001b[0m     \u001b[0;32mpass\u001b[0m  \u001b[0;31m#abstract method with no implementation\u001b[0m\u001b[0;34m\u001b[0m\u001b[0;34m\u001b[0m\u001b[0m\n\u001b[1;32m     12\u001b[0m \u001b[0;34m\u001b[0m\u001b[0m\n\u001b[0;32m---> 13\u001b[0;31m \u001b[0mv\u001b[0m\u001b[0;34m=\u001b[0m\u001b[0mVehicle\u001b[0m\u001b[0;34m(\u001b[0m\u001b[0;34m)\u001b[0m\u001b[0;34m\u001b[0m\u001b[0;34m\u001b[0m\u001b[0m\n\u001b[0m\u001b[1;32m     14\u001b[0m \u001b[0;34m\u001b[0m\u001b[0m\n\u001b[1;32m     15\u001b[0m \u001b[0;34m\u001b[0m\u001b[0m\n",
            "\u001b[0;31mTypeError\u001b[0m: Can't instantiate abstract class Vehicle with abstract methods start_engine, stop_engine"
          ]
        }
      ]
    },
    {
      "cell_type": "code",
      "source": [
        "from abc import ABC,abstractmethod\n",
        "\n",
        "class Vehicle(ABC):   #abstract class\n",
        "\n",
        "  @abstractmethod\n",
        "  def start_engine(self):\n",
        "    pass   #abstract method with no implementation\n",
        "\n",
        "  @abstractmethod\n",
        "  def stop_engine(self):\n",
        "    pass  #abstract method with no implementation\n",
        "\n",
        "#making child class for abstract class instantiating\n",
        "class Car(Vehicle):  #child class of vehicle\n",
        "\n",
        "  def start_engine(self): #also we need to create same method in child class\n",
        "    print(\"Car engine started\")\n",
        "\n",
        "  def stop_engine(self):    #also we need to create same method in child class\n",
        "    print(\"Car engine stopped\")\n",
        "\n",
        "car=Car()\n",
        "car.start_engine()\n",
        "car.stop_engine()"
      ],
      "metadata": {
        "colab": {
          "base_uri": "https://localhost:8080/"
        },
        "id": "GeJFFvcspFPP",
        "outputId": "598a4230-55d2-4c88-a8f5-3e158a392b33"
      },
      "execution_count": null,
      "outputs": [
        {
          "output_type": "stream",
          "name": "stdout",
          "text": [
            "Car engine started\n",
            "Car engine stopped\n"
          ]
        }
      ]
    },
    {
      "cell_type": "markdown",
      "source": [
        " - `If we want to make object from abstract class we can't directly make object from the abstract class.`\n",
        "\n",
        " - `So we need to make child class for abstract class object making`\n",
        " - `And also need to make same method ( function ) on child class also`"
      ],
      "metadata": {
        "id": "cShHNAuFvIfO"
      }
    },
    {
      "cell_type": "code",
      "source": [
        "#example3\n",
        "from abc import ABC,abstractmethod\n",
        "class Appliances(ABC):\n",
        "\n",
        "  @abstractmethod\n",
        "  def turn_on(self):\n",
        "    pass\n",
        "  @abstractmethod\n",
        "  def turn_off(self):\n",
        "    pass\n",
        "\n",
        "class Washing_Machine(Appliances):\n",
        "  def turn_on(self):\n",
        "    print(\"Washing machine is on\")\n",
        "\n",
        "  def turn_off(self):\n",
        "    print(\"Washing machine is off\")\n",
        "\n",
        "w1=Washing_Machine()\n",
        "w1.turn_on()\n",
        "w1.turn_off()"
      ],
      "metadata": {
        "colab": {
          "base_uri": "https://localhost:8080/"
        },
        "id": "gPkQdX23qeTn",
        "outputId": "cfef55f4-68bc-462f-ad5d-ff5ab73c5ce2"
      },
      "execution_count": null,
      "outputs": [
        {
          "output_type": "stream",
          "name": "stdout",
          "text": [
            "Washing machine is on\n",
            "Washing machine is off\n"
          ]
        }
      ]
    },
    {
      "cell_type": "code",
      "source": [
        "#example4\n",
        "from abc import ABC,abstractmethod\n",
        "\n",
        "class Shape(ABC):\n",
        "  @abstractmethod\n",
        "  def calculate_area(self):\n",
        "    pass\n",
        "\n",
        "\n",
        "class circle(Shape):\n",
        "  def __init__(self,radius):\n",
        "    self.radius=radius\n",
        "\n",
        "  def calculate_area(self):\n",
        "    self.area=3.14*self.radius*self.radius\n",
        "    print(\"Area of circle is:\",self.area)\n",
        "\n",
        "class Rectangle(Shape):\n",
        "  def __init__(self,length,breadth):\n",
        "    self.length=length\n",
        "    self.breadth=breadth\n",
        "\n",
        "\n",
        "  def calculate_area(self):\n",
        "    self.area=self.length*self.breadth\n",
        "    print(\"Area of rectangle is:\",self.area)\n",
        "\n",
        "c1=circle(5)\n",
        "c1.calculate_area()\n",
        "print()\n",
        "r1=Rectangle(6,5)\n",
        "r1.calculate_area()\n"
      ],
      "metadata": {
        "id": "ORtyvZDIulnm",
        "colab": {
          "base_uri": "https://localhost:8080/"
        },
        "outputId": "b492e7c4-6ff5-44b5-9642-1625dd25bdc9"
      },
      "execution_count": null,
      "outputs": [
        {
          "output_type": "stream",
          "name": "stdout",
          "text": [
            "Area of circle is: 78.5\n",
            "\n",
            "Area of rectangle is: 30\n"
          ]
        }
      ]
    },
    {
      "cell_type": "markdown",
      "source": [
        "#Practice Questions-Polymorphism,encapsulation,Abstraction\n"
      ],
      "metadata": {
        "id": "Uq84KjUk1e8M"
      }
    },
    {
      "cell_type": "code",
      "source": [
        "#Write a Python program that uses polymorphism with two different classes having the same method name.\n",
        "\n",
        "class Animal:\n",
        "\n",
        "  def sounds(self):\n",
        "    print(\"Animal Sounds\")\n",
        "\n",
        "class Dog(Animal):\n",
        "  def sounds(self):\n",
        "    print(\"Dog barks\")\n",
        "\n",
        "a1=Animal()\n",
        "a1.sounds()\n",
        "d1=Dog()\n",
        "d1.sounds()"
      ],
      "metadata": {
        "colab": {
          "base_uri": "https://localhost:8080/"
        },
        "id": "vGtUNn44z5md",
        "outputId": "810c5105-ecd3-4c74-d892-e18003941e66"
      },
      "execution_count": null,
      "outputs": [
        {
          "output_type": "stream",
          "name": "stdout",
          "text": [
            "Animal Sounds\n",
            "Dog barks\n"
          ]
        }
      ]
    },
    {
      "cell_type": "code",
      "source": [
        "#Use polymorphism with a base class and multiple derived classes, overriding a method.\n",
        "\n",
        "class shape:\n",
        "  def perimeter(self):\n",
        "    print(\"The perimeter of different shapes\")\n",
        "\n",
        "class Rectangle(shape):\n",
        "  def __init__(self,length,breadth):\n",
        "    self.length=length\n",
        "    self.breadth=breadth\n",
        "\n",
        "  def perimeter(self):\n",
        "    self.perimeter=2*(self.length+self.breadth)\n",
        "    print(\"Perimeter of rectangle is:\",self.perimeter)\n",
        "\n",
        "class circle(shape):\n",
        "  def __init__(self,radius):\n",
        "    self.radius=radius\n",
        "\n",
        "  def perimeter(self):\n",
        "    self.perimeter=2*3.14*self.radius\n",
        "    print(\"Perimeter of circle is:\",self.perimeter)\n",
        "\n",
        "r1=Rectangle(4,5)\n",
        "r1.perimeter()\n",
        "print()\n",
        "c1=circle(5)\n",
        "c1.perimeter()\n",
        "\n",
        "\n"
      ],
      "metadata": {
        "colab": {
          "base_uri": "https://localhost:8080/"
        },
        "id": "4YVYl9kD2LX8",
        "outputId": "79906a4c-bb62-4f47-e652-074d466dd86f"
      },
      "execution_count": null,
      "outputs": [
        {
          "output_type": "stream",
          "name": "stdout",
          "text": [
            "Perimeter of rectangle is: 18\n",
            "\n",
            "Perimeter of circle is: 31.400000000000002\n"
          ]
        }
      ]
    },
    {
      "cell_type": "code",
      "source": [
        " #Demonstrate encapsulation by creating a class with private attributes and public getter/setter methods.\n",
        "\n",
        "class Student:\n",
        "\n",
        "  def set_details(self,name,age):\n",
        "    self.__name=name\n",
        "    self.__age=age\n",
        "\n",
        "  def get_details(self):\n",
        "    print(\"Name:\",self.__name)\n",
        "    print(\"Age:\",self.__age)\n",
        "\n",
        "s1=Student()\n",
        "s1.set_details(\"Miya\",20)\n",
        "s1.get_details()"
      ],
      "metadata": {
        "colab": {
          "base_uri": "https://localhost:8080/"
        },
        "id": "5WqyC7Yu39lD",
        "outputId": "6b61dd44-15b5-4791-b23e-5cd75ecb33eb"
      },
      "execution_count": null,
      "outputs": [
        {
          "output_type": "stream",
          "name": "stdout",
          "text": [
            "Name: Miya\n",
            "Age: 20\n"
          ]
        }
      ]
    },
    {
      "cell_type": "code",
      "source": [
        "#Create a BankAccount class that uses encapsulation to restrict direct access to balance and supports deposit/withdraw operations with validation.\n",
        "\n",
        "class BankAccount:\n",
        "  def __init__(self,account_number,balance):\n",
        "    self.__account_number=account_number\n",
        "    self.__balance=balance\n",
        "\n",
        "  def deposit(self,amount):\n",
        "    if amount>0:\n",
        "      self.__balance += amount\n",
        "      print(f\"Deposited {amount}.\\nNew balance:{self.__balance}\")\n",
        "    else:\n",
        "      print(\"Invalid deposit amount.\")\n",
        "\n",
        "  def withdraw(self,amount):\n",
        "    if amount>0 and amount<=self.__balance:\n",
        "      self.__balance -= amount\n",
        "      print(f\"Withdrew {amount}.\\nNew balance:{self.__balance}\")\n",
        "    else:\n",
        "      print(\"Invalid withdrawal amount or insufficient balance  \")\n",
        "\n",
        "\n",
        "  def get_balnce(self):\n",
        "    print(\"Avilable balance is\",self.__balance)\n",
        "\n",
        "account=BankAccount(\"28873110\",1000)\n",
        "account.deposit(500)\n",
        "account.withdraw(200)"
      ],
      "metadata": {
        "colab": {
          "base_uri": "https://localhost:8080/"
        },
        "id": "DOcheS266hsq",
        "outputId": "51206e69-f149-4caf-87ef-8943f2ccae1e"
      },
      "execution_count": null,
      "outputs": [
        {
          "output_type": "stream",
          "name": "stdout",
          "text": [
            "Deposited 500.\n",
            "New balance:1500\n",
            "Withdrew 200.\n",
            "New balance:1300\n"
          ]
        }
      ]
    },
    {
      "cell_type": "code",
      "source": [
        "#Create an abstract class Employee with an abstract method calculate_salary()\n",
        "#and implement it in two different roles.\n",
        "\n",
        "from abc import ABC,abstractmethod\n",
        "\n",
        "class Employee(ABC):\n",
        "  @abstractmethod\n",
        "  def calculate_salary(self):\n",
        "    pass\n",
        "\n",
        "class Manager(Employee):\n",
        "  def __init__(self,name,salary):\n",
        "    self.name=name\n",
        "    self.salary=salary\n",
        "\n",
        "  def calculate_salary(self):\n",
        "    self.salary=self.salary*30\n",
        "    print(f\"Manager {self.name} salary is {self.salary}\")\n",
        "\n",
        "class SalesOfficer(Employee):\n",
        "  def __init__(self,name,salary):\n",
        "    self.name=name\n",
        "    self.salary=salary\n",
        "\n",
        "  def calculate_salary(self):\n",
        "    self.salary=self.salary*30\n",
        "    print(f\"SalesOfficer {self.name} salary is {self.salary}\")\n",
        "\n",
        "\n",
        "m1=Manager(\"Niya\",2000)\n",
        "s1=SalesOfficer(\"John\",1000)\n",
        "m1.calculate_salary()\n",
        "s1.calculate_salary()"
      ],
      "metadata": {
        "colab": {
          "base_uri": "https://localhost:8080/"
        },
        "id": "GFtZmq139YbC",
        "outputId": "d883e9b2-9419-48ca-9ff7-651a61254dd6"
      },
      "execution_count": null,
      "outputs": [
        {
          "output_type": "stream",
          "name": "stdout",
          "text": [
            "Manager Niya salary is 60000\n",
            "SalesOfficer John salary is 30000\n"
          ]
        }
      ]
    },
    {
      "cell_type": "code",
      "source": [
        "#Create a Student class that holds a student's name and private marks for multiple subjects.\n",
        "#Provide methods to set and get marks, compute average, and determine grade based on average.\n",
        "\n",
        "class Student:\n",
        "  def __init__(self,name,physics_mark,maths_mark,chemistry_mark):\n",
        "    self.name=name\n",
        "    self.__mark1=physics_mark\n",
        "    self.__mark2=maths_mark\n",
        "    self.__mark3=chemistry_mark\n",
        "\n",
        "  def get_marks(self):\n",
        "    print(f\"the name of the student is {self.name}\")\n",
        "    print(f\"Physics_mark:{self.__mark1}\\nMaths_Mark:{self.__mark2}\\nChemistry_Mark:{self.__mark3}\")\n",
        "\n",
        "  def get_average(self):\n",
        "    self.average=(self.__mark1+self.__mark2+self.__mark3)/3\n",
        "    print(f\"The average_mark of 3 subjects :{self.average}\")\n",
        "\n",
        "  def get_grade(self):\n",
        "    if self.average >= 90:\n",
        "      print(\"Grade A+\")\n",
        "    elif self.average >= 80:\n",
        "      print(\"Grade A\")\n",
        "    elif self.average >= 70:\n",
        "      print(\"Grade B+\")\n",
        "    elif self.average >= 60:\n",
        "      print(\"Grade B\")\n",
        "    elif self.average >= 50:\n",
        "      print(\"Grade c+\")\n",
        "    elif self.average >= 40:\n",
        "      print(\"Grade C\")\n",
        "    else:\n",
        "      print(\"failed\")\n",
        "\n",
        "\n",
        "\n",
        "\n",
        "\n",
        "\n",
        "\n",
        "\n",
        "s1=Student(\"Riya\",85,90,91)\n",
        "s1.get_marks()\n",
        "s1.get_average()\n",
        "s1.get_grade()\n"
      ],
      "metadata": {
        "colab": {
          "base_uri": "https://localhost:8080/"
        },
        "id": "_83lAbDe_5mZ",
        "outputId": "b4ce334e-c860-4116-d6aa-f878a5eab3d2"
      },
      "execution_count": null,
      "outputs": [
        {
          "output_type": "stream",
          "name": "stdout",
          "text": [
            "the name of the student is Riya\n",
            "Physics_mark:85\n",
            "Maths_Mark:90\n",
            "Chemistry_Mark:91\n",
            "The average_mark of 3 subjects :88.66666666666667\n",
            "Grade A\n"
          ]
        }
      ]
    },
    {
      "cell_type": "markdown",
      "source": [
        "#Class Methods\n",
        "\n",
        "Class methods can modify class-level variables or properties(variables shared among a instances).This allows chages to be made that affect the class as a whole,rather than an individual instance.\n",
        "\n",
        "\n",
        "\n",
        "**@classmethod**:This is to define a class method,it indicates that the method is bound to the class,not an instance.\n",
        "**First Parameter(cls)**:The first parameter of a class method is always a reference to the instance(typically names self).\n",
        "\n",
        "\n",
        "\n",
        "    class Myclass:\n",
        "      @classsmethod\n",
        "      def my_class_methods(cls,args):\n",
        "        # \"cls\" is a reference to the class itself\n",
        "        # This method can modify class state pass"
      ],
      "metadata": {
        "id": "bgBulHAktSxa"
      }
    },
    {
      "cell_type": "code",
      "source": [
        "#example\n",
        "\n",
        "class car:\n",
        "  #class variable\n",
        "  wheels = 4\n",
        "\n",
        "  def __init__(self,brand,model):\n",
        "    self.brand = brand\n",
        "    self.model = model\n",
        "\n",
        "  @classmethod\n",
        "  def change_wheels(cls,new_wheels):\n",
        "    cls.wheels = new_wheels\n",
        "    print(f\"The number of wheels has been updated to {cls.wheels}.\")\n",
        "\n",
        "\n",
        "car1=car(\"Toyota\",\"Etios\")  #create an instance of class\n",
        "car.change_wheels(6)\n",
        "\n",
        "print()\n",
        "\n",
        "#the class variable \"wheels\" is now changed for all instances.\n",
        "print(f\"car variable is updated to:{car1.wheels}\")"
      ],
      "metadata": {
        "id": "ULyIL6_fGuBo",
        "colab": {
          "base_uri": "https://localhost:8080/"
        },
        "outputId": "5229148b-ebe7-416d-e88e-a3b37f602dac"
      },
      "execution_count": null,
      "outputs": [
        {
          "output_type": "stream",
          "name": "stdout",
          "text": [
            "The number of wheels has been updated to 6.\n",
            "\n",
            "car variable is updated to:6\n"
          ]
        }
      ]
    },
    {
      "cell_type": "markdown",
      "source": [
        "#Practice Questions\n",
        "\n"
      ],
      "metadata": {
        "id": "DrOMz_QizzDQ"
      }
    },
    {
      "cell_type": "markdown",
      "source": [
        "1.Create an abstract class Animal with an abstract method make_sound(). Then, implement two subclasses, Dog and Cat, which override the make_sound() method to print the respective animal sounds. Instantiate both classes and call their make_sound() methods."
      ],
      "metadata": {
        "id": "9qCBqAhY0DTn"
      }
    },
    {
      "cell_type": "code",
      "source": [
        "from abc import ABC,abstractmethod\n",
        "\n",
        "class Animal(ABC):\n",
        "\n",
        "  @abstractmethod\n",
        "  def make_sound(self):\n",
        "    pass\n",
        "\n",
        "\n",
        "class Dog(Animal):\n",
        "\n",
        "  def make_sound(self):\n",
        "    print(f\"Dog is barking!!!!\")\n",
        "\n",
        "class Cat(Animal):\n",
        "\n",
        "  def make_sound(self):\n",
        "    print(f\"Cat is meowing!!!!\")\n",
        "\n",
        "\n",
        "d1=Dog()\n",
        "d1.make_sound()\n",
        "\n",
        "c1=Cat()\n",
        "c1.make_sound()\n",
        "\n",
        "\n"
      ],
      "metadata": {
        "colab": {
          "base_uri": "https://localhost:8080/"
        },
        "id": "Y-kUMx7ww5Vh",
        "outputId": "182ba60e-1cee-41b6-ffa1-6cae6c198788"
      },
      "execution_count": null,
      "outputs": [
        {
          "output_type": "stream",
          "name": "stdout",
          "text": [
            "Dog is barking!!!!\n",
            "Cat is meowing!!!!\n"
          ]
        }
      ]
    },
    {
      "cell_type": "markdown",
      "source": [
        "2.Create an abstract class Employee with an abstract method calculate_salary(). Implement two subclasses, FullTimeEmployee and PartTimeEmployee, which calculate salaries based on a fixed monthly salary and an hourly rate, respectively. Instantiate both classes and print their salaries."
      ],
      "metadata": {
        "id": "EWIq94Nk2EAe"
      }
    },
    {
      "cell_type": "code",
      "source": [
        "from abc import ABC,abstractmethod\n",
        "\n",
        "class Employee(ABC):\n",
        "  @abstractmethod\n",
        "  def calculate_salary(self):\n",
        "    pass\n",
        "\n",
        "class FullTimeEmployee(Employee):\n",
        "  def __init__(self,salary):\n",
        "    self.salary=salary\n",
        "\n",
        "  def calculate_salary(self):\n",
        "    print(f\"The salary is:{self.salary}\")\n",
        "\n",
        "class PartTimeEmployee(Employee):\n",
        "  def __init__(self,salary):\n",
        "    self.salary=salary\n",
        "\n",
        "  def calculate_salary(self):\n",
        "     print(f\"The salary is:{self.salary/2}\")\n",
        "\n",
        "\n",
        "s1=FullTimeEmployee(10000)\n",
        "s1. calculate_salary()\n",
        "s2=PartTimeEmployee(10000)\n",
        "s2. calculate_salary()\n"
      ],
      "metadata": {
        "colab": {
          "base_uri": "https://localhost:8080/"
        },
        "id": "eY5mdy6g1pGw",
        "outputId": "64663395-8a17-47cd-b6bb-9788a0c1e85c"
      },
      "execution_count": null,
      "outputs": [
        {
          "output_type": "stream",
          "name": "stdout",
          "text": [
            "The salary is:10000\n",
            "The salary is:5000.0\n"
          ]
        }
      ]
    },
    {
      "cell_type": "markdown",
      "source": [
        "Create an abstract class Polygon with an abstract method number_of_sides(). Implement two subclasses, Triangle and Pentagon, which return the respective number of sides. Instantiate both classes and print the number of sides."
      ],
      "metadata": {
        "id": "Uq3T5lBR5ioe"
      }
    },
    {
      "cell_type": "code",
      "source": [
        "from abc import ABC,abstractmethod\n",
        "\n",
        "class Polygon(ABC):\n",
        "\n",
        "  @abstractmethod\n",
        "  def number_of_sides(self):\n",
        "    pass\n",
        "\n",
        "class Triangle(Polygon):\n",
        "  def __init__(self,side):\n",
        "    self.side=side\n",
        "\n",
        "  def number_of_sides(self):\n",
        "    print(f\"The no.of sides of a trangle is:{self.side}\")\n",
        "\n",
        "\n",
        "class Pentagon(Polygon):\n",
        "  def __init__(self,side):\n",
        "    self.side=side\n",
        "\n",
        "  def number_of_sides(self):\n",
        "    print(f\"The no.of sides of a pentagon is:{self.side}\")\n",
        "\n",
        "\n",
        "t1=Triangle(3)\n",
        "t1.number_of_sides()\n",
        "\n",
        "p1=Pentagon(5)\n",
        "p1.number_of_sides()\n",
        "\n"
      ],
      "metadata": {
        "colab": {
          "base_uri": "https://localhost:8080/"
        },
        "id": "zPt7LcE85S9W",
        "outputId": "010f207f-299f-493e-ef63-b0f236100db6"
      },
      "execution_count": null,
      "outputs": [
        {
          "output_type": "stream",
          "name": "stdout",
          "text": [
            "The no.of sides of a trangle is:3\n",
            "The no.of sides of a pentagon is:5\n"
          ]
        }
      ]
    },
    {
      "cell_type": "markdown",
      "source": [
        "1. Define a Python class Student with the following private attributes:\n",
        "\n",
        "  __name to store the student's name.\n",
        "  __marks to store the student's marks.\n",
        "\n",
        "2. Implement the following public  getter and setter methods to access and modify these attributes securely:\n",
        "\n",
        "set_name(name) – A method to set the student's name.\n",
        "get_name() – A method to retrieve the student's name.\n",
        "set_marks(marks) – A method to set the student's marks (Ensure marks cannot be negative).\n",
        "get_marks() – A method to retrieve the student's marks."
      ],
      "metadata": {
        "id": "jNu0Osz28BgN"
      }
    },
    {
      "cell_type": "code",
      "source": [
        "class Student:\n",
        "\n",
        "  def __init__(self):\n",
        "    self.__name=\"\"\n",
        "    self.__marks=0\n",
        "  def set_name(self,name):\n",
        "    self.__name=name\n",
        "\n",
        "  def get_name(self):\n",
        "    print(f\"Name of the student:{self.__name}\")\n",
        "\n",
        "  def set_marks(self,marks):\n",
        "    if marks < 0:\n",
        "      print(\"Invalid marks\")\n",
        "    else:\n",
        "      self.__marks=marks\n",
        "\n",
        "  def get_marks(self):\n",
        "      print(f\"Name of the student:{self.__marks}\")\n",
        "\n",
        "\n",
        "s1=Student()\n",
        "s1.set_name(\"Drishya\")\n",
        "s1.get_name()\n",
        "\n",
        "s1.set_marks(98)\n",
        "s1.get_marks()\n",
        "\n",
        "\n",
        "\n"
      ],
      "metadata": {
        "colab": {
          "base_uri": "https://localhost:8080/"
        },
        "id": "RUZ407fK7WcV",
        "outputId": "0ae81dd1-03f9-4306-bdf0-4cc7fd5bfcd7"
      },
      "execution_count": null,
      "outputs": [
        {
          "output_type": "stream",
          "name": "stdout",
          "text": [
            "Name of the student:Drishya\n",
            "Name of the student:98\n"
          ]
        }
      ]
    },
    {
      "cell_type": "markdown",
      "source": [
        "Step1 : Define a Python class Employee with the following private attribute:\n",
        "\n",
        "__salary to store the employee's salary.A\n",
        "\n",
        "Step 2 : Implement the following public methods to securely access and modify the salary:\n",
        "\n",
        "-set_salary(salary) – A method to set the employee's salary (Ensure the salary is a positive value).\n",
        "-get_salary() – A method to retrieve the employee's current salary.\n",
        "-increase_salary(percentage) – A method to increase the salary by a given percentage securely and update the salary value.\n",
        "\n",
        "Step 3 : Demonstrate the usage of the class by:\n",
        "\n",
        "-Creating an instance of the Employee class.\n",
        "-Setting the salary to 50000 and printing it using the getter method.\n",
        "-Increasing the salary by 10% and printing the updated salary.\n",
        "-Dont allow negative salary , give warning message"
      ],
      "metadata": {
        "id": "SYFKL2xOBjrL"
      }
    },
    {
      "cell_type": "code",
      "source": [
        "class Employee:\n",
        "  def __init__(self):\n",
        "    self.__salary=0\n",
        "\n",
        "\n",
        "  def set_salary(self,salary):\n",
        "    if salary < 0:\n",
        "      print(\"Salary can't be negative\")\n",
        "    else:\n",
        "      self.__salary=salary\n",
        "\n",
        "  def get_salary(self):\n",
        "    print(f\"The current salary of employee is:{self.__salary}\")\n",
        "\n",
        "  def increase_salary(self,percentage):\n",
        "    per_centage = self.__salary/100\n",
        "    print(f\"The updated salary is:{(percentage*per_centage)+self.__salary}\")\n",
        "\n",
        "e1=Employee()\n",
        "e1.set_salary(50000)\n",
        "e1.get_salary()\n",
        "e1.increase_salary(10)\n",
        "\n",
        "\n"
      ],
      "metadata": {
        "colab": {
          "base_uri": "https://localhost:8080/"
        },
        "id": "hkdWaJXx-lnz",
        "outputId": "2ea37a7e-caf3-48fc-ed30-ee6daba4b916"
      },
      "execution_count": null,
      "outputs": [
        {
          "output_type": "stream",
          "name": "stdout",
          "text": [
            "The current salary of employee is:50000\n",
            "The updated salary is:55000.0\n"
          ]
        }
      ]
    },
    {
      "cell_type": "markdown",
      "source": [
        "#File Handling"
      ],
      "metadata": {
        "id": "Q2p8O8l2IHV4"
      }
    },
    {
      "cell_type": "code",
      "source": [
        "#open() -open a file\n",
        "#Open a file named \"example.txt\" in write mode\n",
        "file=open(\"example.txt\",\"w\")\n",
        "\n",
        "\n",
        "#Write some text to the file\n",
        "file.write(\"Hello,this is a simple file handling example in python\")\n",
        "\n",
        "\n",
        "#close the file\n",
        "file.close()"
      ],
      "metadata": {
        "id": "VIkQGUBqG_GH"
      },
      "execution_count": null,
      "outputs": []
    },
    {
      "cell_type": "code",
      "source": [
        "#open the file in read mode\n",
        "file=open(\"example.txt\",\"r\")\n",
        "\n",
        "#read the file content\n",
        "content=file.read()\n",
        "\n",
        "#print the content\n",
        "print(content)\n",
        "\n",
        "#close the file\n",
        "file.close()"
      ],
      "metadata": {
        "colab": {
          "base_uri": "https://localhost:8080/"
        },
        "id": "uTDN-ISHOv49",
        "outputId": "8a680332-4cea-4874-dbd7-8ea52f6d2e3e"
      },
      "execution_count": null,
      "outputs": [
        {
          "output_type": "stream",
          "name": "stdout",
          "text": [
            "Hello,this is a simple file handling example in python\n"
          ]
        }
      ]
    },
    {
      "cell_type": "code",
      "source": [
        "#append content\n",
        "file=open(\"example.txt\",\"a\")\n",
        "file.write(\"\\nThis will add this line\")\n",
        "file.close()\n"
      ],
      "metadata": {
        "id": "RiI-JQZYP-bV"
      },
      "execution_count": null,
      "outputs": []
    },
    {
      "cell_type": "code",
      "source": [
        "#writing to file using with statement\n",
        "with open(\"sample.txt\",\"w\") as file:\n",
        "  file.write(\" File handling using with statement \")"
      ],
      "metadata": {
        "id": "Chz98TJjR55E"
      },
      "execution_count": null,
      "outputs": []
    },
    {
      "cell_type": "code",
      "source": [
        "#Reading from a file using with statement\n",
        "with open(\"sample.txt\",\"r\") as file:\n",
        "  content=file.read()\n",
        "  print(content)"
      ],
      "metadata": {
        "colab": {
          "base_uri": "https://localhost:8080/"
        },
        "id": "nmFftSmaZ0GZ",
        "outputId": "02e80f13-2088-4407-cfaa-12b9a322a632"
      },
      "execution_count": null,
      "outputs": [
        {
          "output_type": "stream",
          "name": "stdout",
          "text": [
            " File handling using with statement \n"
          ]
        }
      ]
    },
    {
      "cell_type": "code",
      "source": [
        "#Reading from a file using with statement\n",
        "with open(\"sample.txt\",\"r\") as file:\n",
        "  content=file.read()\n",
        "  print(content.split(\" \")) #split is used to split the sentence\n",
        "  print(content)"
      ],
      "metadata": {
        "colab": {
          "base_uri": "https://localhost:8080/"
        },
        "id": "C3v06qKKVzI6",
        "outputId": "993358f7-c30b-4a00-c02e-1a55f6598d72"
      },
      "execution_count": null,
      "outputs": [
        {
          "output_type": "stream",
          "name": "stdout",
          "text": [
            "['', 'File', 'handling', 'using', 'with', 'statement', '']\n",
            " File handling using with statement \n"
          ]
        }
      ]
    },
    {
      "cell_type": "code",
      "source": [
        "with open(\"sample.txt\",\"r\") as file:\n",
        "  content=file.read()\n",
        "  print(content.strip())   #used to remove white spaces\n",
        "  print(content)"
      ],
      "metadata": {
        "colab": {
          "base_uri": "https://localhost:8080/"
        },
        "id": "13cSO32OYerh",
        "outputId": "a61219b6-ff30-4027-8b40-7739a8993b6e"
      },
      "execution_count": null,
      "outputs": [
        {
          "output_type": "stream",
          "name": "stdout",
          "text": [
            "File handling using with statement\n",
            " File handling using with statement \n"
          ]
        }
      ]
    },
    {
      "cell_type": "code",
      "source": [],
      "metadata": {
        "colab": {
          "base_uri": "https://localhost:8080/"
        },
        "id": "RI7rxI6qWdNC",
        "outputId": "560a1dae-38c2-4a8a-f5a7-07e7eba0e34a"
      },
      "execution_count": null,
      "outputs": [
        {
          "output_type": "stream",
          "name": "stdout",
          "text": [
            "File handling using with statement\n"
          ]
        }
      ]
    },
    {
      "cell_type": "markdown",
      "source": [
        "#Threading\n",
        "Threading allows multiple parts of program to run concurrently\n",
        "- **Useful for tasks like:**\n",
        " - Handling multiple user requests.\n",
        " - Background tasks (eg. monitoring sensors).\n",
        " - Downloading multiple files simultaneously.\n",
        "\n",
        " ## Example\n",
        "  **Smart Home App :-**\n",
        "   - Mananging multiple tasks like:\n",
        "    - Secutiy camera feed.\n",
        "    - Processing tempreture data.\n",
        "    - Respnding to user commands.\n",
        "\n",
        "- Threading ensures smooth and efficient functioning.\n",
        "\n",
        "\n",
        "## How to use Threading in Python\n",
        " - 1. Import the threading module.\n",
        " - 2. Create threads using **threading.Thread( )**\n",
        " - 3. Start threads using  ,**start( )**\n",
        " - 4. Wait for threads to finish using **.join( )**"
      ],
      "metadata": {
        "id": "CoadEKpxAMwR"
      }
    },
    {
      "cell_type": "code",
      "source": [
        "#Example 1`:Basic Thread\n",
        "\n",
        "import threading\n",
        "\n",
        "def task():\n",
        "  print(\"THREAD RUNNING\")\n",
        "\n",
        "thread = threading.Thread(target=task)\n",
        "thread.start()\n",
        "\n",
        "thread.join()\n"
      ],
      "metadata": {
        "id": "_Rp4Bo_qYEeA",
        "colab": {
          "base_uri": "https://localhost:8080/"
        },
        "outputId": "ab04d9fa-4a00-41cf-a8fa-1895e4b5e89d"
      },
      "execution_count": null,
      "outputs": [
        {
          "output_type": "stream",
          "name": "stdout",
          "text": [
            "THREAD RUNNING\n"
          ]
        }
      ]
    },
    {
      "cell_type": "code",
      "source": [
        "#Example2:Mutltiple Threads\n",
        "import threading\n",
        "def task1():\n",
        "  print(\"Task1\")\n",
        "\n",
        "\n",
        "def task2():\n",
        "  print(\"Task2\")\n",
        "\n",
        "\n",
        "t1=threading.Thread(target=task1)\n",
        "t2=threading.Thread(target=task2)\n",
        "\n",
        "t1.start()\n",
        "t2.start()\n",
        "\n",
        "t1.join()\n",
        "t2.join()"
      ],
      "metadata": {
        "colab": {
          "base_uri": "https://localhost:8080/"
        },
        "id": "VUdS7KBhB2BX",
        "outputId": "29ad2661-1a27-4c73-eca5-63e127039703"
      },
      "execution_count": null,
      "outputs": [
        {
          "output_type": "stream",
          "name": "stdout",
          "text": [
            "Task1\n",
            "Task2\n"
          ]
        }
      ]
    },
    {
      "cell_type": "code",
      "source": [
        "import threading\n",
        "\n",
        "def print_numbers():\n",
        "  for i in range(5):\n",
        "    print(i)\n",
        "\n",
        "\n",
        "thread=threading.Thread(target=print_numbers)\n",
        "thread.start()\n",
        "thread.join()"
      ],
      "metadata": {
        "colab": {
          "base_uri": "https://localhost:8080/"
        },
        "id": "E7Hi2wyzCttP",
        "outputId": "0d8f1268-a563-4121-9fa2-b2738811c436"
      },
      "execution_count": null,
      "outputs": [
        {
          "output_type": "stream",
          "name": "stdout",
          "text": [
            "0\n",
            "1\n",
            "2\n",
            "3\n",
            "4\n"
          ]
        }
      ]
    },
    {
      "cell_type": "code",
      "source": [
        "import threading\n",
        "import time\n",
        "\n",
        "def download_file(file):\n",
        "  print(f\"downloading{file}....\")\n",
        "  time.sleep(2)\n",
        "  print(f\"{file} dwonloaded.\")\n",
        "\n",
        "\n",
        "\n",
        "files=[\"file1.txt\",\"file2.txt\",\"file3.txt\"]\n",
        "threads=[threading.Thread(target=download_file,args=(f,))for f in files]\n",
        "\n",
        "for t in threads:\n",
        "  t.start()\n",
        "\n",
        "for i in threads:\n",
        "  t.join()"
      ],
      "metadata": {
        "colab": {
          "base_uri": "https://localhost:8080/"
        },
        "id": "sNxdYS6TDVjW",
        "outputId": "bf006d7d-f077-4821-b8d6-ea64b9303010"
      },
      "execution_count": null,
      "outputs": [
        {
          "output_type": "stream",
          "name": "stdout",
          "text": [
            "downloadingfile1.txt....\n",
            "downloadingfile2.txt....\n",
            "downloadingfile3.txt....\n",
            "file1.txt dwonloaded.\n",
            "file2.txt dwonloaded.\n",
            "file3.txt dwonloaded.\n"
          ]
        }
      ]
    },
    {
      "cell_type": "code",
      "source": [
        "#using threads with arguments\n",
        "\n",
        "import threading\n",
        "def greet(name):\n",
        "  print(f\"Hello,{name}\")\n",
        "\n",
        "thread=threading.Thread(target=greet,args=(\"alice\",))\n",
        "thread.start()\n",
        "thread.join()"
      ],
      "metadata": {
        "colab": {
          "base_uri": "https://localhost:8080/"
        },
        "id": "LNWYDEdRE0au",
        "outputId": "71bab43d-0109-4ba8-d6cb-79ddf2c303c6"
      },
      "execution_count": null,
      "outputs": [
        {
          "output_type": "stream",
          "name": "stdout",
          "text": [
            "Hello,alice\n"
          ]
        }
      ]
    },
    {
      "cell_type": "code",
      "source": [
        "import threading\n",
        "import time\n",
        "\n",
        "#Function for the chef's work(thread1)\n",
        "def chef_work():\n",
        "  for i in range(5):  # Chef prepares 5 dishes\n",
        "    print(f\"Chef:Preparing dish{i+1}\")\n",
        "    time.sleep(2) # Simulate time taken to prepare a dish\n",
        "    if i==2:    # Assistant starts washing utensils during the 3rd dish\n",
        "      print(f\"Chef:preparing dish {i+1}\")\n",
        "      time.sleep(1)   # Simulate time taken to call the assistant\n",
        "      assistant_thread = threading.Thread(target=assistant_work)\n",
        "      assistant_thread.start()\n",
        "      assistant_thread.join()    # Wait for the assistant to finish\n",
        "      print(\"Chef:Assistant done.Resuming dish preperation\")\n",
        "  print(\"Chef:All dishes are prepared\")\n",
        "\n",
        "\n",
        "# Function for the assistant's work (Thread 2)\n",
        "def assistant_work():\n",
        "  for j in range(3):    # Assistant washes 3 utensils\n",
        "    print(f\"Assistant: Washing utensil {j+1}\")\n",
        "    time.sleep(2)   # Simulate time taken to wash each utensil\n",
        "  print(\"Assistant :All utensil are clean\")\n",
        "\n",
        "\n",
        "\n",
        "print(\"Kitchen: Starting work.\")\n",
        "chef_thread = threading.Thread(target=chef_work)\n",
        "chef_thread.start()\n",
        "chef_thread.join()  # Wait for the chef to complete their work\n",
        "print(\"Kitchen: All work completed.\")\n"
      ],
      "metadata": {
        "id": "hmOrG6RuFqn4",
        "colab": {
          "base_uri": "https://localhost:8080/"
        },
        "outputId": "861d3ec5-4276-4bc5-a019-cdfd949164cd"
      },
      "execution_count": null,
      "outputs": [
        {
          "output_type": "stream",
          "name": "stdout",
          "text": [
            "Kitchen: Starting work.\n",
            "Chef:Preparing dish1\n",
            "Chef:Preparing dish2\n",
            "Chef:Preparing dish3\n",
            "Chef:preparing dish 3\n",
            "Assistant: Washing utensil 1\n",
            "Assistant: Washing utensil 2\n",
            "Assistant: Washing utensil 3\n",
            "Assistant :All utensil are clean\n",
            "Chef:Assistant done.Resuming dish preperation\n",
            "Chef:Preparing dish4\n",
            "Chef:Preparing dish5\n",
            "Chef:All dishes are prepared\n",
            "Kitchen: All work completed.\n"
          ]
        }
      ]
    },
    {
      "cell_type": "markdown",
      "source": [
        "###Question\n",
        "Write a Python program using threading to simulate music playback and lyrics downloading:\n",
        "\n",
        "Music playback runs in one thread for 5 seconds, printing a message each second.\n",
        "During the 3rd second, a separate thread starts to simulate downloading lyrics, which takes 3 seconds.\n",
        "Ensure the music playback waits for the lyrics to finish downloading before continuing."
      ],
      "metadata": {
        "id": "ZYbrCA7oNY1p"
      }
    },
    {
      "cell_type": "markdown",
      "source": [
        "**Output**\n",
        "\n",
        "Music Player: Starting music playback.\n",
        "Music Player: Playing music... 1 seconds\n",
        "Music Player: Playing music... 2 seconds\n",
        "Music Player: Playing music... 3 seconds\n",
        "Music Player: Downloading lyrics in the background.\n",
        "  Downloading lyrics... 1 seconds\n",
        "  Downloading lyrics... 2 seconds\n",
        "  Downloading lyrics... 3 seconds\n",
        "  Lyrics download completed.\n",
        "Music Player: Lyrics downloaded.\n",
        "Music Player: Playing music... 4 seconds\n",
        "Music Player: Playing music... 5 seconds\n",
        "Music Player: Playback ended"
      ],
      "metadata": {
        "id": "OqftFKSlNlzn"
      }
    },
    {
      "cell_type": "code",
      "source": [
        "import threading\n",
        "import time\n",
        "\n",
        "def music_player():\n",
        "  for i in range(5):\n",
        "    print(f\"Music is playing...{i+1}seconds...\")\n",
        "    time.sleep(2)\n",
        "    if i==2:\n",
        "      print(f\"Downloading lyrics in the background.\")\n",
        "      downloading_thread=threading.Thread(target=download_lyrics)\n",
        "      downloading_thread.start()\n",
        "      downloading_thread.join()\n",
        "      print(f\"Music Downloaded...Resume playing Music\")\n",
        "  print(f\"Music played for 5 sec....stop\")\n",
        "\n",
        "\n",
        "\n",
        "def download_lyrics():\n",
        "  for j in range(3):\n",
        "    print(f\"Download music {j+1}seconds\")\n",
        "  print(f\"Music downloaded\")\n",
        "\n",
        "\n",
        "print(\"Let's play Music.....\")\n",
        "playing_thread=threading.Thread(target=music_player)\n",
        "playing_thread.start()\n",
        "playing_thread.join()\n",
        "print(\"Music played and downloaded\")\n"
      ],
      "metadata": {
        "colab": {
          "base_uri": "https://localhost:8080/"
        },
        "id": "EtxrLIvAKLmQ",
        "outputId": "d0f0a0d8-fc62-46bb-f973-58a3b7e26f69"
      },
      "execution_count": null,
      "outputs": [
        {
          "output_type": "stream",
          "name": "stdout",
          "text": [
            "Let's play Music.....\n",
            "Music is playing...1seconds...\n",
            "Music is playing...2seconds...\n",
            "Music is playing...3seconds...\n",
            "Music is playing...3seconds...\n",
            "Download music 1seconds\n",
            "Download music 2seconds\n",
            "Download music 3seconds\n",
            "Music downloaded\n",
            "Music Downloaded...Resume playing Music\n",
            "Music is playing...4seconds...\n",
            "Music is playing...5seconds...\n",
            "Music played for 5 sec....stop\n",
            "Music played and downloaded\n"
          ]
        }
      ]
    },
    {
      "cell_type": "markdown",
      "source": [
        "#Practice questions-Threading"
      ],
      "metadata": {
        "id": "vs2uAQ9TfLtx"
      }
    },
    {
      "cell_type": "markdown",
      "source": [
        "1.Write a program where one thread prints \"Working...\" 5 times with 1-second delay."
      ],
      "metadata": {
        "id": "1W8peJQpfc3Q"
      }
    },
    {
      "cell_type": "code",
      "source": [
        "import threading\n",
        "import time\n",
        "def work_fun():\n",
        "  for i in range(5):\n",
        "    print(f\"Working....\")\n",
        "    time.sleep(1)\n",
        "\n",
        "thread=threading.Thread(target=work_fun)\n",
        "thread.start()\n",
        "thread.join()"
      ],
      "metadata": {
        "id": "EC7rJC3bPx2x",
        "colab": {
          "base_uri": "https://localhost:8080/"
        },
        "outputId": "f74576e2-0b93-4118-d6e0-491207331892"
      },
      "execution_count": null,
      "outputs": [
        {
          "output_type": "stream",
          "name": "stdout",
          "text": [
            "Working....\n",
            "Working....\n",
            "Working....\n",
            "Working....\n",
            "Working....\n"
          ]
        }
      ]
    },
    {
      "cell_type": "markdown",
      "source": [
        "2.Create two threads where one prints \"A\" five times and the other prints \"B\" five times."
      ],
      "metadata": {
        "id": "kT_VXSVagp8y"
      }
    },
    {
      "cell_type": "code",
      "source": [
        "import threading\n",
        "import time\n",
        "\n",
        "def fun_a():\n",
        "  for i in range(5):\n",
        "    print(f\"A\")\n",
        "    time.sleep(1)\n",
        "\n",
        "\n",
        "def fun_b():\n",
        "  for j in range(5):\n",
        "    print(f\"B\")\n",
        "    time.sleep(1)\n",
        "\n",
        "thread1=threading.Thread(target=fun_a)\n",
        "thread2=threading.Thread(target=fun_b)\n",
        "\n",
        "thread1.start()\n",
        "thread1.join()\n",
        "thread2.start()\n",
        "\n",
        "thread2.join()\n"
      ],
      "metadata": {
        "colab": {
          "base_uri": "https://localhost:8080/"
        },
        "id": "1bOfTheHgfnC",
        "outputId": "581c7c17-a727-4971-ac77-9edca6391f9c"
      },
      "execution_count": null,
      "outputs": [
        {
          "output_type": "stream",
          "name": "stdout",
          "text": [
            "A\n",
            "A\n",
            "A\n",
            "A\n",
            "A\n",
            "B\n",
            "B\n",
            "B\n",
            "B\n",
            "B\n"
          ]
        }
      ]
    },
    {
      "cell_type": "markdown",
      "source": [
        "3.Start a background thread that prints a message every 2 seconds while the main thread prints \"Main running\"."
      ],
      "metadata": {
        "id": "DckAlqLJiGUL"
      }
    },
    {
      "cell_type": "code",
      "source": [
        "import threading\n",
        "import time\n",
        "\n",
        "def bg_fun():\n",
        "  for i in range(3):\n",
        "    print(f\"Background running\")\n",
        "    time.sleep(2)\n",
        "\n",
        "bg_thread=threading.Thread(target=bg_fun)\n",
        "bg_thread.start()\n",
        "\n",
        "for _ in range(5):\n",
        "    print(\"Main running\")\n",
        "    time.sleep(1)\n",
        "\n",
        "bg_thread.join()"
      ],
      "metadata": {
        "colab": {
          "base_uri": "https://localhost:8080/"
        },
        "id": "yM16J_igho9i",
        "outputId": "9e3afd73-c6a4-4ef2-b3ac-10272834dcc7"
      },
      "execution_count": null,
      "outputs": [
        {
          "output_type": "stream",
          "name": "stdout",
          "text": [
            "Background running\n",
            "Main running\n",
            "Main running\n",
            "Background runningMain running\n",
            "\n",
            "Main running\n",
            "Background running\n",
            "Main running\n"
          ]
        }
      ]
    },
    {
      "cell_type": "markdown",
      "source": [
        "4.Create a countdown from 5 to 1 using a thread."
      ],
      "metadata": {
        "id": "hJ3cUO4vk-lr"
      }
    },
    {
      "cell_type": "code",
      "source": [
        "import threading\n",
        "import time\n",
        "\n",
        "def count_dwn():\n",
        "  for i in range(5,0,-1):\n",
        "    print(i)\n",
        "\n",
        "count_thread=threading.Thread(target=count_dwn)\n",
        "count_thread.start()\n",
        "count_thread.join()"
      ],
      "metadata": {
        "colab": {
          "base_uri": "https://localhost:8080/"
        },
        "id": "4NSyjou7jN2y",
        "outputId": "a6136ab1-259f-4f19-f644-01fd5b3b9302"
      },
      "execution_count": null,
      "outputs": [
        {
          "output_type": "stream",
          "name": "stdout",
          "text": [
            "5\n",
            "4\n",
            "3\n",
            "2\n",
            "1\n"
          ]
        }
      ]
    },
    {
      "cell_type": "markdown",
      "source": [
        "5.Create a file download simulation that starts halfway through a main task.\n",
        "\n",
        "\n",
        "\n",
        "*   Main task runs for 6 seconds.\n",
        "*   Start download thread at second 3.\n",
        "\n",
        "\n",
        "*   Ensure main thread waits for download to finish before continuing.\n",
        "\n",
        "\n",
        "\n",
        "\n",
        "\n",
        "\n",
        "\n",
        "\n",
        "\n",
        "\n"
      ],
      "metadata": {
        "id": "rDeKGEnHmKcl"
      }
    },
    {
      "cell_type": "code",
      "source": [
        "import threading\n",
        "import time\n",
        "\n",
        "def main_task():\n",
        "  for i in range(6):\n",
        "    print(f\"Main task running for {i+1} seconds\")\n",
        "    time.sleep(2)\n",
        "    if i==2:\n",
        "      print(\"wait for download to finish\")\n",
        "      dwnld_thread=threading.Thread(target=dwnld_file)\n",
        "      dwnld_thread.start()\n",
        "      dwnld_thread.join()\n",
        "      print(f\"File Downloaded...Resume running task\")\n",
        "\n",
        "\n",
        "def dwnld_file():\n",
        "  for i in range(3):\n",
        "    print(f\"file downloading {i+1} second\")\n",
        "    time.sleep(1)\n",
        "\n",
        "print(\"Main task running......\")\n",
        "main_thread=threading.Thread(target=main_task)\n",
        "main_thread.start()\n",
        "main_thread.join()\n"
      ],
      "metadata": {
        "colab": {
          "base_uri": "https://localhost:8080/"
        },
        "id": "Mai_Q5zfl_PL",
        "outputId": "72027f49-03b3-45a7-d10d-3fa11e6c00f6"
      },
      "execution_count": null,
      "outputs": [
        {
          "output_type": "stream",
          "name": "stdout",
          "text": [
            "Main task running......\n",
            "Main task running for 1 seconds\n",
            "Main task running for 2 seconds\n",
            "Main task running for 3 seconds\n",
            "wait for download to finish\n",
            "file downloading 1 second\n",
            "file downloading 2 second\n",
            "file downloading 3 second\n",
            "File Downloaded...Resume running task\n",
            "Main task running for 4 seconds\n",
            "Main task running for 5 seconds\n",
            "Main task running for 6 seconds\n"
          ]
        }
      ]
    },
    {
      "cell_type": "markdown",
      "source": [
        "#Iterator\n",
        "An iterator is an object that contains a countable number of values.  \n",
        "\n",
        "\n",
        "*   Technically in python,an iterator is an object which implements the iterator protocol,which consist of the methods __iter__() and __next__().\n",
        "\n",
        "\n"
      ],
      "metadata": {
        "id": "pvHNPWwgsLs3"
      }
    },
    {
      "cell_type": "code",
      "source": [
        "mytuple=(\"apple\",\"banana\",\"cherry\")\n",
        "myit=iter(mytuple)\n",
        "print(next(myit))\n",
        "print(next(myit))\n",
        "print(next(myit))"
      ],
      "metadata": {
        "colab": {
          "base_uri": "https://localhost:8080/"
        },
        "id": "X-0CsEvhpzWH",
        "outputId": "3e484b8d-0fb9-4e84-dc91-5f939c4adef5"
      },
      "execution_count": null,
      "outputs": [
        {
          "output_type": "stream",
          "name": "stdout",
          "text": [
            "apple\n",
            "banana\n",
            "cherry\n"
          ]
        }
      ]
    },
    {
      "cell_type": "code",
      "source": [
        "class MyNumbers:\n",
        "  def __iter__(self):\n",
        "    self.a=1\n",
        "    return self\n",
        "  def __next__(self):\n",
        "    x=self.a\n",
        "    self.a+=1\n",
        "    return x\n",
        "\n",
        "myclass=MyNumbers()\n",
        "myiter=iter(myclass)\n",
        "print(next(myiter))\n",
        "print(next(myiter))\n",
        "print(next(myiter))\n",
        "print(next(myiter))"
      ],
      "metadata": {
        "colab": {
          "base_uri": "https://localhost:8080/"
        },
        "id": "WH6Gfc4tv79I",
        "outputId": "7e6bf3f0-85d5-432b-a021-b5a7e27c3da1"
      },
      "execution_count": null,
      "outputs": [
        {
          "output_type": "stream",
          "name": "stdout",
          "text": [
            "1\n",
            "2\n",
            "3\n",
            "4\n"
          ]
        }
      ]
    },
    {
      "cell_type": "markdown",
      "source": [
        "#Generator\n",
        "\n",
        "\n",
        "*  Typically ,python executes a regular function from top to bottom based on the run to completion model.\n",
        "*   To pause a function midway and resume from where the function was paused,you use the yield statement.\n",
        "\n",
        "\n",
        "*   When a function contains at least one yield statement,it's a generator function\n",
        "*  Generator are lazy iterator.Therefore to execute a generator function,you call the next() built-in function on it.\n",
        "\n",
        "\n",
        "\n"
      ],
      "metadata": {
        "id": "kbx9znSwuTRP"
      }
    },
    {
      "cell_type": "code",
      "source": [
        "def greeting():\n",
        "  print('Hi!')\n",
        "  yield 1\n",
        "  print('How are you')\n",
        "  yield 2\n",
        "  print('Are you there')\n",
        "  yield 3\n"
      ],
      "metadata": {
        "id": "lSqso7GeuJQH"
      },
      "execution_count": null,
      "outputs": []
    },
    {
      "cell_type": "code",
      "source": [
        "messenger=greeting()"
      ],
      "metadata": {
        "id": "uNUpo-auvYTv"
      },
      "execution_count": null,
      "outputs": []
    },
    {
      "cell_type": "code",
      "source": [
        "result=next(messenger)\n",
        "print(result)"
      ],
      "metadata": {
        "colab": {
          "base_uri": "https://localhost:8080/"
        },
        "id": "LtFK1oOuvqvm",
        "outputId": "515123a9-4dc0-4f14-9e0b-e9b85e0773f9"
      },
      "execution_count": null,
      "outputs": [
        {
          "output_type": "stream",
          "name": "stdout",
          "text": [
            "Hi!\n",
            "1\n"
          ]
        }
      ]
    },
    {
      "cell_type": "markdown",
      "source": [
        "#Exception Handling\n",
        "\n",
        "Exception handling is a programming concept used to manage error or unexpected conditions that occure during the exicution of a programme .it alles the programe to continue running of failgracefully instead of crashing .\n",
        "\n",
        "# Use Exception Handling?\n",
        " - To prevent the entire program from crashing due to runtime errors.\n",
        "\n",
        " - To provide informative error messages.\n",
        "\n",
        " - To allow recovery or alternative execution paths.\n",
        "#Common Terms\n",
        "\n",
        " - Exception: An error that occurs during program execution.\n",
        "\n",
        " - Try block: Code that might throw an exception.\n",
        "\n",
        " - Except block: Code that runs if an exception occurs.\n",
        "\n",
        " - Finally block: Code that always runs, whether an exception occurred or not.\n",
        "\n",
        " - Raise: Manually trigger an exception.\n"
      ],
      "metadata": {
        "id": "iw4Oe-PF9McK"
      }
    },
    {
      "cell_type": "code",
      "source": [
        "#Example\n",
        "a=[1,2,3]\n",
        "try:\n",
        "  print(\"Second element=%d\"%(a[1]))\n",
        "  print(\"Fourth element=%d\"%(a[3]))\n",
        "except:\n",
        "  print(\"An error occured\")"
      ],
      "metadata": {
        "id": "s43a1uAPv2XW",
        "colab": {
          "base_uri": "https://localhost:8080/"
        },
        "outputId": "e1aee99a-ce85-42da-d50a-76ee696757de"
      },
      "execution_count": null,
      "outputs": [
        {
          "output_type": "stream",
          "name": "stdout",
          "text": [
            "Second element=2\n",
            "An error occured\n"
          ]
        }
      ]
    },
    {
      "cell_type": "markdown",
      "source": [
        "#Regular Expression\n",
        "\n",
        "A RegEx or Regular expression is a sequence of characters that forms a search pattern\n",
        "\n",
        "RegEX can be used to check if a string contains the specified search pattern\n",
        "\n",
        "**RegEX Module**\n",
        "\n",
        "Python has a built in package called re,which can be used to work with regular expressions.\n",
        "\n",
        "import re"
      ],
      "metadata": {
        "id": "0fz0Iemt91lG"
      }
    },
    {
      "cell_type": "code",
      "source": [
        "#search()fuction\n",
        "import re\n",
        "txt=\"The rain in Spain\"\n",
        "x=re.search(\"^The.*Spain$\",txt)\n",
        "if x:\n",
        "  print(\"YES!We have a match!!\")\n",
        "else:\n",
        "  print(\"No match\")"
      ],
      "metadata": {
        "colab": {
          "base_uri": "https://localhost:8080/"
        },
        "id": "jcUgVcqQX1ld",
        "outputId": "0e338fe9-4545-478f-82bc-1b5a37456885"
      },
      "execution_count": null,
      "outputs": [
        {
          "output_type": "stream",
          "name": "stdout",
          "text": [
            "YES!We have a match!!\n"
          ]
        }
      ]
    },
    {
      "cell_type": "code",
      "source": [
        "#finfall()fuction\n",
        "\n",
        "import re\n",
        "txt=\"The rain in Spain\"\n",
        "x=re.findall(\"ai\",txt)\n",
        "print(x)\n"
      ],
      "metadata": {
        "colab": {
          "base_uri": "https://localhost:8080/"
        },
        "id": "KOY9LOdl_2-3",
        "outputId": "3f7a2ea6-39e3-4e7c-c143-b74a785e9fe9"
      },
      "execution_count": null,
      "outputs": [
        {
          "output_type": "stream",
          "name": "stdout",
          "text": [
            "['ai', 'ai']\n"
          ]
        }
      ]
    },
    {
      "cell_type": "code",
      "source": [
        "#example2\n",
        "import re\n",
        "txt=\"The rain in Spain\"\n",
        "x=re.findall(\"portugal\",txt)  #check if portugal is in the string\n",
        "print(x)\n",
        "if(x):\n",
        "  print(\"Yes,there is atleast one match\")\n",
        "else:\n",
        "  print(\"No match\")\n"
      ],
      "metadata": {
        "colab": {
          "base_uri": "https://localhost:8080/"
        },
        "id": "F_60coPBAX02",
        "outputId": "af9a68aa-2c13-43a7-a0ee-64eaf2d55883"
      },
      "execution_count": null,
      "outputs": [
        {
          "output_type": "stream",
          "name": "stdout",
          "text": [
            "[]\n",
            "No match\n"
          ]
        }
      ]
    },
    {
      "cell_type": "code",
      "source": [
        "#split function\n",
        "\n",
        "import re\n",
        "txt = \"The rain in spain\"\n",
        "x=re.split(\"\\s\",txt)\n",
        "print(x)"
      ],
      "metadata": {
        "id": "fExLDEPmBWdO",
        "colab": {
          "base_uri": "https://localhost:8080/"
        },
        "outputId": "19fdbc0c-c6d8-4bba-bac9-9b78d2d3dd9e"
      },
      "execution_count": 1,
      "outputs": [
        {
          "output_type": "stream",
          "name": "stdout",
          "text": [
            "['The', 'rain', 'in', 'spain']\n"
          ]
        }
      ]
    },
    {
      "cell_type": "code",
      "source": [
        "import re\n",
        "txt = \"The rain in spain\"\n",
        "x=re.split(\"\\s\",txt,1) #split the string only at the first occurrence.\n",
        "print(x)"
      ],
      "metadata": {
        "colab": {
          "base_uri": "https://localhost:8080/"
        },
        "id": "XPudaPokgdx-",
        "outputId": "96441327-f95c-4905-b16c-7830df37257f"
      },
      "execution_count": 2,
      "outputs": [
        {
          "output_type": "stream",
          "name": "stdout",
          "text": [
            "['The', 'rain in spain']\n"
          ]
        }
      ]
    },
    {
      "cell_type": "code",
      "source": [
        "#sub function\n",
        "import re\n",
        "txt=\"The rain in spain\"\n",
        "x=re.sub(\"\\s\",\"9\",txt)  #replace all white space character with the digit 9\n",
        "print(x)"
      ],
      "metadata": {
        "colab": {
          "base_uri": "https://localhost:8080/"
        },
        "id": "wL7QJq03gqQd",
        "outputId": "61b921fe-9ace-4de3-f77f-d1d139056a40"
      },
      "execution_count": 3,
      "outputs": [
        {
          "output_type": "stream",
          "name": "stdout",
          "text": [
            "The9rain9in9spain\n"
          ]
        }
      ]
    },
    {
      "cell_type": "code",
      "source": [
        "import re\n",
        "txt=\"The rain in spain\"\n",
        "x=re.sub(\"\\s\",\"9\",txt,2)  #replace the first 2 occurences of  white space character with the digit 9\n",
        "print(x)"
      ],
      "metadata": {
        "colab": {
          "base_uri": "https://localhost:8080/"
        },
        "id": "Do0VlvO9iCKf",
        "outputId": "60caf7e2-5ad2-4fb1-f7b8-3585996b1105"
      },
      "execution_count": 4,
      "outputs": [
        {
          "output_type": "stream",
          "name": "stdout",
          "text": [
            "The9rain9in spain\n"
          ]
        }
      ]
    },
    {
      "cell_type": "code",
      "source": [
        "import re\n",
        "txt=\"The rain in Spain\"\n",
        "x=re.search(\"ai\",txt)\n",
        "print(x)"
      ],
      "metadata": {
        "colab": {
          "base_uri": "https://localhost:8080/"
        },
        "id": "DMSbkeOGiNz9",
        "outputId": "ef73e238-6a1b-4c1c-fba3-b58997c54390"
      },
      "execution_count": 6,
      "outputs": [
        {
          "output_type": "stream",
          "name": "stdout",
          "text": [
            "<re.Match object; span=(5, 7), match='ai'>\n"
          ]
        }
      ]
    },
    {
      "cell_type": "code",
      "source": [
        "#span()- print the start and end position of the first match occurence\n",
        "#The regular expression looks for any words that start with an uppercase \"S\"\n",
        "\n",
        "import re\n",
        "txt=\"The rain in the Spain\"\n",
        "x=re.search(r\"\\bS\\w+\",txt)\n",
        "print(x.span())"
      ],
      "metadata": {
        "colab": {
          "base_uri": "https://localhost:8080/"
        },
        "id": "PPL5gjjBirM9",
        "outputId": "cc73a860-bef7-41df-dc45-8a83f6b101aa"
      },
      "execution_count": 7,
      "outputs": [
        {
          "output_type": "stream",
          "name": "stdout",
          "text": [
            "(16, 21)\n"
          ]
        }
      ]
    },
    {
      "cell_type": "code",
      "source": [
        "#print the part of the string where there was a match\n",
        "import re\n",
        "txt=\"The rain in the Spain\"\n",
        "x=re.search(r\"\\bS\\w+\",txt)\n",
        "print(x.group())"
      ],
      "metadata": {
        "colab": {
          "base_uri": "https://localhost:8080/"
        },
        "id": "FEqsvGSnjhnf",
        "outputId": "0c9ec042-8c77-4cde-d0ca-510abb862d48"
      },
      "execution_count": 8,
      "outputs": [
        {
          "output_type": "stream",
          "name": "stdout",
          "text": [
            "Spain\n"
          ]
        }
      ]
    },
    {
      "cell_type": "code",
      "source": [
        "#print the string passed through the function\n",
        "import re\n",
        "txt=\"The rain in the Spain\"\n",
        "x=re.search(r\"\\bS\\w+\",txt)\n",
        "print(x.string)"
      ],
      "metadata": {
        "colab": {
          "base_uri": "https://localhost:8080/"
        },
        "id": "Pden82KIj_-m",
        "outputId": "d56ae480-93e6-4793-806a-02bda36d4b16"
      },
      "execution_count": 9,
      "outputs": [
        {
          "output_type": "stream",
          "name": "stdout",
          "text": [
            "The rain in the Spain\n"
          ]
        }
      ]
    },
    {
      "cell_type": "code",
      "source": [],
      "metadata": {
        "id": "EVeQvK7akQVV"
      },
      "execution_count": null,
      "outputs": []
    }
  ]
}